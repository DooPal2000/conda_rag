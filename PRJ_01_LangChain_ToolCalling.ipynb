{
 "cells": [
  {
   "cell_type": "markdown",
   "id": "bf1cf819",
   "metadata": {},
   "source": [
    "## 1. 환경 설정"
   ]
  },
  {
   "cell_type": "markdown",
   "id": "bc0cb932",
   "metadata": {},
   "source": [
    "`(1) Env 환경변수`"
   ]
  },
  {
   "cell_type": "code",
   "execution_count": 35,
   "id": "423dec5b",
   "metadata": {},
   "outputs": [
    {
     "data": {
      "text/plain": [
       "True"
      ]
     },
     "execution_count": 35,
     "metadata": {},
     "output_type": "execute_result"
    }
   ],
   "source": [
    "from dotenv import load_dotenv\n",
    "load_dotenv()"
   ]
  },
  {
   "cell_type": "markdown",
   "id": "b00b09cb",
   "metadata": {},
   "source": [
    "`(2) 라이브러리`"
   ]
  },
  {
   "cell_type": "code",
   "execution_count": 2,
   "id": "54412ba6",
   "metadata": {},
   "outputs": [],
   "source": [
    "import re\n",
    "import os, json\n",
    "\n",
    "from textwrap import dedent\n",
    "from pprint import pprint\n",
    "\n",
    "import warnings\n",
    "warnings.filterwarnings(\"ignore\")"
   ]
  },
  {
   "cell_type": "markdown",
   "id": "50e67655",
   "metadata": {},
   "source": [
    "## 2. 도구 호출 (Tool Calling)\n",
    "- 도구 호출은 LLM이 특정 작업을 수행하기 위해 외부 기능을 호출하는 기능\n",
    "- 이를 통해 LLM은 외부 API 통합 등 더 복잡한 작업을 수행할 수 있음 "
   ]
  },
  {
   "cell_type": "markdown",
   "id": "7bdccc6b",
   "metadata": {},
   "source": [
    "### 2-1. 랭체인 내장 도구\n",
    "- Tavily 웹 검색 도구 (예시)"
   ]
  },
  {
   "cell_type": "markdown",
   "id": "a6f7e257",
   "metadata": {},
   "source": [
    "`(1) 도구(tool) 정의하기`"
   ]
  },
  {
   "cell_type": "code",
   "execution_count": 3,
   "id": "7c85ed38",
   "metadata": {},
   "outputs": [
    {
     "name": "stdout",
     "output_type": "stream",
     "text": [
      "{'url': 'https://m.blog.naver.com/wineislikeacat/223096696241', 'content': '등심 스테이크, 채끝 스테이크와 어울리는 와인 품종은? 카베르네 소비뇽, 시라 등!\\n\\n등심은 소의 등뼈를 둘러싸고 있는 부위입니다.\\n육질이 연하고 지방이 많아서 두꺼운 스테이크 구이용으로 최적이죠.\\n채끝은 등뼈에서 허리를 감싸는 뼈로 내려오는 쪽의 살인데요,\\n마블링 러버들의 선택을 쉽사리 받는 부위입니다.\\n\\u200b\\n등심과 채끝 스테이크는 모두 풍미가 진하고 지방맛이 강하게 느껴지기에,\\n중간에서 높음 사이의 적당한 탄닌과 산도를 가진 와인을 선택하면\\n씹는 맛의 긴 여운 속 느끼함을 잡아줄 수 있습니다.\\n\\u200b\\n이에 맞는 레드와인으로는\\n카베르네 소비뇽(Carbernet Sauvignon), 시라(Syrah) 품종을 추천드려요!\\n\\u200b\\n\\n안심 스테이크와 어울리는 와인\\n\\n안심 스테이크와 어울리는 와인 품종은? 산지오베제! [...] 우리동네내와인의 소고기 스테이크 부위별 레드와인 추천!\\n안녕하세요, 우리동네내와인입니다!\\n\\u200b\\n흔히 육류 스테이크 하면 레드와인이라고 알려져있죠?\\n이번 시간에는 이 공식을 조금 더 자세히 살펴보려 합니다.\\n특정 부위에 더 잘 어울리는 와인을 소개하는 방식으로요 :)\\n\\u200b\\n오늘 글을 읽으시다가 모르는 레드와인 종류가 나오면\\n아래 글도 한번 참고해보시길 바랍니다.\\n\\u200b\\n말벡? 쉬라즈? 그게 뭐야? 레드와인 포도 품종 알아보기! - 1편안녕하세요, 우리동네내와인입니다 :) 오늘 가져온 와인 상식은 바로 레드와인의 원료가 되는 포도 품종입... blog.naver.com\\n피노 누아? 네비올로? 그게 뭐야? 레드와인 포도 품종 알아보기! - 2편안녕하세요, 우리동네내와인입니다 :) 지난 시간엔 레드와인 포도 품종 4가지에 대해 알아보았는데요. 카베... blog.naver.com\\n\\u200b\\n\\n등심 & 채끝 스테이크와 어울리는 와인'}\n",
      "----------------------------------------------------------------------------------------------------\n",
      "{'url': 'https://mashija.com/%EC%8A%A4%ED%85%8C%EC%9D%B4%ED%81%AC%EC%99%80-%EC%96%B4%EC%9A%B8%EB%A6%AC%EB%8A%94-%EC%B5%9C%EA%B3%A0%EC%9D%98-%EC%99%80%EC%9D%B8-%EB%AC%B4%EC%97%87%EC%9D%84-%EA%B3%A0%EB%A5%BC-%EA%B2%83%EC%9D%B8/', 'content': 'Bora Kim 2022년 1월 27일\\n카베르네 소비뇽(Cabernet Sauvignon) 및 말벡(Malbec)과 같은 전형적인 선택부터 더 가벼운 레드 와인, 심지어 화이트 와인과 맛있는 스테이크를 페어링하는 방법까지, 우리의 아카이브에서 가져온 최고의 조언과 최근 디캔터 전문가가 추천한 와인을 소개한다. [...] <스테이크를 곁들인 레드 와인을 위한 5가지 전형적인 선택>\\n• 카베르네 소비뇽(Cabernet Sauvignon)\\n• 말벡(Malbec)\\n• 그르나슈/쉬라즈 블렌드(Grenache / Shiraz blends)\\n• 시라/쉬라즈(Syrah / Shiraz)\\n• 산지오베제(Sangiovese)\\n육즙이 풍부한 스테이크와 맛있는 와인이 있는 저녁 식사는 적어도 고기 애호가들에게 인생의 큰 즐거움일 것이다.\\n와인과 음식 페어링에서 새로운 시도를 하는 것은 항상 재미있지만, 특별한 스테이크 저녁 식사를 준비할 때 고려해야 할 몇 가지 스타일과 주의사항이 있다.\\n<스테이크에 곁들이는 레드 와인>\\n이 포도 품종을 세계 와인 무대에 재등장시키고 고품질 쇠고기에 대한 국가의 명성을 가진 아르헨티나 덕분에, 말벡 레드 와인은 스테이크와 함께 고전적인 매칭이 되었다. [...] 와인 전문가 카렌 맥닐(Karen MacNeil)은 음식과 와인 페어링에 대한 10가지 규칙에서 ‘구운(grilled) 스테이크를 곁들인 파워풀한 캘리포니아 카베르네 소비뇽은 이길 수 없다’라고 언급했다.\\n– 스테이크와 레드 와인에 대한 추가 옵션 –\\n2018년 디캔터와의 인터뷰에서 피터 리차즈(Peter Richards MW)는 “사람들이 스테이크와 함께 곁들일 와인으로 말벡이나 카베르네 소비뇽의 전통적인 조합을 뛰어넘어 볼 것을 강조한다.”라고 하였다.\\n‘멋지고 생동감 넘치는 카베르네 프랑(Cabernet Franc)은 어떤가? 아니면 카리냥(Carignan), 쌩소(Cinsault) 또는 서늘한 기후에서 생산한 시라(Syrah)는 어떨까? DWWA 칠레 지역 의장이자 Decanter Retailer Awards 회장인 리차즈는 “풀바디하지만 우아한 로제(rosé)도 따뜻한 날에는 잘 어울린다.”라고 말했다.'}\n",
      "----------------------------------------------------------------------------------------------------\n"
     ]
    }
   ],
   "source": [
    "from langchain_community.tools import TavilySearchResults\n",
    "\n",
    "# 검색할 쿼리 설정\n",
    "query = \"스테이크와 어울리는 와인을 추천해주세요.\"\n",
    "\n",
    "# Tavily 검색 도구 초기화 (최대 2개의 결과 반환)\n",
    "web_search = TavilySearchResults(max_results=2)\n",
    "\n",
    "# 웹 검색 실행\n",
    "search_results = web_search.invoke(query)\n",
    "\n",
    "# 검색 결과 출력\n",
    "for result in search_results:\n",
    "    print(result)  \n",
    "    print(\"-\" * 100)  "
   ]
  },
  {
   "cell_type": "code",
   "execution_count": 4,
   "id": "b6791575",
   "metadata": {},
   "outputs": [
    {
     "name": "stdout",
     "output_type": "stream",
     "text": [
      "자료형: \n",
      "<class 'langchain_community.tools.tavily_search.tool.TavilySearchResults'>\n",
      "----------------------------------------------------------------------------------------------------\n",
      "name: \n",
      "tavily_search_results_json\n",
      "----------------------------------------------------------------------------------------------------\n",
      "description: \n",
      "('A search engine optimized for comprehensive, accurate, and trusted results. '\n",
      " 'Useful for when you need to answer questions about current events. Input '\n",
      " 'should be a search query.')\n",
      "----------------------------------------------------------------------------------------------------\n",
      "schema: \n",
      "{'description': 'Input for the Tavily tool.',\n",
      " 'properties': {'query': {'description': 'search query to look up',\n",
      "                          'title': 'Query',\n",
      "                          'type': 'string'}},\n",
      " 'required': ['query'],\n",
      " 'title': 'TavilyInput',\n",
      " 'type': 'object'}\n",
      "----------------------------------------------------------------------------------------------------\n"
     ]
    }
   ],
   "source": [
    "# 도구 속성\n",
    "print(\"자료형: \")\n",
    "print(type(web_search))\n",
    "print(\"-\"*100)\n",
    "\n",
    "print(\"name: \")\n",
    "print(web_search.name)\n",
    "print(\"-\"*100)\n",
    "\n",
    "print(\"description: \")\n",
    "pprint(web_search.description)\n",
    "print(\"-\"*100)\n",
    "\n",
    "print(\"schema: \")\n",
    "pprint(web_search.args_schema.schema())\n",
    "print(\"-\"*100)"
   ]
  },
  {
   "cell_type": "markdown",
   "id": "88b600d9",
   "metadata": {},
   "source": [
    "`(2) 도구(tool) 호출하기`"
   ]
  },
  {
   "cell_type": "code",
   "execution_count": 5,
   "id": "51a3633c",
   "metadata": {},
   "outputs": [],
   "source": [
    "from langchain_openai import ChatOpenAI\n",
    "\n",
    "# ChatOpenAI 모델 초기화\n",
    "llm = ChatOpenAI(model=\"gpt-4o-mini\")\n",
    "\n",
    "# 웹 검색 도구를 직접 LLM에 바인딩 가능\n",
    "llm_with_tools = llm.bind_tools(tools=[web_search])"
   ]
  },
  {
   "cell_type": "code",
   "execution_count": 6,
   "id": "17d2468d",
   "metadata": {},
   "outputs": [
    {
     "name": "stdout",
     "output_type": "stream",
     "text": [
      "AIMessage(content='안녕하세요! 어떻게 도와드릴까요?', additional_kwargs={'refusal': None}, response_metadata={'token_usage': {'completion_tokens': 11, 'prompt_tokens': 82, 'total_tokens': 93, 'completion_tokens_details': {'accepted_prediction_tokens': 0, 'audio_tokens': 0, 'reasoning_tokens': 0, 'rejected_prediction_tokens': 0}, 'prompt_tokens_details': {'audio_tokens': 0, 'cached_tokens': 0}}, 'model_name': 'gpt-4o-mini-2024-07-18', 'system_fingerprint': 'fp_54eb4bd693', 'finish_reason': 'stop', 'logprobs': None}, id='run--48d5e024-dcea-4dc6-8bcc-f6e9d3a0371a-0', usage_metadata={'input_tokens': 82, 'output_tokens': 11, 'total_tokens': 93})\n",
      "----------------------------------------------------------------------------------------------------\n",
      "'안녕하세요! 어떻게 도와드릴까요?'\n",
      "----------------------------------------------------------------------------------------------------\n",
      "[]\n",
      "----------------------------------------------------------------------------------------------------\n"
     ]
    }
   ],
   "source": [
    "# 도구 호출이 필요 없는 LLM 호출을 수행\n",
    "query = \"안녕하세요.\"\n",
    "ai_msg = llm_with_tools.invoke(query)\n",
    "\n",
    "# LLM의 전체 출력 결과 출력\n",
    "pprint(ai_msg)\n",
    "print(\"-\" * 100)\n",
    "\n",
    "# 메시지 content 속성 (텍스트 출력)\n",
    "pprint(ai_msg.content)\n",
    "print(\"-\" * 100)\n",
    "\n",
    "# LLM이 호출한 도구 정보 출력\n",
    "pprint(ai_msg.tool_calls)\n",
    "print(\"-\" * 100)"
   ]
  },
  {
   "cell_type": "code",
   "execution_count": 7,
   "id": "dd8df009",
   "metadata": {},
   "outputs": [
    {
     "name": "stdout",
     "output_type": "stream",
     "text": [
      "AIMessage(content='', additional_kwargs={'tool_calls': [{'id': 'call_8DkbAVzUAHxmhRMrd8G5zjhu', 'function': {'arguments': '{\"query\":\"스테이크와 어울리는 와인 추천\"}', 'name': 'tavily_search_results_json'}, 'type': 'function'}], 'refusal': None}, response_metadata={'token_usage': {'completion_tokens': 27, 'prompt_tokens': 91, 'total_tokens': 118, 'completion_tokens_details': {'accepted_prediction_tokens': 0, 'audio_tokens': 0, 'reasoning_tokens': 0, 'rejected_prediction_tokens': 0}, 'prompt_tokens_details': {'audio_tokens': 0, 'cached_tokens': 0}}, 'model_name': 'gpt-4o-mini-2024-07-18', 'system_fingerprint': 'fp_54eb4bd693', 'finish_reason': 'tool_calls', 'logprobs': None}, id='run--6ee0d703-0b03-4996-a172-95346d609429-0', tool_calls=[{'name': 'tavily_search_results_json', 'args': {'query': '스테이크와 어울리는 와인 추천'}, 'id': 'call_8DkbAVzUAHxmhRMrd8G5zjhu', 'type': 'tool_call'}], usage_metadata={'input_tokens': 91, 'output_tokens': 27, 'total_tokens': 118})\n",
      "----------------------------------------------------------------------------------------------------\n",
      "''\n",
      "----------------------------------------------------------------------------------------------------\n",
      "[{'args': {'query': '스테이크와 어울리는 와인 추천'},\n",
      "  'id': 'call_8DkbAVzUAHxmhRMrd8G5zjhu',\n",
      "  'name': 'tavily_search_results_json',\n",
      "  'type': 'tool_call'}]\n",
      "----------------------------------------------------------------------------------------------------\n"
     ]
    }
   ],
   "source": [
    "# 도구 호출이 필요한 LLM 호출을 수행\n",
    "query = \"스테이크와 어울리는 와인을 추천해주세요.\"\n",
    "ai_msg = llm_with_tools.invoke(query)\n",
    "\n",
    "# LLM의 전체 출력 결과 출력\n",
    "pprint(ai_msg)\n",
    "print(\"-\" * 100)\n",
    "\n",
    "# 메시지 content 속성 (텍스트 출력)\n",
    "pprint(ai_msg.content)\n",
    "print(\"-\" * 100)\n",
    "\n",
    "# LLM이 호출한 도구 정보 출력\n",
    "pprint(ai_msg.tool_calls)\n",
    "print(\"-\" * 100)"
   ]
  },
  {
   "cell_type": "code",
   "execution_count": 8,
   "id": "84d0d45d",
   "metadata": {},
   "outputs": [
    {
     "data": {
      "text/plain": [
       "{'name': 'tavily_search_results_json',\n",
       " 'args': {'query': '스테이크와 어울리는 와인 추천'},\n",
       " 'id': 'call_8DkbAVzUAHxmhRMrd8G5zjhu',\n",
       " 'type': 'tool_call'}"
      ]
     },
     "execution_count": 8,
     "metadata": {},
     "output_type": "execute_result"
    }
   ],
   "source": [
    "tool_call = ai_msg.tool_calls[0]\n",
    "tool_call"
   ]
  },
  {
   "cell_type": "markdown",
   "id": "86835305",
   "metadata": {},
   "source": [
    "`(3) 도구(tool) 실행하기`"
   ]
  },
  {
   "cell_type": "code",
   "execution_count": 9,
   "id": "a3eb0c7e",
   "metadata": {},
   "outputs": [
    {
     "name": "stdout",
     "output_type": "stream",
     "text": [
      "tavily_search_results_json 호출 결과:\n",
      "----------------------------------------------------------------------------------------------------\n",
      "[{'url': 'https://alcohol.hobby-tech.com/entry/%EC%8A%A4%ED%85%8C%EC%9D%B4%ED%81%AC%EC%99%80-%EC%B0%B0%EB%96%A1%EA%B6%81%ED%95%A9-%EC%8A%A4%ED%85%8C%EC%9D%B4%ED%81%AC%EC%97%90-%EC%96%B4%EC%9A%B8%EB%A6%AC%EB%8A%94-%EC%99%80%EC%9D%B8-5%EA%B0%80%EC%A7%80', 'content': '추천 이유:\\n카베르네 소비뇽은 강한 탄닌과 풍부한 바디감이 특징인 레드 와인입니다. 이는 스테이크의 기름진 육즙과 균형을 이루며, 고기의 감칠맛을 더욱 살려줍니다.\\n어울리는 스테이크:\\n\\n리브아이 스테이크\\n뉴욕 스트립\\n티본 스테이크\\n\\n추천 와인:\\n\\n나파 밸리 카베르네 소비뇽\\n샤또 마고 (Château Margaux)\\n\\n카베르네 소비뇽은 특히 마블링이 많은 소고기 스테이크와 환상적인 조화를 이룹니다.\\n\\n2. 시라/쉬라즈 (Syrah/Shiraz) – 스파이시한 풍미가 매력적인 와인\\n\\n추천 이유:\\n시라는 과일향이 강하면서도 스파이시한 풍미가 있어, 풍부한 육즙을 가진 스테이크와 잘 어울립니다. 특히 숯불에 구운 스테이크와 궁합이 좋습니다.\\n어울리는 스테이크:\\n\\n바비큐 스테이크\\n페퍼크러스트 스테이크\\n\\n추천 와인:\\n\\n프랑스 론 밸리 시라\\n호주 쉬라즈 (펜폴즈 그랜지)\\n\\n시라는 그릴 자국이 남은 스모키한 스테이크와 환상적인 페어링을 보여줍니다. [...] 반응형\\n• 1. 카베르네 소비뇽 (Cabernet Sauvignon) – 스테이크 와인의 대표주자\\n• 2. 시라/쉬라즈 (Syrah/Shiraz) – 스파이시한 풍미가 매력적인 와인\\n• 3. 말벡 (Malbec) – 풍부한 과일 향과 부드러운 탄닌\\n• 4. 메를로 (Merlot) – 부드럽고 균형 잡힌 와인\\n• 5. 진판델 (Zinfandel) – 달콤한 향과 강한 바디감\\n• 어떤 와인을 선택해야 할까?\\n스테이크를 제대로 즐기려면 와인 선택이 중요합니다. 고기의 종류와 조리법에 따라 어울리는 와인이 달라지는데요. 어떤 와인을 선택해야 풍미를 극대화할 수 있을까요? 오늘은 스테이크와 가장 잘 어울리는 와인 5가지를 소개합니다.\\n\\n1. 카베르네 소비뇽 (Cabernet Sauvignon) – 스테이크 와인의 대표주자 [...] 3. 말벡 (Malbec) – 풍부한 과일 향과 부드러운 탄닌\\n\\n추천 이유:\\n말벡은 블랙베리와 자두 같은 과일향이 강하면서도 탄닌이 부드러운 레드 와인입니다. 고기와 함께 마시면 풍미가 더욱 살아나면서 균형 잡힌 조화를 이룹니다.\\n어울리는 스테이크:\\n\\n안심 스테이크 (필레 미뇽)\\n티본 스테이크\\n\\n추천 와인:\\n\\n아르헨티나 멘도사 말벡\\n카호르 말벡 (프랑스)\\n\\n특히 부드러운 안심 스테이크와 함께 즐기면 와인의 깊은 과일향과 육즙이 환상적인 조화를 이룹니다.\\n\\n4. 메를로 (Merlot) – 부드럽고 균형 잡힌 와인\\n\\n추천 이유:\\n메를로는 탄닌이 상대적으로 적고 부드러운 질감을 가지고 있어 고기의 풍미를 자연스럽게 살려주는 와인입니다. 무겁지 않으면서도 적절한 바디감을 가지고 있어 누구나 부담 없이 즐길 수 있습니다.\\n어울리는 스테이크:\\n\\n등심 스테이크\\n미디엄 레어 스테이크\\n\\n추천 와인:\\n\\n보르도 우안 (생테밀리옹, 뽀므롤)\\n캘리포니아 메를로'}, {'url': 'https://m.blog.naver.com/wineislikeacat/223096696241', 'content': '등심 스테이크, 채끝 스테이크와 어울리는 와인 품종은? 카베르네 소비뇽, 시라 등!\\n\\n등심은 소의 등뼈를 둘러싸고 있는 부위입니다.\\n육질이 연하고 지방이 많아서 두꺼운 스테이크 구이용으로 최적이죠.\\n채끝은 등뼈에서 허리를 감싸는 뼈로 내려오는 쪽의 살인데요,\\n마블링 러버들의 선택을 쉽사리 받는 부위입니다.\\n\\u200b\\n등심과 채끝 스테이크는 모두 풍미가 진하고 지방맛이 강하게 느껴지기에,\\n중간에서 높음 사이의 적당한 탄닌과 산도를 가진 와인을 선택하면\\n씹는 맛의 긴 여운 속 느끼함을 잡아줄 수 있습니다.\\n\\u200b\\n이에 맞는 레드와인으로는\\n카베르네 소비뇽(Carbernet Sauvignon), 시라(Syrah) 품종을 추천드려요!\\n\\u200b\\n\\n안심 스테이크와 어울리는 와인\\n\\n안심 스테이크와 어울리는 와인 품종은? 산지오베제!'}]\n"
     ]
    }
   ],
   "source": [
    "### 방법 1: 직접 도구 호출 처리\n",
    "\n",
    "# 이 방법은 AI 메시지에서 첫 번째 도구 호출을 가져와 직접 처리한다.\n",
    "# 'args'를 사용하여 도구를 호출하고 결과를 얻는다.\n",
    "\n",
    "tool_output = web_search.invoke(tool_call[\"args\"])\n",
    "print(f\"{tool_call['name']} 호출 결과:\")\n",
    "print(\"-\" * 100)\n",
    "print(tool_output)"
   ]
  },
  {
   "cell_type": "code",
   "execution_count": 10,
   "id": "1fa17109",
   "metadata": {},
   "outputs": [
    {
     "name": "stdout",
     "output_type": "stream",
     "text": [
      "ToolMessage(content=[{'url': 'https://alcohol.hobby-tech.com/entry/%EC%8A%A4%ED%85%8C%EC%9D%B4%ED%81%AC%EC%99%80-%EC%B0%B0%EB%96%A1%EA%B6%81%ED%95%A9-%EC%8A%A4%ED%85%8C%EC%9D%B4%ED%81%AC%EC%97%90-%EC%96%B4%EC%9A%B8%EB%A6%AC%EB%8A%94-%EC%99%80%EC%9D%B8-5%EA%B0%80%EC%A7%80', 'content': '추천 이유:\\n카베르네 소비뇽은 강한 탄닌과 풍부한 바디감이 특징인 레드 와인입니다. 이는 스테이크의 기름진 육즙과 균형을 이루며, 고기의 감칠맛을 더욱 살려줍니다.\\n어울리는 스테이크:\\n\\n리브아이 스테이크\\n뉴욕 스트립\\n티본 스테이크\\n\\n추천 와인:\\n\\n나파 밸리 카베르네 소비뇽\\n샤또 마고 (Château Margaux)\\n\\n카베르네 소비뇽은 특히 마블링이 많은 소고기 스테이크와 환상적인 조화를 이룹니다.\\n\\n2. 시라/쉬라즈 (Syrah/Shiraz) – 스파이시한 풍미가 매력적인 와인\\n\\n추천 이유:\\n시라는 과일향이 강하면서도 스파이시한 풍미가 있어, 풍부한 육즙을 가진 스테이크와 잘 어울립니다. 특히 숯불에 구운 스테이크와 궁합이 좋습니다.\\n어울리는 스테이크:\\n\\n바비큐 스테이크\\n페퍼크러스트 스테이크\\n\\n추천 와인:\\n\\n프랑스 론 밸리 시라\\n호주 쉬라즈 (펜폴즈 그랜지)\\n\\n시라는 그릴 자국이 남은 스모키한 스테이크와 환상적인 페어링을 보여줍니다. [...] 반응형\\n• 1. 카베르네 소비뇽 (Cabernet Sauvignon) – 스테이크 와인의 대표주자\\n• 2. 시라/쉬라즈 (Syrah/Shiraz) – 스파이시한 풍미가 매력적인 와인\\n• 3. 말벡 (Malbec) – 풍부한 과일 향과 부드러운 탄닌\\n• 4. 메를로 (Merlot) – 부드럽고 균형 잡힌 와인\\n• 5. 진판델 (Zinfandel) – 달콤한 향과 강한 바디감\\n• 어떤 와인을 선택해야 할까?\\n스테이크를 제대로 즐기려면 와인 선택이 중요합니다. 고기의 종류와 조리법에 따라 어울리는 와인이 달라지는데요. 어떤 와인을 선택해야 풍미를 극대화할 수 있을까요? 오늘은 스테이크와 가장 잘 어울리는 와인 5가지를 소개합니다.\\n\\n1. 카베르네 소비뇽 (Cabernet Sauvignon) – 스테이크 와인의 대표주자 [...] 3. 말벡 (Malbec) – 풍부한 과일 향과 부드러운 탄닌\\n\\n추천 이유:\\n말벡은 블랙베리와 자두 같은 과일향이 강하면서도 탄닌이 부드러운 레드 와인입니다. 고기와 함께 마시면 풍미가 더욱 살아나면서 균형 잡힌 조화를 이룹니다.\\n어울리는 스테이크:\\n\\n안심 스테이크 (필레 미뇽)\\n티본 스테이크\\n\\n추천 와인:\\n\\n아르헨티나 멘도사 말벡\\n카호르 말벡 (프랑스)\\n\\n특히 부드러운 안심 스테이크와 함께 즐기면 와인의 깊은 과일향과 육즙이 환상적인 조화를 이룹니다.\\n\\n4. 메를로 (Merlot) – 부드럽고 균형 잡힌 와인\\n\\n추천 이유:\\n메를로는 탄닌이 상대적으로 적고 부드러운 질감을 가지고 있어 고기의 풍미를 자연스럽게 살려주는 와인입니다. 무겁지 않으면서도 적절한 바디감을 가지고 있어 누구나 부담 없이 즐길 수 있습니다.\\n어울리는 스테이크:\\n\\n등심 스테이크\\n미디엄 레어 스테이크\\n\\n추천 와인:\\n\\n보르도 우안 (생테밀리옹, 뽀므롤)\\n캘리포니아 메를로'}, {'url': 'https://m.blog.naver.com/wineislikeacat/223096696241', 'content': '등심 스테이크, 채끝 스테이크와 어울리는 와인 품종은? 카베르네 소비뇽, 시라 등!\\n\\n등심은 소의 등뼈를 둘러싸고 있는 부위입니다.\\n육질이 연하고 지방이 많아서 두꺼운 스테이크 구이용으로 최적이죠.\\n채끝은 등뼈에서 허리를 감싸는 뼈로 내려오는 쪽의 살인데요,\\n마블링 러버들의 선택을 쉽사리 받는 부위입니다.\\n\\u200b\\n등심과 채끝 스테이크는 모두 풍미가 진하고 지방맛이 강하게 느껴지기에,\\n중간에서 높음 사이의 적당한 탄닌과 산도를 가진 와인을 선택하면\\n씹는 맛의 긴 여운 속 느끼함을 잡아줄 수 있습니다.\\n\\u200b\\n이에 맞는 레드와인으로는\\n카베르네 소비뇽(Carbernet Sauvignon), 시라(Syrah) 품종을 추천드려요!\\n\\u200b\\n\\n안심 스테이크와 어울리는 와인\\n\\n안심 스테이크와 어울리는 와인 품종은? 산지오베제!'}], name='tavily_search_results_json', tool_call_id='call_8DkbAVzUAHxmhRMrd8G5zjhu')\n"
     ]
    }
   ],
   "source": [
    "### 방법 2: ToolMessage 객체 생성\n",
    "\n",
    "# 이 방법은 도구 호출 결과를 사용하여 ToolMessage 객체를 생성한다.\n",
    "# 도구 호출의 ID와 이름을 포함하여 더 구조화된 메시지를 만든다.\n",
    "\n",
    "from langchain_core.messages import ToolMessage\n",
    "tool_message = ToolMessage(\n",
    "    content=tool_output,\n",
    "    tool_call_id=tool_call[\"id\"],\n",
    "    name=tool_call[\"name\"]\n",
    ")\n",
    "\n",
    "pprint(tool_message)"
   ]
  },
  {
   "cell_type": "code",
   "execution_count": 11,
   "id": "0f39f32b",
   "metadata": {},
   "outputs": [
    {
     "name": "stdout",
     "output_type": "stream",
     "text": [
      "content='[{\"url\": \"https://alcohol.hobby-tech.com/entry/%EC%8A%A4%ED%85%8C%EC%9D%B4%ED%81%AC%EC%99%80-%EC%B0%B0%EB%96%A1%EA%B6%81%ED%95%A9-%EC%8A%A4%ED%85%8C%EC%9D%B4%ED%81%AC%EC%97%90-%EC%96%B4%EC%9A%B8%EB%A6%AC%EB%8A%94-%EC%99%80%EC%9D%B8-5%EA%B0%80%EC%A7%80\", \"content\": \"추천 이유:\\\\n카베르네 소비뇽은 강한 탄닌과 풍부한 바디감이 특징인 레드 와인입니다. 이는 스테이크의 기름진 육즙과 균형을 이루며, 고기의 감칠맛을 더욱 살려줍니다.\\\\n어울리는 스테이크:\\\\n\\\\n리브아이 스테이크\\\\n뉴욕 스트립\\\\n티본 스테이크\\\\n\\\\n추천 와인:\\\\n\\\\n나파 밸리 카베르네 소비뇽\\\\n샤또 마고 (Château Margaux)\\\\n\\\\n카베르네 소비뇽은 특히 마블링이 많은 소고기 스테이크와 환상적인 조화를 이룹니다.\\\\n\\\\n2. 시라/쉬라즈 (Syrah/Shiraz) – 스파이시한 풍미가 매력적인 와인\\\\n\\\\n추천 이유:\\\\n시라는 과일향이 강하면서도 스파이시한 풍미가 있어, 풍부한 육즙을 가진 스테이크와 잘 어울립니다. 특히 숯불에 구운 스테이크와 궁합이 좋습니다.\\\\n어울리는 스테이크:\\\\n\\\\n바비큐 스테이크\\\\n페퍼크러스트 스테이크\\\\n\\\\n추천 와인:\\\\n\\\\n프랑스 론 밸리 시라\\\\n호주 쉬라즈 (펜폴즈 그랜지)\\\\n\\\\n시라는 그릴 자국이 남은 스모키한 스테이크와 환상적인 페어링을 보여줍니다. [...] 반응형\\\\n• 1. 카베르네 소비뇽 (Cabernet Sauvignon) – 스테이크 와인의 대표주자\\\\n• 2. 시라/쉬라즈 (Syrah/Shiraz) – 스파이시한 풍미가 매력적인 와인\\\\n• 3. 말벡 (Malbec) – 풍부한 과일 향과 부드러운 탄닌\\\\n• 4. 메를로 (Merlot) – 부드럽고 균형 잡힌 와인\\\\n• 5. 진판델 (Zinfandel) – 달콤한 향과 강한 바디감\\\\n• 어떤 와인을 선택해야 할까?\\\\n스테이크를 제대로 즐기려면 와인 선택이 중요합니다. 고기의 종류와 조리법에 따라 어울리는 와인이 달라지는데요. 어떤 와인을 선택해야 풍미를 극대화할 수 있을까요? 오늘은 스테이크와 가장 잘 어울리는 와인 5가지를 소개합니다.\\\\n\\\\n1. 카베르네 소비뇽 (Cabernet Sauvignon) – 스테이크 와인의 대표주자 [...] 3. 말벡 (Malbec) – 풍부한 과일 향과 부드러운 탄닌\\\\n\\\\n추천 이유:\\\\n말벡은 블랙베리와 자두 같은 과일향이 강하면서도 탄닌이 부드러운 레드 와인입니다. 고기와 함께 마시면 풍미가 더욱 살아나면서 균형 잡힌 조화를 이룹니다.\\\\n어울리는 스테이크:\\\\n\\\\n안심 스테이크 (필레 미뇽)\\\\n티본 스테이크\\\\n\\\\n추천 와인:\\\\n\\\\n아르헨티나 멘도사 말벡\\\\n카호르 말벡 (프랑스)\\\\n\\\\n특히 부드러운 안심 스테이크와 함께 즐기면 와인의 깊은 과일향과 육즙이 환상적인 조화를 이룹니다.\\\\n\\\\n4. 메를로 (Merlot) – 부드럽고 균형 잡힌 와인\\\\n\\\\n추천 이유:\\\\n메를로는 탄닌이 상대적으로 적고 부드러운 질감을 가지고 있어 고기의 풍미를 자연스럽게 살려주는 와인입니다. 무겁지 않으면서도 적절한 바디감을 가지고 있어 누구나 부담 없이 즐길 수 있습니다.\\\\n어울리는 스테이크:\\\\n\\\\n등심 스테이크\\\\n미디엄 레어 스테이크\\\\n\\\\n추천 와인:\\\\n\\\\n보르도 우안 (생테밀리옹, 뽀므롤)\\\\n캘리포니아 메를로\"}, {\"url\": \"https://m.blog.naver.com/wineislikeacat/223096696241\", \"content\": \"등심 스테이크, 채끝 스테이크와 어울리는 와인 품종은? 카베르네 소비뇽, 시라 등!\\\\n\\\\n등심은 소의 등뼈를 둘러싸고 있는 부위입니다.\\\\n육질이 연하고 지방이 많아서 두꺼운 스테이크 구이용으로 최적이죠.\\\\n채끝은 등뼈에서 허리를 감싸는 뼈로 내려오는 쪽의 살인데요,\\\\n마블링 러버들의 선택을 쉽사리 받는 부위입니다.\\\\n\\u200b\\\\n등심과 채끝 스테이크는 모두 풍미가 진하고 지방맛이 강하게 느껴지기에,\\\\n중간에서 높음 사이의 적당한 탄닌과 산도를 가진 와인을 선택하면\\\\n씹는 맛의 긴 여운 속 느끼함을 잡아줄 수 있습니다.\\\\n\\u200b\\\\n이에 맞는 레드와인으로는\\\\n카베르네 소비뇽(Carbernet Sauvignon), 시라(Syrah) 품종을 추천드려요!\\\\n\\u200b\\\\n\\\\n안심 스테이크와 어울리는 와인\\\\n\\\\n안심 스테이크와 어울리는 와인 품종은? 산지오베제!\"}]' name='tavily_search_results_json' tool_call_id='call_8DkbAVzUAHxmhRMrd8G5zjhu' artifact={'query': '스테이크와 어울리는 와인 추천', 'follow_up_questions': None, 'answer': None, 'images': [], 'results': [{'url': 'https://alcohol.hobby-tech.com/entry/%EC%8A%A4%ED%85%8C%EC%9D%B4%ED%81%AC%EC%99%80-%EC%B0%B0%EB%96%A1%EA%B6%81%ED%95%A9-%EC%8A%A4%ED%85%8C%EC%9D%B4%ED%81%AC%EC%97%90-%EC%96%B4%EC%9A%B8%EB%A6%AC%EB%8A%94-%EC%99%80%EC%9D%B8-5%EA%B0%80%EC%A7%80', 'title': '스테이크와 찰떡궁합! 스테이크에 어울리는 와인 5가지 - 술의 모든 것', 'content': '추천 이유:\\n카베르네 소비뇽은 강한 탄닌과 풍부한 바디감이 특징인 레드 와인입니다. 이는 스테이크의 기름진 육즙과 균형을 이루며, 고기의 감칠맛을 더욱 살려줍니다.\\n어울리는 스테이크:\\n\\n리브아이 스테이크\\n뉴욕 스트립\\n티본 스테이크\\n\\n추천 와인:\\n\\n나파 밸리 카베르네 소비뇽\\n샤또 마고 (Château Margaux)\\n\\n카베르네 소비뇽은 특히 마블링이 많은 소고기 스테이크와 환상적인 조화를 이룹니다.\\n\\n2. 시라/쉬라즈 (Syrah/Shiraz) – 스파이시한 풍미가 매력적인 와인\\n\\n추천 이유:\\n시라는 과일향이 강하면서도 스파이시한 풍미가 있어, 풍부한 육즙을 가진 스테이크와 잘 어울립니다. 특히 숯불에 구운 스테이크와 궁합이 좋습니다.\\n어울리는 스테이크:\\n\\n바비큐 스테이크\\n페퍼크러스트 스테이크\\n\\n추천 와인:\\n\\n프랑스 론 밸리 시라\\n호주 쉬라즈 (펜폴즈 그랜지)\\n\\n시라는 그릴 자국이 남은 스모키한 스테이크와 환상적인 페어링을 보여줍니다. [...] 반응형\\n• 1. 카베르네 소비뇽 (Cabernet Sauvignon) – 스테이크 와인의 대표주자\\n• 2. 시라/쉬라즈 (Syrah/Shiraz) – 스파이시한 풍미가 매력적인 와인\\n• 3. 말벡 (Malbec) – 풍부한 과일 향과 부드러운 탄닌\\n• 4. 메를로 (Merlot) – 부드럽고 균형 잡힌 와인\\n• 5. 진판델 (Zinfandel) – 달콤한 향과 강한 바디감\\n• 어떤 와인을 선택해야 할까?\\n스테이크를 제대로 즐기려면 와인 선택이 중요합니다. 고기의 종류와 조리법에 따라 어울리는 와인이 달라지는데요. 어떤 와인을 선택해야 풍미를 극대화할 수 있을까요? 오늘은 스테이크와 가장 잘 어울리는 와인 5가지를 소개합니다.\\n\\n1. 카베르네 소비뇽 (Cabernet Sauvignon) – 스테이크 와인의 대표주자 [...] 3. 말벡 (Malbec) – 풍부한 과일 향과 부드러운 탄닌\\n\\n추천 이유:\\n말벡은 블랙베리와 자두 같은 과일향이 강하면서도 탄닌이 부드러운 레드 와인입니다. 고기와 함께 마시면 풍미가 더욱 살아나면서 균형 잡힌 조화를 이룹니다.\\n어울리는 스테이크:\\n\\n안심 스테이크 (필레 미뇽)\\n티본 스테이크\\n\\n추천 와인:\\n\\n아르헨티나 멘도사 말벡\\n카호르 말벡 (프랑스)\\n\\n특히 부드러운 안심 스테이크와 함께 즐기면 와인의 깊은 과일향과 육즙이 환상적인 조화를 이룹니다.\\n\\n4. 메를로 (Merlot) – 부드럽고 균형 잡힌 와인\\n\\n추천 이유:\\n메를로는 탄닌이 상대적으로 적고 부드러운 질감을 가지고 있어 고기의 풍미를 자연스럽게 살려주는 와인입니다. 무겁지 않으면서도 적절한 바디감을 가지고 있어 누구나 부담 없이 즐길 수 있습니다.\\n어울리는 스테이크:\\n\\n등심 스테이크\\n미디엄 레어 스테이크\\n\\n추천 와인:\\n\\n보르도 우안 (생테밀리옹, 뽀므롤)\\n캘리포니아 메를로', 'score': 0.926683, 'raw_content': None}, {'url': 'https://m.blog.naver.com/wineislikeacat/223096696241', 'title': '등심 스테이크에는 이 와인 드셔보세요! 소고기 부위별 레드와인 추천 ...', 'content': '등심 스테이크, 채끝 스테이크와 어울리는 와인 품종은? 카베르네 소비뇽, 시라 등!\\n\\n등심은 소의 등뼈를 둘러싸고 있는 부위입니다.\\n육질이 연하고 지방이 많아서 두꺼운 스테이크 구이용으로 최적이죠.\\n채끝은 등뼈에서 허리를 감싸는 뼈로 내려오는 쪽의 살인데요,\\n마블링 러버들의 선택을 쉽사리 받는 부위입니다.\\n\\u200b\\n등심과 채끝 스테이크는 모두 풍미가 진하고 지방맛이 강하게 느껴지기에,\\n중간에서 높음 사이의 적당한 탄닌과 산도를 가진 와인을 선택하면\\n씹는 맛의 긴 여운 속 느끼함을 잡아줄 수 있습니다.\\n\\u200b\\n이에 맞는 레드와인으로는\\n카베르네 소비뇽(Carbernet Sauvignon), 시라(Syrah) 품종을 추천드려요!\\n\\u200b\\n\\n안심 스테이크와 어울리는 와인\\n\\n안심 스테이크와 어울리는 와인 품종은? 산지오베제!', 'score': 0.90771407, 'raw_content': None}], 'response_time': 1.36}\n"
     ]
    }
   ],
   "source": [
    "### 방법 3: 도구 직접 호출하여 바로 ToolMessage 객체 생성\n",
    "\n",
    "# 이 방법은 도구를 직접 호출하여 ToolMessage 객체를 생성한다.\n",
    "# 가장 간단하고 직관적인 방법으로, LangChain의 추상화를 활용한다.\n",
    "\n",
    "tool_message = web_search.invoke(tool_call)\n",
    "\n",
    "print(tool_message)\n"
   ]
  },
  {
   "cell_type": "code",
   "execution_count": 12,
   "id": "aeeb5890",
   "metadata": {},
   "outputs": [
    {
     "name": "stdout",
     "output_type": "stream",
     "text": [
      "'call_8DkbAVzUAHxmhRMrd8G5zjhu'\n"
     ]
    }
   ],
   "source": [
    "pprint(tool_message.tool_call_id)"
   ]
  },
  {
   "cell_type": "code",
   "execution_count": 13,
   "id": "01309400",
   "metadata": {},
   "outputs": [
    {
     "name": "stdout",
     "output_type": "stream",
     "text": [
      "'tavily_search_results_json'\n"
     ]
    }
   ],
   "source": [
    "pprint(tool_message.name)"
   ]
  },
  {
   "cell_type": "code",
   "execution_count": 14,
   "id": "82d9a51c",
   "metadata": {},
   "outputs": [
    {
     "name": "stdout",
     "output_type": "stream",
     "text": [
      "('[{\"url\": '\n",
      " '\"https://alcohol.hobby-tech.com/entry/%EC%8A%A4%ED%85%8C%EC%9D%B4%ED%81%AC%EC%99%80-%EC%B0%B0%EB%96%A1%EA%B6%81%ED%95%A9-%EC%8A%A4%ED%85%8C%EC%9D%B4%ED%81%AC%EC%97%90-%EC%96%B4%EC%9A%B8%EB%A6%AC%EB%8A%94-%EC%99%80%EC%9D%B8-5%EA%B0%80%EC%A7%80\", '\n",
      " '\"content\": \"추천 이유:\\\\n카베르네 소비뇽은 강한 탄닌과 풍부한 바디감이 특징인 레드 와인입니다. 이는 스테이크의 기름진 '\n",
      " '육즙과 균형을 이루며, 고기의 감칠맛을 더욱 살려줍니다.\\\\n어울리는 스테이크:\\\\n\\\\n리브아이 스테이크\\\\n뉴욕 스트립\\\\n티본 '\n",
      " '스테이크\\\\n\\\\n추천 와인:\\\\n\\\\n나파 밸리 카베르네 소비뇽\\\\n샤또 마고 (Château Margaux)\\\\n\\\\n카베르네 '\n",
      " '소비뇽은 특히 마블링이 많은 소고기 스테이크와 환상적인 조화를 이룹니다.\\\\n\\\\n2. 시라/쉬라즈 (Syrah/Shiraz) – '\n",
      " '스파이시한 풍미가 매력적인 와인\\\\n\\\\n추천 이유:\\\\n시라는 과일향이 강하면서도 스파이시한 풍미가 있어, 풍부한 육즙을 가진 '\n",
      " '스테이크와 잘 어울립니다. 특히 숯불에 구운 스테이크와 궁합이 좋습니다.\\\\n어울리는 스테이크:\\\\n\\\\n바비큐 스테이크\\\\n페퍼크러스트 '\n",
      " '스테이크\\\\n\\\\n추천 와인:\\\\n\\\\n프랑스 론 밸리 시라\\\\n호주 쉬라즈 (펜폴즈 그랜지)\\\\n\\\\n시라는 그릴 자국이 남은 스모키한 '\n",
      " '스테이크와 환상적인 페어링을 보여줍니다. [...] 반응형\\\\n• 1. 카베르네 소비뇽 (Cabernet Sauvignon) – 스테이크 '\n",
      " '와인의 대표주자\\\\n• 2. 시라/쉬라즈 (Syrah/Shiraz) – 스파이시한 풍미가 매력적인 와인\\\\n• 3. 말벡 (Malbec) '\n",
      " '– 풍부한 과일 향과 부드러운 탄닌\\\\n• 4. 메를로 (Merlot) – 부드럽고 균형 잡힌 와인\\\\n• 5. 진판델 '\n",
      " '(Zinfandel) – 달콤한 향과 강한 바디감\\\\n• 어떤 와인을 선택해야 할까?\\\\n스테이크를 제대로 즐기려면 와인 선택이 '\n",
      " '중요합니다. 고기의 종류와 조리법에 따라 어울리는 와인이 달라지는데요. 어떤 와인을 선택해야 풍미를 극대화할 수 있을까요? 오늘은 '\n",
      " '스테이크와 가장 잘 어울리는 와인 5가지를 소개합니다.\\\\n\\\\n1. 카베르네 소비뇽 (Cabernet Sauvignon) – 스테이크 '\n",
      " '와인의 대표주자 [...] 3. 말벡 (Malbec) – 풍부한 과일 향과 부드러운 탄닌\\\\n\\\\n추천 이유:\\\\n말벡은 블랙베리와 자두 '\n",
      " '같은 과일향이 강하면서도 탄닌이 부드러운 레드 와인입니다. 고기와 함께 마시면 풍미가 더욱 살아나면서 균형 잡힌 조화를 '\n",
      " '이룹니다.\\\\n어울리는 스테이크:\\\\n\\\\n안심 스테이크 (필레 미뇽)\\\\n티본 스테이크\\\\n\\\\n추천 와인:\\\\n\\\\n아르헨티나 멘도사 '\n",
      " '말벡\\\\n카호르 말벡 (프랑스)\\\\n\\\\n특히 부드러운 안심 스테이크와 함께 즐기면 와인의 깊은 과일향과 육즙이 환상적인 조화를 '\n",
      " '이룹니다.\\\\n\\\\n4. 메를로 (Merlot) – 부드럽고 균형 잡힌 와인\\\\n\\\\n추천 이유:\\\\n메를로는 탄닌이 상대적으로 적고 '\n",
      " '부드러운 질감을 가지고 있어 고기의 풍미를 자연스럽게 살려주는 와인입니다. 무겁지 않으면서도 적절한 바디감을 가지고 있어 누구나 부담 '\n",
      " '없이 즐길 수 있습니다.\\\\n어울리는 스테이크:\\\\n\\\\n등심 스테이크\\\\n미디엄 레어 스테이크\\\\n\\\\n추천 와인:\\\\n\\\\n보르도 '\n",
      " '우안 (생테밀리옹, 뽀므롤)\\\\n캘리포니아 메를로\"}, {\"url\": '\n",
      " '\"https://m.blog.naver.com/wineislikeacat/223096696241\", \"content\": \"등심 스테이크, '\n",
      " '채끝 스테이크와 어울리는 와인 품종은? 카베르네 소비뇽, 시라 등!\\\\n\\\\n등심은 소의 등뼈를 둘러싸고 있는 부위입니다.\\\\n육질이 '\n",
      " '연하고 지방이 많아서 두꺼운 스테이크 구이용으로 최적이죠.\\\\n채끝은 등뼈에서 허리를 감싸는 뼈로 내려오는 쪽의 살인데요,\\\\n마블링 '\n",
      " '러버들의 선택을 쉽사리 받는 부위입니다.\\\\n\\u200b\\\\n등심과 채끝 스테이크는 모두 풍미가 진하고 지방맛이 강하게 '\n",
      " '느껴지기에,\\\\n중간에서 높음 사이의 적당한 탄닌과 산도를 가진 와인을 선택하면\\\\n씹는 맛의 긴 여운 속 느끼함을 잡아줄 수 '\n",
      " '있습니다.\\\\n\\u200b\\\\n이에 맞는 레드와인으로는\\\\n카베르네 소비뇽(Carbernet Sauvignon), 시라(Syrah) '\n",
      " '품종을 추천드려요!\\\\n\\u200b\\\\n\\\\n안심 스테이크와 어울리는 와인\\\\n\\\\n안심 스테이크와 어울리는 와인 품종은? '\n",
      " '산지오베제!\"}]')\n"
     ]
    }
   ],
   "source": [
    "pprint(tool_message.content)"
   ]
  },
  {
   "cell_type": "code",
   "execution_count": 15,
   "id": "f3e71c37",
   "metadata": {},
   "outputs": [
    {
     "data": {
      "text/plain": [
       "[{'name': 'tavily_search_results_json',\n",
       "  'args': {'query': '스테이크와 어울리는 와인 추천'},\n",
       "  'id': 'call_8DkbAVzUAHxmhRMrd8G5zjhu',\n",
       "  'type': 'tool_call'}]"
      ]
     },
     "execution_count": 15,
     "metadata": {},
     "output_type": "execute_result"
    }
   ],
   "source": [
    "ai_msg.tool_calls"
   ]
  },
  {
   "cell_type": "code",
   "execution_count": null,
   "id": "35a3ad18",
   "metadata": {},
   "outputs": [
    {
     "name": "stdout",
     "output_type": "stream",
     "text": [
      "[ToolMessage(content='[{\"url\": \"https://alcohol.hobby-tech.com/entry/%EC%8A%A4%ED%85%8C%EC%9D%B4%ED%81%AC%EC%99%80-%EC%B0%B0%EB%96%A1%EA%B6%81%ED%95%A9-%EC%8A%A4%ED%85%8C%EC%9D%B4%ED%81%AC%EC%97%90-%EC%96%B4%EC%9A%B8%EB%A6%AC%EB%8A%94-%EC%99%80%EC%9D%B8-5%EA%B0%80%EC%A7%80\", \"content\": \"추천 이유:\\\\n카베르네 소비뇽은 강한 탄닌과 풍부한 바디감이 특징인 레드 와인입니다. 이는 스테이크의 기름진 육즙과 균형을 이루며, 고기의 감칠맛을 더욱 살려줍니다.\\\\n어울리는 스테이크:\\\\n\\\\n리브아이 스테이크\\\\n뉴욕 스트립\\\\n티본 스테이크\\\\n\\\\n추천 와인:\\\\n\\\\n나파 밸리 카베르네 소비뇽\\\\n샤또 마고 (Château Margaux)\\\\n\\\\n카베르네 소비뇽은 특히 마블링이 많은 소고기 스테이크와 환상적인 조화를 이룹니다.\\\\n\\\\n2. 시라/쉬라즈 (Syrah/Shiraz) – 스파이시한 풍미가 매력적인 와인\\\\n\\\\n추천 이유:\\\\n시라는 과일향이 강하면서도 스파이시한 풍미가 있어, 풍부한 육즙을 가진 스테이크와 잘 어울립니다. 특히 숯불에 구운 스테이크와 궁합이 좋습니다.\\\\n어울리는 스테이크:\\\\n\\\\n바비큐 스테이크\\\\n페퍼크러스트 스테이크\\\\n\\\\n추천 와인:\\\\n\\\\n프랑스 론 밸리 시라\\\\n호주 쉬라즈 (펜폴즈 그랜지)\\\\n\\\\n시라는 그릴 자국이 남은 스모키한 스테이크와 환상적인 페어링을 보여줍니다. [...] 반응형\\\\n• 1. 카베르네 소비뇽 (Cabernet Sauvignon) – 스테이크 와인의 대표주자\\\\n• 2. 시라/쉬라즈 (Syrah/Shiraz) – 스파이시한 풍미가 매력적인 와인\\\\n• 3. 말벡 (Malbec) – 풍부한 과일 향과 부드러운 탄닌\\\\n• 4. 메를로 (Merlot) – 부드럽고 균형 잡힌 와인\\\\n• 5. 진판델 (Zinfandel) – 달콤한 향과 강한 바디감\\\\n• 어떤 와인을 선택해야 할까?\\\\n스테이크를 제대로 즐기려면 와인 선택이 중요합니다. 고기의 종류와 조리법에 따라 어울리는 와인이 달라지는데요. 어떤 와인을 선택해야 풍미를 극대화할 수 있을까요? 오늘은 스테이크와 가장 잘 어울리는 와인 5가지를 소개합니다.\\\\n\\\\n1. 카베르네 소비뇽 (Cabernet Sauvignon) – 스테이크 와인의 대표주자 [...] 3. 말벡 (Malbec) – 풍부한 과일 향과 부드러운 탄닌\\\\n\\\\n추천 이유:\\\\n말벡은 블랙베리와 자두 같은 과일향이 강하면서도 탄닌이 부드러운 레드 와인입니다. 고기와 함께 마시면 풍미가 더욱 살아나면서 균형 잡힌 조화를 이룹니다.\\\\n어울리는 스테이크:\\\\n\\\\n안심 스테이크 (필레 미뇽)\\\\n티본 스테이크\\\\n\\\\n추천 와인:\\\\n\\\\n아르헨티나 멘도사 말벡\\\\n카호르 말벡 (프랑스)\\\\n\\\\n특히 부드러운 안심 스테이크와 함께 즐기면 와인의 깊은 과일향과 육즙이 환상적인 조화를 이룹니다.\\\\n\\\\n4. 메를로 (Merlot) – 부드럽고 균형 잡힌 와인\\\\n\\\\n추천 이유:\\\\n메를로는 탄닌이 상대적으로 적고 부드러운 질감을 가지고 있어 고기의 풍미를 자연스럽게 살려주는 와인입니다. 무겁지 않으면서도 적절한 바디감을 가지고 있어 누구나 부담 없이 즐길 수 있습니다.\\\\n어울리는 스테이크:\\\\n\\\\n등심 스테이크\\\\n미디엄 레어 스테이크\\\\n\\\\n추천 와인:\\\\n\\\\n보르도 우안 (생테밀리옹, 뽀므롤)\\\\n캘리포니아 메를로\"}, {\"url\": \"https://m.blog.naver.com/wineislikeacat/223096696241\", \"content\": \"등심 스테이크, 채끝 스테이크와 어울리는 와인 품종은? 카베르네 소비뇽, 시라 등!\\\\n\\\\n등심은 소의 등뼈를 둘러싸고 있는 부위입니다.\\\\n육질이 연하고 지방이 많아서 두꺼운 스테이크 구이용으로 최적이죠.\\\\n채끝은 등뼈에서 허리를 감싸는 뼈로 내려오는 쪽의 살인데요,\\\\n마블링 러버들의 선택을 쉽사리 받는 부위입니다.\\\\n\\u200b\\\\n등심과 채끝 스테이크는 모두 풍미가 진하고 지방맛이 강하게 느껴지기에,\\\\n중간에서 높음 사이의 적당한 탄닌과 산도를 가진 와인을 선택하면\\\\n씹는 맛의 긴 여운 속 느끼함을 잡아줄 수 있습니다.\\\\n\\u200b\\\\n이에 맞는 레드와인으로는\\\\n카베르네 소비뇽(Carbernet Sauvignon), 시라(Syrah) 품종을 추천드려요!\\\\n\\u200b\\\\n\\\\n안심 스테이크와 어울리는 와인\\\\n\\\\n안심 스테이크와 어울리는 와인 품종은? 산지오베제!\"}]', name='tavily_search_results_json', tool_call_id='call_8DkbAVzUAHxmhRMrd8G5zjhu', artifact={'query': '스테이크와 어울리는 와인 추천', 'follow_up_questions': None, 'answer': None, 'images': [], 'results': [{'url': 'https://alcohol.hobby-tech.com/entry/%EC%8A%A4%ED%85%8C%EC%9D%B4%ED%81%AC%EC%99%80-%EC%B0%B0%EB%96%A1%EA%B6%81%ED%95%A9-%EC%8A%A4%ED%85%8C%EC%9D%B4%ED%81%AC%EC%97%90-%EC%96%B4%EC%9A%B8%EB%A6%AC%EB%8A%94-%EC%99%80%EC%9D%B8-5%EA%B0%80%EC%A7%80', 'title': '스테이크와 찰떡궁합! 스테이크에 어울리는 와인 5가지 - 술의 모든 것', 'content': '추천 이유:\\n카베르네 소비뇽은 강한 탄닌과 풍부한 바디감이 특징인 레드 와인입니다. 이는 스테이크의 기름진 육즙과 균형을 이루며, 고기의 감칠맛을 더욱 살려줍니다.\\n어울리는 스테이크:\\n\\n리브아이 스테이크\\n뉴욕 스트립\\n티본 스테이크\\n\\n추천 와인:\\n\\n나파 밸리 카베르네 소비뇽\\n샤또 마고 (Château Margaux)\\n\\n카베르네 소비뇽은 특히 마블링이 많은 소고기 스테이크와 환상적인 조화를 이룹니다.\\n\\n2. 시라/쉬라즈 (Syrah/Shiraz) – 스파이시한 풍미가 매력적인 와인\\n\\n추천 이유:\\n시라는 과일향이 강하면서도 스파이시한 풍미가 있어, 풍부한 육즙을 가진 스테이크와 잘 어울립니다. 특히 숯불에 구운 스테이크와 궁합이 좋습니다.\\n어울리는 스테이크:\\n\\n바비큐 스테이크\\n페퍼크러스트 스테이크\\n\\n추천 와인:\\n\\n프랑스 론 밸리 시라\\n호주 쉬라즈 (펜폴즈 그랜지)\\n\\n시라는 그릴 자국이 남은 스모키한 스테이크와 환상적인 페어링을 보여줍니다. [...] 반응형\\n• 1. 카베르네 소비뇽 (Cabernet Sauvignon) – 스테이크 와인의 대표주자\\n• 2. 시라/쉬라즈 (Syrah/Shiraz) – 스파이시한 풍미가 매력적인 와인\\n• 3. 말벡 (Malbec) – 풍부한 과일 향과 부드러운 탄닌\\n• 4. 메를로 (Merlot) – 부드럽고 균형 잡힌 와인\\n• 5. 진판델 (Zinfandel) – 달콤한 향과 강한 바디감\\n• 어떤 와인을 선택해야 할까?\\n스테이크를 제대로 즐기려면 와인 선택이 중요합니다. 고기의 종류와 조리법에 따라 어울리는 와인이 달라지는데요. 어떤 와인을 선택해야 풍미를 극대화할 수 있을까요? 오늘은 스테이크와 가장 잘 어울리는 와인 5가지를 소개합니다.\\n\\n1. 카베르네 소비뇽 (Cabernet Sauvignon) – 스테이크 와인의 대표주자 [...] 3. 말벡 (Malbec) – 풍부한 과일 향과 부드러운 탄닌\\n\\n추천 이유:\\n말벡은 블랙베리와 자두 같은 과일향이 강하면서도 탄닌이 부드러운 레드 와인입니다. 고기와 함께 마시면 풍미가 더욱 살아나면서 균형 잡힌 조화를 이룹니다.\\n어울리는 스테이크:\\n\\n안심 스테이크 (필레 미뇽)\\n티본 스테이크\\n\\n추천 와인:\\n\\n아르헨티나 멘도사 말벡\\n카호르 말벡 (프랑스)\\n\\n특히 부드러운 안심 스테이크와 함께 즐기면 와인의 깊은 과일향과 육즙이 환상적인 조화를 이룹니다.\\n\\n4. 메를로 (Merlot) – 부드럽고 균형 잡힌 와인\\n\\n추천 이유:\\n메를로는 탄닌이 상대적으로 적고 부드러운 질감을 가지고 있어 고기의 풍미를 자연스럽게 살려주는 와인입니다. 무겁지 않으면서도 적절한 바디감을 가지고 있어 누구나 부담 없이 즐길 수 있습니다.\\n어울리는 스테이크:\\n\\n등심 스테이크\\n미디엄 레어 스테이크\\n\\n추천 와인:\\n\\n보르도 우안 (생테밀리옹, 뽀므롤)\\n캘리포니아 메를로', 'score': 0.926683, 'raw_content': None}, {'url': 'https://m.blog.naver.com/wineislikeacat/223096696241', 'title': '등심 스테이크에는 이 와인 드셔보세요! 소고기 부위별 레드와인 추천 ...', 'content': '등심 스테이크, 채끝 스테이크와 어울리는 와인 품종은? 카베르네 소비뇽, 시라 등!\\n\\n등심은 소의 등뼈를 둘러싸고 있는 부위입니다.\\n육질이 연하고 지방이 많아서 두꺼운 스테이크 구이용으로 최적이죠.\\n채끝은 등뼈에서 허리를 감싸는 뼈로 내려오는 쪽의 살인데요,\\n마블링 러버들의 선택을 쉽사리 받는 부위입니다.\\n\\u200b\\n등심과 채끝 스테이크는 모두 풍미가 진하고 지방맛이 강하게 느껴지기에,\\n중간에서 높음 사이의 적당한 탄닌과 산도를 가진 와인을 선택하면\\n씹는 맛의 긴 여운 속 느끼함을 잡아줄 수 있습니다.\\n\\u200b\\n이에 맞는 레드와인으로는\\n카베르네 소비뇽(Carbernet Sauvignon), 시라(Syrah) 품종을 추천드려요!\\n\\u200b\\n\\n안심 스테이크와 어울리는 와인\\n\\n안심 스테이크와 어울리는 와인 품종은? 산지오베제!', 'score': 0.90771407, 'raw_content': None}], 'response_time': 1.6})]\n",
      "----------------------------------------------------------------------------------------------------\n",
      "('[{\"url\": '\n",
      " '\"https://alcohol.hobby-tech.com/entry/%EC%8A%A4%ED%85%8C%EC%9D%B4%ED%81%AC%EC%99%80-%EC%B0%B0%EB%96%A1%EA%B6%81%ED%95%A9-%EC%8A%A4%ED%85%8C%EC%9D%B4%ED%81%AC%EC%97%90-%EC%96%B4%EC%9A%B8%EB%A6%AC%EB%8A%94-%EC%99%80%EC%9D%B8-5%EA%B0%80%EC%A7%80\", '\n",
      " '\"content\": \"추천 이유:\\\\n카베르네 소비뇽은 강한 탄닌과 풍부한 바디감이 특징인 레드 와인입니다. 이는 스테이크의 기름진 '\n",
      " '육즙과 균형을 이루며, 고기의 감칠맛을 더욱 살려줍니다.\\\\n어울리는 스테이크:\\\\n\\\\n리브아이 스테이크\\\\n뉴욕 스트립\\\\n티본 '\n",
      " '스테이크\\\\n\\\\n추천 와인:\\\\n\\\\n나파 밸리 카베르네 소비뇽\\\\n샤또 마고 (Château Margaux)\\\\n\\\\n카베르네 '\n",
      " '소비뇽은 특히 마블링이 많은 소고기 스테이크와 환상적인 조화를 이룹니다.\\\\n\\\\n2. 시라/쉬라즈 (Syrah/Shiraz) – '\n",
      " '스파이시한 풍미가 매력적인 와인\\\\n\\\\n추천 이유:\\\\n시라는 과일향이 강하면서도 스파이시한 풍미가 있어, 풍부한 육즙을 가진 '\n",
      " '스테이크와 잘 어울립니다. 특히 숯불에 구운 스테이크와 궁합이 좋습니다.\\\\n어울리는 스테이크:\\\\n\\\\n바비큐 스테이크\\\\n페퍼크러스트 '\n",
      " '스테이크\\\\n\\\\n추천 와인:\\\\n\\\\n프랑스 론 밸리 시라\\\\n호주 쉬라즈 (펜폴즈 그랜지)\\\\n\\\\n시라는 그릴 자국이 남은 스모키한 '\n",
      " '스테이크와 환상적인 페어링을 보여줍니다. [...] 반응형\\\\n• 1. 카베르네 소비뇽 (Cabernet Sauvignon) – 스테이크 '\n",
      " '와인의 대표주자\\\\n• 2. 시라/쉬라즈 (Syrah/Shiraz) – 스파이시한 풍미가 매력적인 와인\\\\n• 3. 말벡 (Malbec) '\n",
      " '– 풍부한 과일 향과 부드러운 탄닌\\\\n• 4. 메를로 (Merlot) – 부드럽고 균형 잡힌 와인\\\\n• 5. 진판델 '\n",
      " '(Zinfandel) – 달콤한 향과 강한 바디감\\\\n• 어떤 와인을 선택해야 할까?\\\\n스테이크를 제대로 즐기려면 와인 선택이 '\n",
      " '중요합니다. 고기의 종류와 조리법에 따라 어울리는 와인이 달라지는데요. 어떤 와인을 선택해야 풍미를 극대화할 수 있을까요? 오늘은 '\n",
      " '스테이크와 가장 잘 어울리는 와인 5가지를 소개합니다.\\\\n\\\\n1. 카베르네 소비뇽 (Cabernet Sauvignon) – 스테이크 '\n",
      " '와인의 대표주자 [...] 3. 말벡 (Malbec) – 풍부한 과일 향과 부드러운 탄닌\\\\n\\\\n추천 이유:\\\\n말벡은 블랙베리와 자두 '\n",
      " '같은 과일향이 강하면서도 탄닌이 부드러운 레드 와인입니다. 고기와 함께 마시면 풍미가 더욱 살아나면서 균형 잡힌 조화를 '\n",
      " '이룹니다.\\\\n어울리는 스테이크:\\\\n\\\\n안심 스테이크 (필레 미뇽)\\\\n티본 스테이크\\\\n\\\\n추천 와인:\\\\n\\\\n아르헨티나 멘도사 '\n",
      " '말벡\\\\n카호르 말벡 (프랑스)\\\\n\\\\n특히 부드러운 안심 스테이크와 함께 즐기면 와인의 깊은 과일향과 육즙이 환상적인 조화를 '\n",
      " '이룹니다.\\\\n\\\\n4. 메를로 (Merlot) – 부드럽고 균형 잡힌 와인\\\\n\\\\n추천 이유:\\\\n메를로는 탄닌이 상대적으로 적고 '\n",
      " '부드러운 질감을 가지고 있어 고기의 풍미를 자연스럽게 살려주는 와인입니다. 무겁지 않으면서도 적절한 바디감을 가지고 있어 누구나 부담 '\n",
      " '없이 즐길 수 있습니다.\\\\n어울리는 스테이크:\\\\n\\\\n등심 스테이크\\\\n미디엄 레어 스테이크\\\\n\\\\n추천 와인:\\\\n\\\\n보르도 '\n",
      " '우안 (생테밀리옹, 뽀므롤)\\\\n캘리포니아 메를로\"}, {\"url\": '\n",
      " '\"https://m.blog.naver.com/wineislikeacat/223096696241\", \"content\": \"등심 스테이크, '\n",
      " '채끝 스테이크와 어울리는 와인 품종은? 카베르네 소비뇽, 시라 등!\\\\n\\\\n등심은 소의 등뼈를 둘러싸고 있는 부위입니다.\\\\n육질이 '\n",
      " '연하고 지방이 많아서 두꺼운 스테이크 구이용으로 최적이죠.\\\\n채끝은 등뼈에서 허리를 감싸는 뼈로 내려오는 쪽의 살인데요,\\\\n마블링 '\n",
      " '러버들의 선택을 쉽사리 받는 부위입니다.\\\\n\\u200b\\\\n등심과 채끝 스테이크는 모두 풍미가 진하고 지방맛이 강하게 '\n",
      " '느껴지기에,\\\\n중간에서 높음 사이의 적당한 탄닌과 산도를 가진 와인을 선택하면\\\\n씹는 맛의 긴 여운 속 느끼함을 잡아줄 수 '\n",
      " '있습니다.\\\\n\\u200b\\\\n이에 맞는 레드와인으로는\\\\n카베르네 소비뇽(Carbernet Sauvignon), 시라(Syrah) '\n",
      " '품종을 추천드려요!\\\\n\\u200b\\\\n\\\\n안심 스테이크와 어울리는 와인\\\\n\\\\n안심 스테이크와 어울리는 와인 품종은? '\n",
      " '산지오베제!\"}]')\n"
     ]
    }
   ],
   "source": [
    "# batch 실행 - 도구 호출이 여러 개인 경우\n",
    "\n",
    "# tool_messages = web_search.batch([tool_call])\n",
    "\n",
    "tool_messages = web_search.batch(ai_msg.tool_calls)\n",
    "\n",
    "print(tool_messages)\n",
    "print(\"-\" * 100)\n",
    "pprint(tool_messages[0].content)"
   ]
  },
  {
   "cell_type": "markdown",
   "id": "a20257ba",
   "metadata": {},
   "source": [
    "`(4) ToolMessage를 LLM에 전달하여 답변을 생성하기`"
   ]
  },
  {
   "cell_type": "code",
   "execution_count": 23,
   "id": "1c5de654",
   "metadata": {},
   "outputs": [
    {
     "name": "stdout",
     "output_type": "stream",
     "text": [
      "ai_msg: \n",
      " content='' additional_kwargs={'tool_calls': [{'id': 'call_h3NJ5s7RZ3enqpk8OeSNDCbs', 'function': {'arguments': '{\"query\":\"2020 Moët & Chandon champagne 가격\"}', 'name': 'tavily_search_results_json'}, 'type': 'function'}], 'refusal': None} response_metadata={'token_usage': {'completion_tokens': 26, 'prompt_tokens': 116, 'total_tokens': 142, 'completion_tokens_details': {'accepted_prediction_tokens': 0, 'audio_tokens': 0, 'reasoning_tokens': 0, 'rejected_prediction_tokens': 0}, 'prompt_tokens_details': {'audio_tokens': 0, 'cached_tokens': 0}}, 'model_name': 'gpt-4o-mini-2024-07-18', 'system_fingerprint': 'fp_34a54ae93c', 'finish_reason': 'tool_calls', 'logprobs': None} id='run--3b1ce273-fd66-4150-9932-6fa0d20af36e-0' tool_calls=[{'name': 'tavily_search_results_json', 'args': {'query': '2020 Moët & Chandon champagne 가격'}, 'id': 'call_h3NJ5s7RZ3enqpk8OeSNDCbs', 'type': 'tool_call'}] usage_metadata={'input_tokens': 116, 'output_tokens': 26, 'total_tokens': 142}\n",
      "----------------------------------------------------------------------------------------------------\n",
      "tool_msgs: \n",
      " [ToolMessage(content='[{\"url\": \"https://www.sommeliertimes.com/news/articleView.html?idxno=125654\", \"content\": \"한편, 2020년에 가장 높은 순위를 차지했던 Moët & Chandon Esprit du Siècle Brut의 경우 평균 가격이 8,771달러(한화 약 1,175만 원)으로 최고가를\"}, {\"url\": \"https://blog.naver.com/dolmory9/221326578595?viewType=pc\", \"content\": \"... 가격 : 80,000원 (정가), 56,900원 (코스트코 판매가). 모엣 샹동 임페리얼 브뤼 NV Moet Chandon Imperial Brut NV. - 산지 : Champagne ... 2020\"}]', name='tavily_search_results_json', tool_call_id='call_h3NJ5s7RZ3enqpk8OeSNDCbs', artifact={'query': '2020 Moët & Chandon champagne 가격', 'follow_up_questions': None, 'answer': None, 'images': [], 'results': [{'url': 'https://www.sommeliertimes.com/news/articleView.html?idxno=125654', 'title': '2023년 세계에서 가장 비싼 샴페인 TOP 10 - 소믈리에타임즈', 'content': '한편, 2020년에 가장 높은 순위를 차지했던 Moët & Chandon Esprit du Siècle Brut의 경우 평균 가격이 8,771달러(한화 약 1,175만 원)으로 최고가를', 'score': 0.9177831, 'raw_content': None}, {'url': 'https://blog.naver.com/dolmory9/221326578595?viewType=pc', 'title': '모엣 샹동 임페리얼 브뤼 NV (Moet Chandon Imperial Brut) 코스트코 ...', 'content': '... 가격 : 80,000원 (정가), 56,900원 (코스트코 판매가). 모엣 샹동 임페리얼 브뤼 NV Moet Chandon Imperial Brut NV. - 산지 : Champagne ... 2020', 'score': 0.86954874, 'raw_content': None}], 'response_time': 1.61})]\n",
      "----------------------------------------------------------------------------------------------------\n",
      "('2020년 모엣샹동 샴페인의 가격은 제품에 따라 다양합니다. 예를 들어, **Moët & Chandon Esprit du Siècle '\n",
      " 'Brut**의 평균 가격은 약 **8,771달러** (한화 약 **1,175만 원**)이며, **Moët & Chandon '\n",
      " 'Imperial Brut NV**는 정가 **80,000원**, 코스트코 판매가 **56,900원**으로 알려져 있습니다. \\n'\n",
      " '\\n'\n",
      " '더 자세한 정보는 '\n",
      " '[여기](https://www.sommeliertimes.com/news/articleView.html?idxno=125654)에서 '\n",
      " '확인하실 수 있습니다.')\n"
     ]
    }
   ],
   "source": [
    "from datetime import datetime\n",
    "from langchain_core.prompts import ChatPromptTemplate\n",
    "from langchain_core.runnables import RunnableConfig, chain\n",
    "\n",
    "# 오늘 날짜 설정\n",
    "today = datetime.today().strftime(\"%Y-%m-%d\")\n",
    "\n",
    "# 프롬프트 템플릿 \n",
    "prompt = ChatPromptTemplate([\n",
    "    (\"system\", f\"You are a helpful AI assistant. Today's date is {today}.\"),\n",
    "    (\"human\", \"{user_input}\"),\n",
    "    (\"placeholder\", \"{messages}\"),\n",
    "])\n",
    "\n",
    "# ChatOpenAI 모델 초기화 \n",
    "llm = ChatOpenAI(model=\"gpt-4o-mini\")\n",
    "\n",
    "# LLM에 도구를 바인딩\n",
    "llm_with_tools = llm.bind_tools(tools=[web_search])\n",
    "\n",
    "# LLM 체인 생성\n",
    "llm_chain = prompt | llm_with_tools\n",
    "\n",
    "# 도구 실행 체인 정의\n",
    "@chain\n",
    "def web_search_chain(user_input: str, config: RunnableConfig):\n",
    "    input_ = {\"user_input\": user_input}\n",
    "    ai_msg = llm_chain.invoke(input_, config=config)\n",
    "    print(\"ai_msg: \\n\", ai_msg)\n",
    "    print(\"-\"*100)\n",
    "    tool_msgs = web_search.batch(ai_msg.tool_calls, config=config)\n",
    "    print(\"tool_msgs: \\n\", tool_msgs)\n",
    "    print(\"-\"*100)\n",
    "    return llm_chain.invoke({**input_, \"messages\": [ai_msg, *tool_msgs]}, config=config)\n",
    "\n",
    "# 체인 실행\n",
    "response = web_search_chain.invoke(\"2020년 모엣샹동 샴페인의 가격은 얼마인가요?\")\n",
    "\n",
    "# 응답 출력 \n",
    "pprint(response.content)"
   ]
  },
  {
   "cell_type": "markdown",
   "id": "60f49a9f",
   "metadata": {},
   "source": [
    "### 2-2. 사용자 정의 도구\n",
    "- @tool decorator를 통해 사용자 정의 도구를 정의할 수 있음"
   ]
  },
  {
   "cell_type": "markdown",
   "id": "5c058ff5",
   "metadata": {},
   "source": [
    "`(1) 도구(tool) 정의하기`"
   ]
  },
  {
   "cell_type": "code",
   "execution_count": 26,
   "id": "2647393d",
   "metadata": {},
   "outputs": [],
   "source": [
    "from langchain_community.tools import TavilySearchResults\n",
    "from langchain_core.tools import tool\n",
    "from typing import List\n",
    "\n",
    "# Tool 정의 \n",
    "@tool\n",
    "def search_web(query: str) -> str:\n",
    "    \"\"\"Searches the internet for information that does not exist in the database or for the latest information.\"\"\"\n",
    "\n",
    "    tavily_search = TavilySearchResults(max_results=2)\n",
    "    docs = tavily_search.invoke(query)\n",
    "\n",
    "    formatted_docs = \"\\n---\\n\".join([\n",
    "        f'<Document href=\"{doc[\"url\"]}\"/>\\n{doc[\"content\"]}\\n</Document>'\n",
    "        for doc in docs\n",
    "        ])\n",
    "\n",
    "    if len(formatted_docs) > 0:\n",
    "        return formatted_docs\n",
    "    \n",
    "    return \"관련 정보를 찾을 수 없습니다.\""
   ]
  },
  {
   "cell_type": "code",
   "execution_count": 27,
   "id": "224eddd8",
   "metadata": {},
   "outputs": [
    {
     "name": "stdout",
     "output_type": "stream",
     "text": [
      "자료형: \n",
      "<class 'langchain_core.tools.structured.StructuredTool'>\n",
      "----------------------------------------------------------------------------------------------------\n",
      "name: \n",
      "search_web\n",
      "----------------------------------------------------------------------------------------------------\n",
      "description: \n",
      "('Searches the internet for information that does not exist in the database or '\n",
      " 'for the latest information.')\n",
      "----------------------------------------------------------------------------------------------------\n",
      "schema: \n",
      "{'description': 'Searches the internet for information that does not exist in '\n",
      "                'the database or for the latest information.',\n",
      " 'properties': {'query': {'title': 'Query', 'type': 'string'}},\n",
      " 'required': ['query'],\n",
      " 'title': 'search_web',\n",
      " 'type': 'object'}\n",
      "----------------------------------------------------------------------------------------------------\n"
     ]
    }
   ],
   "source": [
    "# 도구 속성\n",
    "print(\"자료형: \")\n",
    "print(type(search_web))\n",
    "print(\"-\"*100)\n",
    "\n",
    "print(\"name: \")\n",
    "print(search_web.name)\n",
    "print(\"-\"*100)\n",
    "\n",
    "print(\"description: \")\n",
    "pprint(search_web.description)\n",
    "print(\"-\"*100)\n",
    "\n",
    "print(\"schema: \")\n",
    "pprint(search_web.args_schema.schema())\n",
    "print(\"-\"*100)"
   ]
  },
  {
   "cell_type": "code",
   "execution_count": 28,
   "id": "37117ba5",
   "metadata": {},
   "outputs": [
    {
     "name": "stdout",
     "output_type": "stream",
     "text": [
      "<Document href=\"https://m.blog.naver.com/wineislikeacat/223096696241\"/>\n",
      "등심 스테이크, 채끝 스테이크와 어울리는 와인 품종은? 카베르네 소비뇽, 시라 등!\n",
      "\n",
      "등심은 소의 등뼈를 둘러싸고 있는 부위입니다.\n",
      "육질이 연하고 지방이 많아서 두꺼운 스테이크 구이용으로 최적이죠.\n",
      "채끝은 등뼈에서 허리를 감싸는 뼈로 내려오는 쪽의 살인데요,\n",
      "마블링 러버들의 선택을 쉽사리 받는 부위입니다.\n",
      "​\n",
      "등심과 채끝 스테이크는 모두 풍미가 진하고 지방맛이 강하게 느껴지기에,\n",
      "중간에서 높음 사이의 적당한 탄닌과 산도를 가진 와인을 선택하면\n",
      "씹는 맛의 긴 여운 속 느끼함을 잡아줄 수 있습니다.\n",
      "​\n",
      "이에 맞는 레드와인으로는\n",
      "카베르네 소비뇽(Carbernet Sauvignon), 시라(Syrah) 품종을 추천드려요!\n",
      "​\n",
      "\n",
      "안심 스테이크와 어울리는 와인\n",
      "\n",
      "안심 스테이크와 어울리는 와인 품종은? 산지오베제! [...] 우리동네내와인의 소고기 스테이크 부위별 레드와인 추천!\n",
      "안녕하세요, 우리동네내와인입니다!\n",
      "​\n",
      "흔히 육류 스테이크 하면 레드와인이라고 알려져있죠?\n",
      "이번 시간에는 이 공식을 조금 더 자세히 살펴보려 합니다.\n",
      "특정 부위에 더 잘 어울리는 와인을 소개하는 방식으로요 :)\n",
      "​\n",
      "오늘 글을 읽으시다가 모르는 레드와인 종류가 나오면\n",
      "아래 글도 한번 참고해보시길 바랍니다.\n",
      "​\n",
      "말벡? 쉬라즈? 그게 뭐야? 레드와인 포도 품종 알아보기! - 1편안녕하세요, 우리동네내와인입니다 :) 오늘 가져온 와인 상식은 바로 레드와인의 원료가 되는 포도 품종입... blog.naver.com\n",
      "피노 누아? 네비올로? 그게 뭐야? 레드와인 포도 품종 알아보기! - 2편안녕하세요, 우리동네내와인입니다 :) 지난 시간엔 레드와인 포도 품종 4가지에 대해 알아보았는데요. 카베... blog.naver.com\n",
      "​\n",
      "\n",
      "등심 & 채끝 스테이크와 어울리는 와인\n",
      "</Document>\n",
      "---\n",
      "<Document href=\"https://mashija.com/%EC%8A%A4%ED%85%8C%EC%9D%B4%ED%81%AC%EC%99%80-%EC%96%B4%EC%9A%B8%EB%A6%AC%EB%8A%94-%EC%B5%9C%EA%B3%A0%EC%9D%98-%EC%99%80%EC%9D%B8-%EB%AC%B4%EC%97%87%EC%9D%84-%EA%B3%A0%EB%A5%BC-%EA%B2%83%EC%9D%B8/\"/>\n",
      "Bora Kim 2022년 1월 27일\n",
      "카베르네 소비뇽(Cabernet Sauvignon) 및 말벡(Malbec)과 같은 전형적인 선택부터 더 가벼운 레드 와인, 심지어 화이트 와인과 맛있는 스테이크를 페어링하는 방법까지, 우리의 아카이브에서 가져온 최고의 조언과 최근 디캔터 전문가가 추천한 와인을 소개한다. [...] <스테이크를 곁들인 레드 와인을 위한 5가지 전형적인 선택>\n",
      "• 카베르네 소비뇽(Cabernet Sauvignon)\n",
      "• 말벡(Malbec)\n",
      "• 그르나슈/쉬라즈 블렌드(Grenache / Shiraz blends)\n",
      "• 시라/쉬라즈(Syrah / Shiraz)\n",
      "• 산지오베제(Sangiovese)\n",
      "육즙이 풍부한 스테이크와 맛있는 와인이 있는 저녁 식사는 적어도 고기 애호가들에게 인생의 큰 즐거움일 것이다.\n",
      "와인과 음식 페어링에서 새로운 시도를 하는 것은 항상 재미있지만, 특별한 스테이크 저녁 식사를 준비할 때 고려해야 할 몇 가지 스타일과 주의사항이 있다.\n",
      "<스테이크에 곁들이는 레드 와인>\n",
      "이 포도 품종을 세계 와인 무대에 재등장시키고 고품질 쇠고기에 대한 국가의 명성을 가진 아르헨티나 덕분에, 말벡 레드 와인은 스테이크와 함께 고전적인 매칭이 되었다. [...] 와인 전문가 카렌 맥닐(Karen MacNeil)은 음식과 와인 페어링에 대한 10가지 규칙에서 ‘구운(grilled) 스테이크를 곁들인 파워풀한 캘리포니아 카베르네 소비뇽은 이길 수 없다’라고 언급했다.\n",
      "– 스테이크와 레드 와인에 대한 추가 옵션 –\n",
      "2018년 디캔터와의 인터뷰에서 피터 리차즈(Peter Richards MW)는 “사람들이 스테이크와 함께 곁들일 와인으로 말벡이나 카베르네 소비뇽의 전통적인 조합을 뛰어넘어 볼 것을 강조한다.”라고 하였다.\n",
      "‘멋지고 생동감 넘치는 카베르네 프랑(Cabernet Franc)은 어떤가? 아니면 카리냥(Carignan), 쌩소(Cinsault) 또는 서늘한 기후에서 생산한 시라(Syrah)는 어떨까? DWWA 칠레 지역 의장이자 Decanter Retailer Awards 회장인 리차즈는 “풀바디하지만 우아한 로제(rosé)도 따뜻한 날에는 잘 어울린다.”라고 말했다.\n",
      "</Document>\n"
     ]
    }
   ],
   "source": [
    "query = \"스테이크와 어울리는 와인을 추천해주세요.\"\n",
    "search_result = search_web.invoke(query)\n",
    "\n",
    "print(search_result)"
   ]
  },
  {
   "cell_type": "code",
   "execution_count": 21,
   "id": "d81d6668",
   "metadata": {},
   "outputs": [
    {
     "name": "stdout",
     "output_type": "stream",
     "text": [
      "AIMessage(content='', additional_kwargs={'tool_calls': [{'id': 'call_VMcmAPWpAs8ANFzgk7UEYKBs', 'function': {'arguments': '{\"query\": \"스테이크와 어울리는 와인 추천\"}', 'name': 'search_web'}, 'type': 'function'}, {'id': 'call_0hHfMteXpymLzPoAsxg0pk37', 'function': {'arguments': '{\"query\": \"best wine pairings with steak\"}', 'name': 'search_web'}, 'type': 'function'}], 'refusal': None}, response_metadata={'token_usage': {'completion_tokens': 58, 'prompt_tokens': 67, 'total_tokens': 125, 'completion_tokens_details': {'accepted_prediction_tokens': 0, 'audio_tokens': 0, 'reasoning_tokens': 0, 'rejected_prediction_tokens': 0}, 'prompt_tokens_details': {'audio_tokens': 0, 'cached_tokens': 0}}, 'model_name': 'gpt-4o-mini-2024-07-18', 'system_fingerprint': 'fp_34a54ae93c', 'finish_reason': 'tool_calls', 'logprobs': None}, id='run--71d18d3c-1c03-4af8-89d4-0214d148dfa8-0', tool_calls=[{'name': 'search_web', 'args': {'query': '스테이크와 어울리는 와인 추천'}, 'id': 'call_VMcmAPWpAs8ANFzgk7UEYKBs', 'type': 'tool_call'}, {'name': 'search_web', 'args': {'query': 'best wine pairings with steak'}, 'id': 'call_0hHfMteXpymLzPoAsxg0pk37', 'type': 'tool_call'}], usage_metadata={'input_tokens': 67, 'output_tokens': 58, 'total_tokens': 125})\n",
      "----------------------------------------------------------------------------------------------------\n",
      "''\n",
      "----------------------------------------------------------------------------------------------------\n",
      "[{'args': {'query': '스테이크와 어울리는 와인 추천'},\n",
      "  'id': 'call_VMcmAPWpAs8ANFzgk7UEYKBs',\n",
      "  'name': 'search_web',\n",
      "  'type': 'tool_call'},\n",
      " {'args': {'query': 'best wine pairings with steak'},\n",
      "  'id': 'call_0hHfMteXpymLzPoAsxg0pk37',\n",
      "  'name': 'search_web',\n",
      "  'type': 'tool_call'}]\n",
      "----------------------------------------------------------------------------------------------------\n"
     ]
    }
   ],
   "source": [
    "# LLM에 도구를 바인딩\n",
    "llm_with_tools = llm.bind_tools(tools=[search_web])\n",
    "\n",
    "# 도구 호출이 필요한 LLM 호출을 수행\n",
    "query = \"스테이크와 어울리는 와인을 추천해주세요.\"\n",
    "ai_msg = llm_with_tools.invoke(query)\n",
    "\n",
    "# LLM의 전체 출력 결과 출력\n",
    "pprint(ai_msg)\n",
    "print(\"-\" * 100)\n",
    "\n",
    "# 메시지 content 속성 (텍스트 출력)\n",
    "pprint(ai_msg.content)\n",
    "print(\"-\" * 100)\n",
    "\n",
    "# LLM이 호출한 도구 정보 출력\n",
    "pprint(ai_msg.tool_calls)\n",
    "print(\"-\" * 100)"
   ]
  },
  {
   "cell_type": "markdown",
   "id": "7dcda933",
   "metadata": {},
   "source": [
    "`(2) LLM 도구 호출 성능 비교하기`"
   ]
  },
  {
   "cell_type": "code",
   "execution_count": 37,
   "id": "edf539df",
   "metadata": {},
   "outputs": [
    {
     "name": "stderr",
     "output_type": "stream",
     "text": [
      "Key 'title' is not supported in schema, ignoring\n",
      "Key 'title' is not supported in schema, ignoring\n",
      "Key 'title' is not supported in schema, ignoring\n",
      "Key 'title' is not supported in schema, ignoring\n"
     ]
    }
   ],
   "source": [
    "from langchain_google_genai import ChatGoogleGenerativeAI\n",
    "from langchain_groq import ChatGroq\n",
    "\n",
    "# 기본 LLM\n",
    "llm_gemini_flash = ChatGoogleGenerativeAI(model=\"gemini-1.5-flash\", temperature=0)\n",
    "llm_gemini_pro = ChatGoogleGenerativeAI(model=\"gemini-1.5-pro\", temperature=0)\n",
    "llm_groq = ChatGroq(model=\"llama3-70b-8192\", temperature=0)\n",
    "\n",
    "# LLM에 도구 바인딩하여 추가 \n",
    "tools=[search_web]\n",
    "\n",
    "gemini_flash_with_tools = llm_gemini_flash.bind_tools(tools)\n",
    "gemini_pro_with_tools = llm_gemini_pro.bind_tools(tools)\n",
    "groq_llama3_with_tools = llm_groq.bind_tools(tools)"
   ]
  },
  {
   "cell_type": "markdown",
   "id": "cc7f29ab",
   "metadata": {},
   "source": [
    "- gemini-1.5-flash"
   ]
  },
  {
   "cell_type": "code",
   "execution_count": 38,
   "id": "faceb0af",
   "metadata": {},
   "outputs": [
    {
     "name": "stdout",
     "output_type": "stream",
     "text": [
      "AIMessage(content='스테이크와 어울리는 와인은 스테이크의 종류와 조리 방법에 따라 다릅니다.  좀 더 구체적으로 어떤 종류의 스테이크인지, 어떻게 조리되었는지 알려주시면 더욱 정확한 추천을 드릴 수 있습니다.\\n\\n하지만 일반적으로, 다음과 같은 와인들이 스테이크와 잘 어울립니다:\\n\\n* **레드 와인:**  풍부한 탄닌과 강한 바디감을 가진 레드 와인이 스테이크의 풍미와 잘 어울립니다.  \\n    * **까베르네 소비뇽 (Cabernet Sauvignon):**  풀바디의 와인으로, 숙성된 까베르네 소비뇽은 특히 잘 구워진 스테이크와 환상의 궁합을 자랑합니다.\\n    * **메를로 (Merlot):**  까베르네 소비뇽보다 부드럽고 덜 탄닌이 강한 와인으로, 다양한 스테이크와 잘 어울립니다.\\n    * **말벡 (Malbec):**  과일 향이 풍부하고 부드러운 탄닌을 가진 와인으로, 특히 구운 야채와 함께 먹는 스테이크와 잘 어울립니다.\\n    * **시라 (Syrah) / 쉬라즈 (Shiraz):**  풍부한 과일 향과 스파이시한 향이 특징이며, 강한 풍미의 스테이크와 잘 어울립니다.\\n\\n\\n* **화이트 와인:**  스테이크와 화이트 와인의 조합은 드물지만,  얇게 썰어 덜 익힌 스테이크나 허브를 많이 사용한 스테이크에는  오크 숙성된 샤르도네 (Chardonnay) 와인이 잘 어울릴 수 있습니다.\\n\\n\\n어떤 종류의 스테이크인지, 어떻게 조리되었는지 (굽기 정도, 소스 유무 등) 알려주시면 더욱 구체적인 와인 추천을 해드리겠습니다.\\n', additional_kwargs={}, response_metadata={'prompt_feedback': {'block_reason': 0, 'safety_ratings': []}, 'finish_reason': 'STOP', 'safety_ratings': []}, id='run--69a5f397-641b-457d-b8a6-edc546dac0a5-0', usage_metadata={'input_tokens': 61, 'output_tokens': 483, 'total_tokens': 544})\n",
      "----------------------------------------------------------------------------------------------------\n",
      "('스테이크와 어울리는 와인은 스테이크의 종류와 조리 방법에 따라 다릅니다.  좀 더 구체적으로 어떤 종류의 스테이크인지, 어떻게 '\n",
      " '조리되었는지 알려주시면 더욱 정확한 추천을 드릴 수 있습니다.\\n'\n",
      " '\\n'\n",
      " '하지만 일반적으로, 다음과 같은 와인들이 스테이크와 잘 어울립니다:\\n'\n",
      " '\\n'\n",
      " '* **레드 와인:**  풍부한 탄닌과 강한 바디감을 가진 레드 와인이 스테이크의 풍미와 잘 어울립니다.  \\n'\n",
      " '    * **까베르네 소비뇽 (Cabernet Sauvignon):**  풀바디의 와인으로, 숙성된 까베르네 소비뇽은 특히 잘 구워진 '\n",
      " '스테이크와 환상의 궁합을 자랑합니다.\\n'\n",
      " '    * **메를로 (Merlot):**  까베르네 소비뇽보다 부드럽고 덜 탄닌이 강한 와인으로, 다양한 스테이크와 잘 어울립니다.\\n'\n",
      " '    * **말벡 (Malbec):**  과일 향이 풍부하고 부드러운 탄닌을 가진 와인으로, 특히 구운 야채와 함께 먹는 스테이크와 잘 '\n",
      " '어울립니다.\\n'\n",
      " '    * **시라 (Syrah) / 쉬라즈 (Shiraz):**  풍부한 과일 향과 스파이시한 향이 특징이며, 강한 풍미의 스테이크와 '\n",
      " '잘 어울립니다.\\n'\n",
      " '\\n'\n",
      " '\\n'\n",
      " '* **화이트 와인:**  스테이크와 화이트 와인의 조합은 드물지만,  얇게 썰어 덜 익힌 스테이크나 허브를 많이 사용한 스테이크에는  '\n",
      " '오크 숙성된 샤르도네 (Chardonnay) 와인이 잘 어울릴 수 있습니다.\\n'\n",
      " '\\n'\n",
      " '\\n'\n",
      " '어떤 종류의 스테이크인지, 어떻게 조리되었는지 (굽기 정도, 소스 유무 등) 알려주시면 더욱 구체적인 와인 추천을 해드리겠습니다.\\n')\n",
      "----------------------------------------------------------------------------------------------------\n",
      "[]\n",
      "----------------------------------------------------------------------------------------------------\n"
     ]
    }
   ],
   "source": [
    "# 도구 호출이 필요한 LLM 호출을 수행\n",
    "query = \"스테이크와 어울리는 와인을 추천해주세요.\"\n",
    "ai_msg = gemini_flash_with_tools.invoke(query)\n",
    "\n",
    "# LLM의 전체 출력 결과 출력\n",
    "pprint(ai_msg)\n",
    "print(\"-\" * 100)\n",
    "\n",
    "# 메시지 content 속성 (텍스트 출력)\n",
    "pprint(ai_msg.content)\n",
    "print(\"-\" * 100)\n",
    "\n",
    "# LLM이 호출한 도구 정보 출력\n",
    "pprint(ai_msg.tool_calls)\n",
    "print(\"-\" * 100)"
   ]
  },
  {
   "cell_type": "markdown",
   "id": "6f69b933",
   "metadata": {},
   "source": [
    "- gemini-1.5-pro"
   ]
  },
  {
   "cell_type": "code",
   "execution_count": 39,
   "id": "b93b3cf2",
   "metadata": {},
   "outputs": [
    {
     "name": "stdout",
     "output_type": "stream",
     "text": [
      "AIMessage(content='스테이크와 잘 어울리는 와인을 추천해 드리겠습니다. 스테이크의 종류와 굽기에 따라 와인의 선택이 달라집니다. 어떤 종류의 스테이크를 드시는지, 그리고 어떤 굽기로 드시는지 알려주시면 더욱 정확한 추천을 해 드릴 수 있습니다.\\n\\n일반적으로 다음과 같은 와인들이 스테이크와 잘 어울립니다.\\n\\n* **까베르네 소비뇽 (Cabernet Sauvignon):** 풀바디 와인으로, 탄닌이 풍부하고 블랙커런트, 블랙베리, 삼나무 향이 납니다. 립아이, 뉴욕 스트립 등 기름진 스테이크와 잘 어울립니다.\\n* **메를로 (Merlot):** 부드러운 탄닌과 과일 향이 풍부한 와인으로, 초보자도 마시기 쉽습니다. 안심, 등심 등 부드러운 스테이크와 잘 어울립니다.\\n* **피노 누아 (Pinot Noir):** 섬세한 맛과 향을 가진 와인으로, 버섯, 체리, 흙 향이 납니다. 안심, 등심 등 부드러운 스테이크와 잘 어울립니다.\\n* **진판델 (Zinfandel):** 과일 향과 스파이시한 맛이 조화로운 와인으로, 탄닌이 적당히 있어 기름진 스테이크와 잘 어울립니다. 립아이, 뉴욕 스트립 등 기름진 스테이크와 잘 어울립니다.\\n\\n스테이크의 종류와 굽기를 알려주시면 더욱 자세한 추천을 해 드리겠습니다.\\n', additional_kwargs={}, response_metadata={'prompt_feedback': {'block_reason': 0, 'safety_ratings': []}, 'finish_reason': 'STOP', 'safety_ratings': []}, id='run--2d4d8502-4a28-4c8b-b157-49dbf35cdd20-0', usage_metadata={'input_tokens': 61, 'output_tokens': 408, 'total_tokens': 469})\n",
      "----------------------------------------------------------------------------------------------------\n",
      "('스테이크와 잘 어울리는 와인을 추천해 드리겠습니다. 스테이크의 종류와 굽기에 따라 와인의 선택이 달라집니다. 어떤 종류의 스테이크를 '\n",
      " '드시는지, 그리고 어떤 굽기로 드시는지 알려주시면 더욱 정확한 추천을 해 드릴 수 있습니다.\\n'\n",
      " '\\n'\n",
      " '일반적으로 다음과 같은 와인들이 스테이크와 잘 어울립니다.\\n'\n",
      " '\\n'\n",
      " '* **까베르네 소비뇽 (Cabernet Sauvignon):** 풀바디 와인으로, 탄닌이 풍부하고 블랙커런트, 블랙베리, 삼나무 향이 '\n",
      " '납니다. 립아이, 뉴욕 스트립 등 기름진 스테이크와 잘 어울립니다.\\n'\n",
      " '* **메를로 (Merlot):** 부드러운 탄닌과 과일 향이 풍부한 와인으로, 초보자도 마시기 쉽습니다. 안심, 등심 등 부드러운 '\n",
      " '스테이크와 잘 어울립니다.\\n'\n",
      " '* **피노 누아 (Pinot Noir):** 섬세한 맛과 향을 가진 와인으로, 버섯, 체리, 흙 향이 납니다. 안심, 등심 등 부드러운 '\n",
      " '스테이크와 잘 어울립니다.\\n'\n",
      " '* **진판델 (Zinfandel):** 과일 향과 스파이시한 맛이 조화로운 와인으로, 탄닌이 적당히 있어 기름진 스테이크와 잘 '\n",
      " '어울립니다. 립아이, 뉴욕 스트립 등 기름진 스테이크와 잘 어울립니다.\\n'\n",
      " '\\n'\n",
      " '스테이크의 종류와 굽기를 알려주시면 더욱 자세한 추천을 해 드리겠습니다.\\n')\n",
      "----------------------------------------------------------------------------------------------------\n",
      "[]\n",
      "----------------------------------------------------------------------------------------------------\n"
     ]
    }
   ],
   "source": [
    "# 도구 호출이 필요한 LLM 호출을 수행\n",
    "query = \"스테이크와 어울리는 와인을 추천해주세요.\"\n",
    "ai_msg = gemini_pro_with_tools.invoke(query)\n",
    "\n",
    "# LLM의 전체 출력 결과 출력\n",
    "pprint(ai_msg)\n",
    "print(\"-\" * 100)\n",
    "\n",
    "# 메시지 content 속성 (텍스트 출력)\n",
    "pprint(ai_msg.content)\n",
    "print(\"-\" * 100)\n",
    "\n",
    "# LLM이 호출한 도구 정보 출력\n",
    "pprint(ai_msg.tool_calls)\n",
    "print(\"-\" * 100)"
   ]
  },
  {
   "cell_type": "markdown",
   "id": "500d19ee",
   "metadata": {},
   "source": [
    "- llama3-70b-8192"
   ]
  },
  {
   "cell_type": "code",
   "execution_count": null,
   "id": "36366e87",
   "metadata": {},
   "outputs": [
    {
     "name": "stdout",
     "output_type": "stream",
     "text": [
      "AIMessage(content='', additional_kwargs={'tool_calls': [{'id': 'call_sf7g', 'function': {'arguments': '{\"query\":\"wine pairing for steak\"}', 'name': 'search_web'}, 'type': 'function'}]}, response_metadata={'token_usage': {'completion_tokens': 46, 'prompt_tokens': 900, 'total_tokens': 946, 'completion_time': 0.20361781, 'prompt_time': 0.029260198, 'queue_time': 0.22349406, 'total_time': 0.232878008}, 'model_name': 'llama3-70b-8192', 'system_fingerprint': 'fp_dd4ae1c591', 'finish_reason': 'tool_calls', 'logprobs': None}, id='run--982fe017-bc88-46b2-bf63-d2be376058ff-0', tool_calls=[{'name': 'search_web', 'args': {'query': 'wine pairing for steak'}, 'id': 'call_sf7g', 'type': 'tool_call'}], usage_metadata={'input_tokens': 900, 'output_tokens': 46, 'total_tokens': 946})\n",
      "----------------------------------------------------------------------------------------------------\n",
      "''\n",
      "----------------------------------------------------------------------------------------------------\n",
      "[{'args': {'query': 'wine pairing for steak'},\n",
      "  'id': 'call_sf7g',\n",
      "  'name': 'search_web',\n",
      "  'type': 'tool_call'}]\n",
      "----------------------------------------------------------------------------------------------------\n"
     ]
    }
   ],
   "source": [
    "# 도구 호출이 필요한 LLM 호출을 수행\n",
    "\n",
    "# 도구를 꼭 쓰라고 강제한 게 아니라면, LLM마다 도구를 쓸지 말지 자체적으로 판단함.\n",
    "\n",
    "# Gemini Pro는 보통 자체 지식이 충분해서 답을 직접 하려 하고,\n",
    "# 반면 Groq LLaMA3는 \"도구를 쓸래요\" 하고 tool_call을 만들어냄.\n",
    "\n",
    "\n",
    "query = \"스테이크와 어울리는 와인을 추천해주세요.\"\n",
    "ai_msg = groq_llama3_with_tools.invoke(query)\n",
    "\n",
    "# LLM의 전체 출력 결과 출력\n",
    "pprint(ai_msg)\n",
    "print(\"-\" * 100)\n",
    "\n",
    "# 메시지 content 속성 (텍스트 출력)\n",
    "pprint(ai_msg.content)\n",
    "print(\"-\" * 100)\n",
    "\n",
    "# LLM이 호출한 도구 정보 출력\n",
    "pprint(ai_msg.tool_calls)\n",
    "print(\"-\" * 100)  "
   ]
  },
  {
   "cell_type": "markdown",
   "id": "7b2d5144",
   "metadata": {},
   "source": [
    "### 2-3. Runnable 객체를 도구(tool) 변환\n",
    "- 문자열이나 dict 입력을 받는 Runnable을 도구로 변환\n",
    "- as_tool 메서드를 사용"
   ]
  },
  {
   "cell_type": "markdown",
   "id": "d1ea96cf",
   "metadata": {},
   "source": [
    "`(1) Document Loader`"
   ]
  },
  {
   "cell_type": "code",
   "execution_count": null,
   "id": "933f7aa5",
   "metadata": {},
   "outputs": [
    {
     "name": "stderr",
     "output_type": "stream",
     "text": [
      "C:\\Users\\USER\\AppData\\Local\\Temp\\ipykernel_47876\\2894064045.py:24: LangChainBetaWarning: This API is in beta and may change in the future.\n",
      "  wiki_search = runnable.as_tool(\n"
     ]
    }
   ],
   "source": [
    "from langchain_community.document_loaders import WikipediaLoader\n",
    "from langchain_core.documents import Document\n",
    "from langchain_core.runnables import RunnableLambda\n",
    "from pydantic import BaseModel, Field\n",
    "from typing import List\n",
    "\n",
    "# WikipediaLoader를 사용하여 위키피디아 문서를 검색하는 함수 \n",
    "def search_wiki(input_data: dict) -> List[Document]:\n",
    "    \"\"\"Search Wikipedia documents based on user input (query) and return k documents\"\"\"\n",
    "    query = input_data[\"query\"]\n",
    "    k = input_data.get(\"k\", 2)  \n",
    "    \n",
    "    # 이 부분이 바로 LangChain의 WikipediaLoader를 통해 Wikipedia API를 호출하는 부분이야.\n",
    "    wiki_loader = WikipediaLoader(query=query, load_max_docs=k, lang=\"ko\")\n",
    "    wiki_docs = wiki_loader.load()\n",
    "    return wiki_docs\n",
    "\n",
    "# 도구 호출에 사용할 입력 스키마 정의 \n",
    "class WikiSearchSchema(BaseModel):\n",
    "    \"\"\"Input schema for Wikipedia search.\"\"\"\n",
    "    query: str = Field(..., description=\"The query to search for in Wikipedia\")\n",
    "    k: int = Field(2, description=\"The number of documents to return (default is 2)\")\n",
    "\n",
    "# RunnableLambda 함수를 사용하여 위키피디아 문서 로더를 Runnable로 변환 \n",
    "runnable = RunnableLambda(search_wiki)\n",
    "wiki_search = runnable.as_tool(\n",
    "    name=\"wiki_search\",\n",
    "    description=dedent(\"\"\"\n",
    "        Use this tool when you need to search for information on Wikipedia.\n",
    "        It searches for Wikipedia articles related to the user's query and returns\n",
    "        a specified number of documents. This tool is useful when general knowledge\n",
    "        or background information is required.\n",
    "    \"\"\"),\n",
    "    args_schema=WikiSearchSchema\n",
    ")"
   ]
  },
  {
   "cell_type": "markdown",
   "id": "a0daa3a1",
   "metadata": {},
   "source": []
  },
  {
   "cell_type": "code",
   "execution_count": 43,
   "id": "ff26347a",
   "metadata": {},
   "outputs": [
    {
     "name": "stdout",
     "output_type": "stream",
     "text": [
      "자료형: \n",
      "<class 'langchain_core.tools.structured.StructuredTool'>\n",
      "----------------------------------------------------------------------------------------------------\n",
      "name: \n",
      "wiki_search\n",
      "----------------------------------------------------------------------------------------------------\n",
      "description: \n",
      "('Use this tool when you need to search for information on Wikipedia.\\n'\n",
      " \"It searches for Wikipedia articles related to the user's query and returns\\n\"\n",
      " 'a specified number of documents. This tool is useful when general knowledge\\n'\n",
      " 'or background information is required.')\n",
      "----------------------------------------------------------------------------------------------------\n",
      "schema: \n",
      "{'description': 'Input schema for Wikipedia search.',\n",
      " 'properties': {'k': {'default': 2,\n",
      "                      'description': 'The number of documents to return '\n",
      "                                     '(default is 2)',\n",
      "                      'title': 'K',\n",
      "                      'type': 'integer'},\n",
      "                'query': {'description': 'The query to search for in Wikipedia',\n",
      "                          'title': 'Query',\n",
      "                          'type': 'string'}},\n",
      " 'required': ['query'],\n",
      " 'title': 'WikiSearchSchema',\n",
      " 'type': 'object'}\n",
      "----------------------------------------------------------------------------------------------------\n"
     ]
    }
   ],
   "source": [
    "# 도구 속성\n",
    "print(\"자료형: \")\n",
    "print(type(wiki_search))\n",
    "print(\"-\"*100)\n",
    "\n",
    "print(\"name: \")\n",
    "print(wiki_search.name)\n",
    "print(\"-\"*100)\n",
    "\n",
    "print(\"description: \")\n",
    "pprint(wiki_search.description)\n",
    "print(\"-\"*100)\n",
    "\n",
    "print(\"schema: \")\n",
    "pprint(wiki_search.args_schema.schema())\n",
    "print(\"-\"*100)"
   ]
  },
  {
   "cell_type": "code",
   "execution_count": null,
   "id": "ed7ff3c4",
   "metadata": {},
   "outputs": [
    {
     "name": "stdout",
     "output_type": "stream",
     "text": [
      "page_content='오르조(이탈리아어: orzo) 또는 리소니(이탈리아어: risoni, 단수: risone 리소네[*])는 이탈리아의 파스타이다. \"오르조\"는 라틴어:hordeum에서 유래했으며 \"보리\"를 뜻한다. \"리소니\"는 \"큰 쌀\"이라는 뜻이다. 파스타의 일종으로 큰 쌀알의 모양을 하고 있으며 솔방울이나 잣보다는 좀 더 작다. 보통 라구 등 수프와 함께 먹는다. 원래는 보리로 만들었지만 요즘에는 박력분으로 만드는 것이 흔해졌다. 다른 이름으로는 kritharáki (\"little barley\") 혹은 manéstra(그리스 요리)로 부르며, lisān al-`uṣfūr (\"명금의 혀\")라고 아랍 요리에서 불린다. 오르조를 두고 이탈리아의 쌀이라고 부르기도 한다.\n",
      "터키에서는 아르파 셰흐리예(arpa şehriye)로 불리며, 셰흐리예의 하나이다. 필라브를 만들거나 초르바(수프)에 넣어 먹는다.\n",
      "\n",
      "\n",
      "== 같이 보기 ==\n",
      "파스티나\n",
      "셰흐리예\n",
      "\n",
      "\n",
      "== 각주 ==' metadata={'title': '오르조', 'summary': '오르조(이탈리아어: orzo) 또는 리소니(이탈리아어: risoni, 단수: risone 리소네[*])는 이탈리아의 파스타이다. \"오르조\"는 라틴어:hordeum에서 유래했으며 \"보리\"를 뜻한다. \"리소니\"는 \"큰 쌀\"이라는 뜻이다. 파스타의 일종으로 큰 쌀알의 모양을 하고 있으며 솔방울이나 잣보다는 좀 더 작다. 보통 라구 등 수프와 함께 먹는다. 원래는 보리로 만들었지만 요즘에는 박력분으로 만드는 것이 흔해졌다. 다른 이름으로는 kritharáki (\"little barley\") 혹은 manéstra(그리스 요리)로 부르며, lisān al-`uṣfūr (\"명금의 혀\")라고 아랍 요리에서 불린다. 오르조를 두고 이탈리아의 쌀이라고 부르기도 한다.\\n터키에서는 아르파 셰흐리예(arpa şehriye)로 불리며, 셰흐리예의 하나이다. 필라브를 만들거나 초르바(수프)에 넣어 먹는다.', 'source': 'https://ko.wikipedia.org/wiki/%EC%98%A4%EB%A5%B4%EC%A1%B0'}\n",
      "----------------------------------------------------------------------------------------------------\n",
      "page_content='이탈리아 요리(Italia 料理, 이탈리아어: cucina italiana 쿠치나 이탈리아나[*])는 남유럽에 있는 이탈리아의 요리이다. 기원전 4세기부터 다양한 사회·정치 변화와 함께 발전해 왔다. 특히 유럽인들이 세계 각지로 진출한 이후 신대륙에서 감자, 토마토, 단고추, 옥수수 등의 다양한 식재료가 유입되면서 이탈리아 요리는 큰 변화를 겪었다. 이런 재료는 18세기 이전까지는 보급되지 않았다.\n",
      "이탈리아 요리는 각 지역마다 고유한 특색이 있고 다양하지만 크게 북부와 남부로 구분한다. 다른 나라와 국경을 맞대던 북부는 산업화하여 호황을 누리면서 농업이 발달한 덕분에 쌀이나 유제품이 사용되는 요리가 많지만 경제적으로 침체됐던 남부는 지역 특산물인 올리브와 토마토, 모짜렐라 치즈나 해산물을 활용한 요리가 많다.\n",
      "간결함으로 귀결되는 특징이 있어 많은 경우 4개~8개 정도의 재료로 조리되며 정교한 준비 과정보다는 재료의 질에 따라 맛이 좌우된다. 치즈와 포도주는 이탈리아 요리의 핵심을 차지하며 여러 종류가 존재하는데 식재료와 치즈의 차이는 파스타의 종류와 요리에 기본이 되는 수프, 소스의 차이를 뜻한다.\n",
      "2013년 CNN은 세계 최고의 요리로 이탈리아 요리를 선정했다.\n",
      "\n",
      "\n",
      "== 역사 ==\n",
      "대략 기원전 4세기부터 시작되었다고 여겨진다. 여러 세기 동안 주변 지역과 정복자, 유명한 요리사, 정치 변동 및 신대륙의 발견 등 매우 다양한 요소가 이탈리아 요리의 형성에 영향을 끼쳤다.\n",
      "\n",
      "\n",
      "=== 고대 ===\n",
      "이탈리아 요리에 대해 최초의 저술을 남긴 사람은 그리스계 시칠리아 사람인 아케스트라투스이다. 기원전 4세기에 지금의 시라쿠사 지역에 살던 그는 “계절에 맞는 최상의 재료”를 사용하는 것에 대한 시를 남겼다. 그는 또한 향신료나 허브, 양념 따위를 사용한 음식과 그 중요성, 생선 요리 등에 대해 서술했다. 특정 양념이나 향신료가 지나쳐서는 안 된다는 것 또한 집필 내용에 포함됐지만 470가지의 요리법을 담은 책인 《데 레 코퀴나리아》(De re coquinaria《요리에 관하여》)를 출판하면서 이런 형태의 요리는 역사 속으로 사라졌다. 이 책은 생선의 비린내나 특정 재료의 맛을 숨기면서 다른 맛을 낼 수 있는 소스에 대해서 서술해 놓았다. 로마 사람들은 그리스 최고의 제빵사를 고용해서 빵을 만들었고 가장 뛰어난 재료로 알려져 있던 페코리니(pecorini)를 시칠리아에서 수입해 왔다고 한다. 로마인은 염소를 사육해 육식을 함과 동시에 여러 가지 식물도 재배한 것으로 알려져 있다.\n",
      "\n",
      "\n",
      "=== 중세 ===\n",
      "시칠리아 지방으로 로마와 아테네의 요리 문화가 유입됐고 섬 지형에 맞게 변형되고 다시 새로운 요리로 탈바꿈하게 됐다. 이탈리아 요리의 뿌리가 시칠리아에 기원한다고 볼 수 있는 셈이다.\n",
      "\n",
      "무슬림이 9세기까지 시칠리아를 침략하여 다스렸고 그 뒤에는 바이킹 세력이 남하하여 지중해 일대는 상당한 혼란기를 겪었다. 아랍인들은 시금치, 아몬드, 쌀 등을 도입했으며, 이러한 재료의 출현은 12세기 노르웨이의 왕이 시칠리아에 왔을 때 사람들이 기다란 면발을 만들어 먹었다는 것을 보았다고 기록한 것을 토대로 알 수 있다. 이 요리를 일부에서는 파스타의 첫 출현이라고 보고 있다. 당시에는 면을 단순히 밀가루와 물로 만들었다고 하는데, 사람들이 “아트리야”(atriya)라고 불렀다가 나중에는 “트리”(trii)로 굳어졌다고 한다. 트리(Trii)라는 이 낱말은 남부 이탈리아에서 스파게티의 다른 이름으로 쓰이기도 했다. 노르만 족들은 청어나 대구 따위를 절여 먹는 법도 들여왔으며, 이 방법은 아직까지도 이탈리아에서 사용되고 있다.\n",
      "냉장고가 없던 시절에 음식 저장법은 매우 중요했으며, 그 방법은 물리적이면서 화학적이기도 했다. 육류나 생선은 훈제하거나 얼음 위에 보관했고 아니면 건조시켰다. 소금물이나 소금에 식재료를 절여 두는 것은 청어나 돼지고기, 피클 따위를 보관하는 방법으로 유용하게 쓰였으며, 식초나 기름 등을 함께 넣어 동물성 단백질이 변질되지 않도록 했는데, 이는 지금의 방부제와 유사한 효과를 냈다. 과일 보관에는 술이나 꿀, 설탕이 쓰였다.\n",
      "\n",
      "이탈리아 반도 북부 지방에서는 독일 요리의 특징과 고대 로마식 요리의 특징이 서로 겹치는 현상이 나타났으며, 남쪽에는 아랍 문화에 토대한 식사 형태가 뿌리내려 지중해 일대로 널리 퍼져 갔다. 가장 오래된 이탈리아의 요리책은 13세기 나폴리에서 집필됐다고 전해지는 《리베르 데 코퀴나》(Liber de Coquina)로서 한국어로는 말 그대로 《요리책》이다. 이 책에는 로마식 배추 요리나 작은 잎을 잘라서 요리한 음식인 라바냐 파이(Lavagna pie)를 비롯해서 지금도 볼 수 있는 생선 요리도 많이 소개되어 있다.\n",
      "15세기에는 바티칸의 요리사로 근무한 마르티노가 《리브로 데 아르테 코퀴나리아》(Libro de Arte Coquinaria, 《요리법》)라는 원고를 써서 그때까지 소개된 책과는 아주 다른 고품격 음식을 다루었다. 그 중 한 가지는 “마카로니 시칠리아니”(Maccaroni Siciliani, 시실리풍 마카로니)인데 얇은 철제 기구에 밀가루 반죽을 덮어서 햇빛에 말려 먹는 요리였다. 주재료인 마카로니는 갓 잡은 수탉과 함께 요리하였고 사프란을 첨가했다. 그는 이 요리가 아랍 문화의 영향을 받았다고 적어 놓았다. 로마인의 요리법으로 포함된 것 중에는 양배추로 요리한 음식과 “코피에테”(coppiette)가 있었다. 그가 선보인 피렌체 풍 음식으로는 달걀로 요리한 볼로네즈 토르타(Bolognese Torta, 볼로냐풍 케이크)와 시에니즈 토르타(Sienese torta, 시에나풍 케이크)가 있었는데 제노바 풍 마카로니 요리, 호박, 버섯, 시금치를 이용해 만들었던 파이 등도 함께 다뤘다.\n",
      "마르티노의 요리는 1475년 베네치아에서 바르톨로미오 플라티나가 출판한 《참된 즐거움과 건강에 대하여》(De honesta voluptate et valetudine)에도 소개되었다. 마르티노의 원고를 참고해서 지역에 따라 분류하고 정리했으며, 마조레 호수의 농어나 가르다 호수의 정어리 등 인근에서 가져다가 사용한 식재료와 해당 음식을 자세히 설명하였다.\n",
      "\n",
      "\n",
      "=== 근대 초 ===\n",
      "이탈리아의 정통 요리는 피렌체와 로마, 베네치아, 페라라의 궁중에서 요리 문화가 꽃피운 이후 본격화하였다. 그중에서도 페라라의 에스테 궁전이 요리 문화의 선두 주자가 됐다. 1549년 이폴리토 데스테의 집사였던 크리스토포로 메시스부고(Christoforo Messisbugo)가 《Banchetti Composizioni di Vivande》를 출판하면서 이탈리아의 파이나 타르트를 소개했다. 그 책에서는 동양이나 동부 지방에서 유입된 재료, 124종의 다양한 양념에 대해서도 설명해 놓았다.\n",
      "\n",
      "1570년 교황 비오 5세의 개인 요리사였던 바르톨미오 스카피가 책 《오페라》(Opera)를 써냈다. 다섯 권으로 구성된 이 책은 요리하는 방법을 천 가지 이상 설명해 놓았을 뿐만 아니라 정찬에서 어떤 형태로 음식이 나가고 식단이 결정됐는지, 조리 기구나 요리하는 모습도 상세히 다뤘다. 다른 궁중에서 전해졌던 책과 이 책이 특별히 다른 점은 가금류를 요리하는 법이다. 인근의 동물이나 새를 잡아서 어떤 식으로 다듬고 깨끗하게 잘라내는지가 나와 있다. 혀나 머리, 어깨뼈 부위를 손질하는 방법도 다뤘다. 제3권에서는 생선이나 사순절에 먹는 음식을 설명했다. 생선 요리는 구워 먹거나 탕류, 찜으로 먹었으므로 상당히 간단했다. 제5권에서는 나폴리풍 피자 요리법이 등장하는데 당시 이탈리아에는 토마토가 존재하지 않았으므로 피자가 지금의 맛이 아니라 달거나 짭짜름한 맛이었다. 옥수수나 칠면조 역시 없었으므로 현대인이 생각하는 음식 문화와는 상당히 달랐다. 이외에 타라트나 파이, 얇게 썬 과일 튀김에 대해서도 썼다.\n",
      "1600년대 잔자코모 카스텔베트로(Giangiacomo Castelvetro)는 《모든 종류의 채소와 허브, 과일》(Brieve Racconto di Tutte le Radici di Tutte l'Herbe et di Tutti i Frutti)이라는 책을 썼다. 모데나 태생인 카스텔베르트로는 개신교도였기에 영국으로 건너갔다. 이 책은 이탈리아의 채소와 과일,' metadata={'title': '이탈리아 요리', 'summary': '이탈리아 요리(Italia 料理, 이탈리아어: cucina italiana 쿠치나 이탈리아나[*])는 남유럽에 있는 이탈리아의 요리이다. 기원전 4세기부터 다양한 사회·정치 변화와 함께 발전해 왔다. 특히 유럽인들이 세계 각지로 진출한 이후 신대륙에서 감자, 토마토, 단고추, 옥수수 등의 다양한 식재료가 유입되면서 이탈리아 요리는 큰 변화를 겪었다. 이런 재료는 18세기 이전까지는 보급되지 않았다.\\n이탈리아 요리는 각 지역마다 고유한 특색이 있고 다양하지만 크게 북부와 남부로 구분한다. 다른 나라와 국경을 맞대던 북부는 산업화하여 호황을 누리면서 농업이 발달한 덕분에 쌀이나 유제품이 사용되는 요리가 많지만 경제적으로 침체됐던 남부는 지역 특산물인 올리브와 토마토, 모짜렐라 치즈나 해산물을 활용한 요리가 많다.\\n간결함으로 귀결되는 특징이 있어 많은 경우 4개~8개 정도의 재료로 조리되며 정교한 준비 과정보다는 재료의 질에 따라 맛이 좌우된다. 치즈와 포도주는 이탈리아 요리의 핵심을 차지하며 여러 종류가 존재하는데 식재료와 치즈의 차이는 파스타의 종류와 요리에 기본이 되는 수프, 소스의 차이를 뜻한다.\\n2013년 CNN은 세계 최고의 요리로 이탈리아 요리를 선정했다.\\n\\n', 'source': 'https://ko.wikipedia.org/wiki/%EC%9D%B4%ED%83%88%EB%A6%AC%EC%95%84_%EC%9A%94%EB%A6%AC'}\n",
      "----------------------------------------------------------------------------------------------------\n"
     ]
    }
   ],
   "source": [
    "# 위키 검색 실행\n",
    "query = \"파스타의 유래\"\n",
    "wiki_results = wiki_search.invoke({\"query\":query})\n",
    "\n",
    "# 도구만 실행함\n",
    "# LLM은 관여하지 않음\n",
    "# 순수하게 \"파스타의 유래\"라는 query를 wiki 함수가 처리\n",
    "\n",
    "# 검색 결과 출력\n",
    "for result in wiki_results:\n",
    "    print(result)  \n",
    "    print(\"-\" * 100)  "
   ]
  },
  {
   "cell_type": "code",
   "execution_count": null,
   "id": "1b812a0a",
   "metadata": {},
   "outputs": [
    {
     "name": "stdout",
     "output_type": "stream",
     "text": [
      "AIMessage(content='', additional_kwargs={'tool_calls': [{'id': 'call_T7zMXEtzSZEftJoYWgoSg76P', 'function': {'arguments': '{\"query\": \"서울 강남 파스타 맛집 추천\"}', 'name': 'search_web'}, 'type': 'function'}, {'id': 'call_V9RSA1fzjIlRfVimM8FdMIbW', 'function': {'arguments': '{\"query\": \"파스타\"}', 'name': 'wiki_search'}, 'type': 'function'}], 'refusal': None}, response_metadata={'token_usage': {'completion_tokens': 53, 'prompt_tokens': 174, 'total_tokens': 227, 'completion_tokens_details': {'accepted_prediction_tokens': 0, 'audio_tokens': 0, 'reasoning_tokens': 0, 'rejected_prediction_tokens': 0}, 'prompt_tokens_details': {'audio_tokens': 0, 'cached_tokens': 0}}, 'model_name': 'gpt-4o-mini-2024-07-18', 'system_fingerprint': 'fp_34a54ae93c', 'finish_reason': 'tool_calls', 'logprobs': None}, id='run--b04fe6b1-b377-439e-afd7-95cf72ce8511-0', tool_calls=[{'name': 'search_web', 'args': {'query': '서울 강남 파스타 맛집 추천'}, 'id': 'call_T7zMXEtzSZEftJoYWgoSg76P', 'type': 'tool_call'}, {'name': 'wiki_search', 'args': {'query': '파스타'}, 'id': 'call_V9RSA1fzjIlRfVimM8FdMIbW', 'type': 'tool_call'}], usage_metadata={'input_tokens': 174, 'output_tokens': 53, 'total_tokens': 227})\n",
      "----------------------------------------------------------------------------------------------------\n",
      "''\n",
      "----------------------------------------------------------------------------------------------------\n",
      "[{'args': {'query': '서울 강남 파스타 맛집 추천'},\n",
      "  'id': 'call_T7zMXEtzSZEftJoYWgoSg76P',\n",
      "  'name': 'search_web',\n",
      "  'type': 'tool_call'},\n",
      " {'args': {'query': '파스타'},\n",
      "  'id': 'call_V9RSA1fzjIlRfVimM8FdMIbW',\n",
      "  'name': 'wiki_search',\n",
      "  'type': 'tool_call'}]\n",
      "----------------------------------------------------------------------------------------------------\n"
     ]
    }
   ],
   "source": [
    "# LLM에 도구를 바인딩 (2개의 도구 바인딩)\n",
    "\n",
    "# 여기서 실질적으로 llm(GPT 4o, 최상단에서 설정) 과 툴이 바인딩된다. \n",
    "llm_with_tools = llm.bind_tools(tools=[search_web, wiki_search])\n",
    "\n",
    "# 도구 호출이 필요한 LLM 호출을 수행\n",
    "query = \"서울 강남의 유명한 파스타 맛집은 어디인가요? 그리고 파스타의 유래를 알려주세요. \"\n",
    "ai_msg = llm_with_tools.invoke(query)\n",
    "\n",
    "# LLM의 전체 출력 결과 출력\n",
    "pprint(ai_msg)\n",
    "print(\"-\" * 100)\n",
    "\n",
    "# 메시지 content 속성 (텍스트 출력)\n",
    "pprint(ai_msg.content)\n",
    "print(\"-\" * 100)\n",
    "\n",
    "# LLM이 호출한 도구 정보 출력\n",
    "pprint(ai_msg.tool_calls)\n",
    "print(\"-\" * 100)"
   ]
  },
  {
   "cell_type": "markdown",
   "id": "db06d2ed",
   "metadata": {},
   "source": [
    "`(2) LCEL 체인`\n",
    "- 위키피디아 문서를 검색하고 내용을 요약하는 체인"
   ]
  },
  {
   "cell_type": "code",
   "execution_count": null,
   "id": "4a7ab14a",
   "metadata": {},
   "outputs": [
    {
     "name": "stdout",
     "output_type": "stream",
     "text": [
      "('피치(pici)는 이탈리아 토스카나주에서 유래한 손으로 만든 굵은 파스타로, 밀가루와 물로 반죽하여 길게 만들어진다. '\n",
      " '카르보나라(carbonara)는 로마의 파스타 요리로, 계란 노른자, 경성 치즈, 염장 돼지고기, 후추를 사용하여 만든다. 이 요리는 '\n",
      " '20세기 중반에 현재의 형태로 확립되었으며, 주로 스파게티와 함께 제공된다. 카르보나라의 명칭은 숯쟁이에서 유래했으며, 다양한 조리법과 '\n",
      " '재료가 존재한다.')\n"
     ]
    }
   ],
   "source": [
    "from langchain_core.prompts import ChatPromptTemplate\n",
    "from langchain_core.output_parsers import StrOutputParser\n",
    "from langchain_core.runnables import RunnableLambda\n",
    "from langchain_community.document_loaders import WikipediaLoader\n",
    "\n",
    "# WikipediaLoader를 사용하여 위키피디아 문서를 검색하고 텍스트로 반환하는 함수 \n",
    "def wiki_search_and_summarize(input_data: dict):\n",
    "    wiki_loader = WikipediaLoader(query=input_data[\"query\"], load_max_docs=2, lang=\"ko\")\n",
    "    wiki_docs = wiki_loader.load()\n",
    "\n",
    "    formatted_docs =[\n",
    "        f'<Document source=\"{doc.metadata[\"source\"]}\"/>\\n{doc.page_content}\\n</Document>'\n",
    "        for doc in wiki_docs\n",
    "        ]\n",
    "    \n",
    "    return formatted_docs\n",
    "\n",
    "# 요약 프롬프트 템플릿\n",
    "summary_prompt = ChatPromptTemplate.from_template(\n",
    "    \"Summarize the following text in a concise manner:\\n\\n{context}\\n\\nSummary:\"\n",
    ")\n",
    "\n",
    "# LLM 및 요약 체인 설정\n",
    "llm = ChatOpenAI(model=\"gpt-4o-mini\", temperature=0)\n",
    "summary_chain = (\n",
    "    {\"context\": RunnableLambda(wiki_search_and_summarize)}\n",
    "    | summary_prompt | llm | StrOutputParser() \n",
    ")\n",
    "\n",
    "# 요약 테스트 \n",
    "summarized_text = summary_chain.invoke({\"query\":\"파스타의 유래\"})\n",
    "pprint(summarized_text)"
   ]
  },
  {
   "cell_type": "code",
   "execution_count": null,
   "id": "a35ac080",
   "metadata": {},
   "outputs": [
    {
     "name": "stdout",
     "output_type": "stream",
     "text": [
      "자료형: \n",
      "<class 'langchain_core.tools.structured.StructuredTool'>\n",
      "----------------------------------------------------------------------------------------------------\n",
      "name: \n",
      "wiki_summary\n",
      "----------------------------------------------------------------------------------------------------\n",
      "description: \n",
      "('Use this tool when you need to search for information on Wikipedia.\\n'\n",
      " \"It searches for Wikipedia articles related to the user's query and returns\\n\"\n",
      " 'a summarized text. This tool is useful when general knowledge\\n'\n",
      " 'or background information is required.')\n",
      "----------------------------------------------------------------------------------------------------\n",
      "schema: \n",
      "{'description': 'Input schema for Wikipedia search.',\n",
      " 'properties': {'query': {'description': 'The query to search for in Wikipedia',\n",
      "                          'title': 'Query',\n",
      "                          'type': 'string'}},\n",
      " 'required': ['query'],\n",
      " 'title': 'WikiSummarySchema',\n",
      " 'type': 'object'}\n",
      "----------------------------------------------------------------------------------------------------\n"
     ]
    }
   ],
   "source": [
    "# 도구 호출에 사용할 입력 스키마 정의 \n",
    "class WikiSummarySchema(BaseModel):\n",
    "    \"\"\"Input schema for Wikipedia search.\"\"\"\n",
    "    query: str = Field(..., description=\"The query to search for in Wikipedia\")\n",
    "\n",
    "# as_tool 메소드를 사용하여 도구 객체로 변환\n",
    "wiki_summary = summary_chain.as_tool(\n",
    "    name=\"wiki_summary\",\n",
    "    description=dedent(\"\"\"\n",
    "        Use this tool when you need to search for information on Wikipedia.\n",
    "        It searches for Wikipedia articles related to the user's query and returns\n",
    "        a summarized text. This tool is useful when general knowledge\n",
    "        or background information is required.\n",
    "    \"\"\"),\n",
    "    args_schema=WikiSummarySchema\n",
    ")\n",
    "\n",
    "# 도구 속성\n",
    "print(\"자료형: \")\n",
    "print(type(wiki_summary))\n",
    "print(\"-\"*100)\n",
    "\n",
    "print(\"name: \")\n",
    "print(wiki_summary.name)\n",
    "print(\"-\"*100)\n",
    "\n",
    "print(\"description: \")\n",
    "pprint(wiki_summary.description)\n",
    "print(\"-\"*100)\n",
    "\n",
    "print(\"schema: \")\n",
    "pprint(wiki_summary.args_schema.schema())\n",
    "print(\"-\"*100)"
   ]
  },
  {
   "cell_type": "code",
   "execution_count": null,
   "id": "78824759",
   "metadata": {},
   "outputs": [
    {
     "name": "stdout",
     "output_type": "stream",
     "text": [
      "AIMessage(content='', additional_kwargs={'tool_calls': [{'id': 'call_0sdcWNlrKlEzKONnA2egk5tI', 'function': {'arguments': '{\"query\": \"서울 강남 파스타 맛집 추천\"}', 'name': 'search_web'}, 'type': 'function'}, {'id': 'call_ObK7YzEJzfjvI3wLR0nSTbzY', 'function': {'arguments': '{\"query\": \"파스타\"}', 'name': 'wiki_summary'}, 'type': 'function'}], 'refusal': None}, response_metadata={'token_usage': {'completion_tokens': 53, 'prompt_tokens': 150, 'total_tokens': 203, 'completion_tokens_details': {'audio_tokens': None, 'reasoning_tokens': 0}, 'prompt_tokens_details': {'audio_tokens': None, 'cached_tokens': 0}}, 'model_name': 'gpt-4o-mini-2024-07-18', 'system_fingerprint': 'fp_f85bea6784', 'finish_reason': 'tool_calls', 'logprobs': None}, id='run-06b9afaf-03e4-4802-b33c-a950b765186c-0', tool_calls=[{'name': 'search_web', 'args': {'query': '서울 강남 파스타 맛집 추천'}, 'id': 'call_0sdcWNlrKlEzKONnA2egk5tI', 'type': 'tool_call'}, {'name': 'wiki_summary', 'args': {'query': '파스타'}, 'id': 'call_ObK7YzEJzfjvI3wLR0nSTbzY', 'type': 'tool_call'}], usage_metadata={'input_tokens': 150, 'output_tokens': 53, 'total_tokens': 203})\n",
      "----------------------------------------------------------------------------------------------------\n",
      "''\n",
      "----------------------------------------------------------------------------------------------------\n",
      "[{'args': {'query': '서울 강남 파스타 맛집 추천'},\n",
      "  'id': 'call_0sdcWNlrKlEzKONnA2egk5tI',\n",
      "  'name': 'search_web',\n",
      "  'type': 'tool_call'},\n",
      " {'args': {'query': '파스타'},\n",
      "  'id': 'call_ObK7YzEJzfjvI3wLR0nSTbzY',\n",
      "  'name': 'wiki_summary',\n",
      "  'type': 'tool_call'}]\n",
      "----------------------------------------------------------------------------------------------------\n"
     ]
    }
   ],
   "source": [
    "# LLM에 도구를 바인딩\n",
    "llm_with_tools = llm.bind_tools(tools=[search_web, wiki_summary])\n",
    "\n",
    "# 도구 호출이 필요한 LLM 호출을 수행\n",
    "query = \"서울 강남의 유명한 파스타 맛집은 어디인가요? 그리고 파스타의 유래를 알려주세요. \"\n",
    "ai_msg = llm_with_tools.invoke(query)\n",
    "\n",
    "# LLM의 전체 출력 결과 출력\n",
    "pprint(ai_msg)\n",
    "print(\"-\" * 100)\n",
    "\n",
    "# 메시지 content 속성 (텍스트 출력)\n",
    "pprint(ai_msg.content)\n",
    "print(\"-\" * 100)\n",
    "\n",
    "# LLM이 호출한 도구 정보 출력\n",
    "pprint(ai_msg.tool_calls)\n",
    "print(\"-\" * 100)"
   ]
  },
  {
   "cell_type": "code",
   "execution_count": null,
   "id": "c87d0b1a",
   "metadata": {},
   "outputs": [
    {
     "data": {
      "text/plain": [
       "{'name': 'wiki_summary',\n",
       " 'args': {'query': '파스타'},\n",
       " 'id': 'call_ObK7YzEJzfjvI3wLR0nSTbzY',\n",
       " 'type': 'tool_call'}"
      ]
     },
     "execution_count": 33,
     "metadata": {},
     "output_type": "execute_result"
    }
   ],
   "source": [
    "ai_msg.tool_calls[1]"
   ]
  },
  {
   "cell_type": "code",
   "execution_count": null,
   "id": "12cbdd5c",
   "metadata": {},
   "outputs": [
    {
     "name": "stdout",
     "output_type": "stream",
     "text": [
      "content='The text discusses two main topics: pasta as a staple Italian food and the 2010 MBC drama \"Pasta.\" \\n\\n1. **Pasta**: Pasta, made from durum wheat semolina mixed with water or eggs, is a key Italian food, often cooked and served in various forms. Its history dates back to ancient times, with references to similar dishes in Greek and Arabic texts. There are two main types: dried pasta (pasta secca) and fresh pasta (pasta fresca), each with distinct ingredients and preparation methods. Dried pasta is known for its durability and variety, while fresh pasta is typically made with soft wheat and eggs, often used for special dishes.\\n\\n2. **Drama \"Pasta\"**: The drama aired from January to March 2010, focusing on the journey of a young aspiring chef, Seo Yoo-kyung, as she navigates her career in an Italian restaurant and her romantic relationship with the head chef, Choi Hyun-wook. The show features various characters, including fellow chefs and restaurant staff, and received several awards for its performances. Initially planned as a 16-episode series, it was extended to 20 episodes due to its popularity.' name='wiki_summary' tool_call_id='call_ObK7YzEJzfjvI3wLR0nSTbzY'\n",
      "----------------------------------------------------------------------------------------------------\n",
      "('The text discusses two main topics: pasta as a staple Italian food and the '\n",
      " '2010 MBC drama \"Pasta.\" \\n'\n",
      " '\\n'\n",
      " '1. **Pasta**: Pasta, made from durum wheat semolina mixed with water or '\n",
      " 'eggs, is a key Italian food, often cooked and served in various forms. Its '\n",
      " 'history dates back to ancient times, with references to similar dishes in '\n",
      " 'Greek and Arabic texts. There are two main types: dried pasta (pasta secca) '\n",
      " 'and fresh pasta (pasta fresca), each with distinct ingredients and '\n",
      " 'preparation methods. Dried pasta is known for its durability and variety, '\n",
      " 'while fresh pasta is typically made with soft wheat and eggs, often used for '\n",
      " 'special dishes.\\n'\n",
      " '\\n'\n",
      " '2. **Drama \"Pasta\"**: The drama aired from January to March 2010, focusing '\n",
      " 'on the journey of a young aspiring chef, Seo Yoo-kyung, as she navigates her '\n",
      " 'career in an Italian restaurant and her romantic relationship with the head '\n",
      " 'chef, Choi Hyun-wook. The show features various characters, including fellow '\n",
      " 'chefs and restaurant staff, and received several awards for its '\n",
      " 'performances. Initially planned as a 16-episode series, it was extended to '\n",
      " '20 episodes due to its popularity.')\n"
     ]
    }
   ],
   "source": [
    "# 도구 실행 \n",
    "tool_message = wiki_summary.invoke(ai_msg.tool_calls[1])\n",
    "\n",
    "print(tool_message)\n",
    "print(\"-\" * 100)\n",
    "pprint(tool_message.content)"
   ]
  },
  {
   "cell_type": "code",
   "execution_count": null,
   "id": "2e2de1a6",
   "metadata": {},
   "outputs": [
    {
     "name": "stdout",
     "output_type": "stream",
     "text": [
      "ai_msg: \n",
      " content='' additional_kwargs={'tool_calls': [{'id': 'call_Qok90XPBaLJsVPEoHtWmUfUJ', 'function': {'arguments': '{\"query\":\"파스타의 유래\"}', 'name': 'wiki_summary'}, 'type': 'function'}], 'refusal': None} response_metadata={'token_usage': {'completion_tokens': 19, 'prompt_tokens': 120, 'total_tokens': 139, 'completion_tokens_details': {'audio_tokens': None, 'reasoning_tokens': 0}, 'prompt_tokens_details': {'audio_tokens': None, 'cached_tokens': 0}}, 'model_name': 'gpt-4o-mini-2024-07-18', 'system_fingerprint': 'fp_f85bea6784', 'finish_reason': 'tool_calls', 'logprobs': None} id='run-623c1f91-8d8e-4d70-bc55-095590cd4ee6-0' tool_calls=[{'name': 'wiki_summary', 'args': {'query': '파스타의 유래'}, 'id': 'call_Qok90XPBaLJsVPEoHtWmUfUJ', 'type': 'tool_call'}] usage_metadata={'input_tokens': 120, 'output_tokens': 19, 'total_tokens': 139}\n",
      "----------------------------------------------------------------------------------------------------\n",
      "tool_msgs: \n",
      " [ToolMessage(content='피치(pici)는 이탈리아 토스카나주에서 유래한 손으로 만든 굵은 파스타로, 밀가루와 물로 반죽하여 길게 만들어진다. 카르보나라(carbonara)는 로마의 파스타 요리로, 계란 노른자, 경성 치즈, 염장 돼지고기, 후추를 사용하여 만든다. 이 요리는 20세기 중반에 현재의 형태로 확립되었으며, 주로 스파게티와 함께 제공된다. 카르보나라의 명칭은 여러 이론이 있으며, 석탄 광부의 식사로 유래했거나 이탈리아 통일을 주도한 비밀 결사와 관련이 있을 수 있다. 요리 방법은 파스타를 끓이고, 구안찰레를 볶은 후 계란과 치즈를 섞어 완성한다.', name='wiki_summary', tool_call_id='call_Qok90XPBaLJsVPEoHtWmUfUJ')]\n",
      "----------------------------------------------------------------------------------------------------\n",
      "('파스타의 유래는 이탈리아의 다양한 지역에서 발전해온 전통적인 요리입니다. 예를 들어, 피치(pici)는 토스카나주에서 유래한 손으로 만든 '\n",
      " '굵은 파스타로, 밀가루와 물로 반죽하여 길게 만들어집니다. \\n'\n",
      " '\\n'\n",
      " '또한, 카르보나라(carbonara)는 로마의 대표적인 파스타 요리로, 계란 노른자, 경성 치즈, 염장 돼지고기, 후추를 사용하여 '\n",
      " '만들어집니다. 이 요리는 20세기 중반에 현재의 형태로 확립되었으며, 주로 스파게티와 함께 제공됩니다. 카르보나라의 명칭에 대해서는 여러 '\n",
      " '이론이 있으며, 석탄 광부의 식사로 유래했거나 이탈리아 통일을 주도한 비밀 결사와 관련이 있을 수 있습니다. \\n'\n",
      " '\\n'\n",
      " '파스타는 이처럼 지역에 따라 다양한 형태와 조리법이 존재하며, 이탈리아 요리의 중요한 부분을 차지하고 있습니다.')\n"
     ]
    }
   ],
   "source": [
    "from datetime import datetime\n",
    "from langchain_core.prompts import ChatPromptTemplate\n",
    "from langchain_core.runnables import RunnableConfig, chain\n",
    "\n",
    "# 오늘 날짜 설정\n",
    "today = datetime.today().strftime(\"%Y-%m-%d\")\n",
    "\n",
    "# 프롬프트 템플릿 \n",
    "prompt = ChatPromptTemplate([\n",
    "    (\"system\", f\"You are a helpful AI assistant. Today's date is {today}.\"),\n",
    "    (\"human\", \"{user_input}\"),\n",
    "    (\"placeholder\", \"{messages}\"),\n",
    "])\n",
    "\n",
    "# LLM에 도구를 바인딩\n",
    "llm_with_tools = llm.bind_tools(tools=[wiki_summary])\n",
    "\n",
    "# LLM 체인 생성\n",
    "llm_chain = prompt | llm_with_tools\n",
    "\n",
    "# 도구 실행 체인 정의\n",
    "@chain\n",
    "def wiki_summary_chain(user_input: str, config: RunnableConfig):\n",
    "    input_ = {\"user_input\": user_input}\n",
    "    ai_msg = llm_chain.invoke(input_, config=config)\n",
    "    print(\"ai_msg: \\n\", ai_msg)\n",
    "    print(\"-\"*100)\n",
    "    tool_msgs = wiki_summary.batch(ai_msg.tool_calls, config=config)\n",
    "    print(\"tool_msgs: \\n\", tool_msgs)\n",
    "    print(\"-\"*100)\n",
    "    return llm_chain.invoke({**input_, \"messages\": [ai_msg, *tool_msgs]}, config=config)\n",
    "\n",
    "# 체인 실행\n",
    "response = wiki_summary_chain.invoke(\"파스타의 유래에 대해서 알려주세요.\")\n",
    "\n",
    "# 응답 출력 \n",
    "pprint(response.content)"
   ]
  },
  {
   "cell_type": "markdown",
   "id": "6f828547",
   "metadata": {},
   "source": [
    "### 2-4. 벡터저장소 검색기\n",
    "- @tool decorator 사용"
   ]
  },
  {
   "cell_type": "markdown",
   "id": "e9a9dc12",
   "metadata": {},
   "source": [
    "`(1) 문서 로드 및 인덱싱`"
   ]
  },
  {
   "cell_type": "code",
   "execution_count": null,
   "id": "a0da1d76",
   "metadata": {},
   "outputs": [
    {
     "name": "stdout",
     "output_type": "stream",
     "text": [
      "1\n"
     ]
    }
   ],
   "source": [
    "from langchain.document_loaders import TextLoader\n",
    "\n",
    "# 메뉴판 텍스트 데이터를 로드\n",
    "loader = TextLoader(\"./data/restaurant_menu.txt\", encoding=\"utf-8\")\n",
    "documents = loader.load()\n",
    "\n",
    "print(len(documents))"
   ]
  },
  {
   "cell_type": "code",
   "execution_count": null,
   "id": "5e94154e",
   "metadata": {},
   "outputs": [
    {
     "name": "stdout",
     "output_type": "stream",
     "text": [
      "총 10개의 메뉴 항목이 처리되었습니다.\n",
      "\n",
      "메뉴 번호: 1\n",
      "메뉴 이름: 시그니처 스테이크\n",
      "내용:\n",
      "1. 시그니처 스테이크\n",
      "   • 가격: ₩35,000\n",
      "   • 주요 식재료: 최상급 한우 등심, 로즈메리 감자, 그릴드 아스파라거스\n",
      "   • 설명: 셰프의 특제 시그니처 메뉴로, ...\n",
      "\n",
      "메뉴 번호: 2\n",
      "메뉴 이름: 트러플 리조또\n",
      "내용:\n",
      "2. 트러플 리조또\n",
      "   • 가격: ₩22,000\n",
      "   • 주요 식재료: 이탈리아산 아르보리오 쌀, 블랙 트러플, 파르미지아노 레지아노 치즈\n",
      "   • 설명: 크리미한 텍스처의 리조...\n"
     ]
    }
   ],
   "source": [
    "from langchain_core.documents import Document\n",
    "\n",
    "# 문서 분할 (Chunking)\n",
    "def split_menu_items(document):\n",
    "    \"\"\"\n",
    "    메뉴 항목을 분리하는 함수 \n",
    "    \"\"\"\n",
    "    # 정규표현식 정의 \n",
    "    pattern = r'(\\d+\\.\\s.*?)(?=\\n\\n\\d+\\.|$)'\n",
    "    menu_items = re.findall(pattern, document.page_content, re.DOTALL)\n",
    "    \n",
    "    # 각 메뉴 항목을 Document 객체로 변환\n",
    "    menu_documents = []\n",
    "    for i, item in enumerate(menu_items, 1):\n",
    "        # 메뉴 이름 추출\n",
    "        menu_name = item.split('\\n')[0].split('.', 1)[1].strip()\n",
    "        \n",
    "        # 새로운 Document 객체 생성\n",
    "        menu_doc = Document(\n",
    "            page_content=item.strip(),\n",
    "            metadata={\n",
    "                \"source\": document.metadata['source'],\n",
    "                \"menu_number\": i,\n",
    "                \"menu_name\": menu_name\n",
    "            }\n",
    "        )\n",
    "        menu_documents.append(menu_doc)\n",
    "    \n",
    "    return menu_documents\n",
    "\n",
    "\n",
    "# 메뉴 항목 분리 실행\n",
    "menu_documents = []\n",
    "for doc in documents:\n",
    "    menu_documents += split_menu_items(doc)\n",
    "\n",
    "# 결과 출력\n",
    "print(f\"총 {len(menu_documents)}개의 메뉴 항목이 처리되었습니다.\")\n",
    "for doc in menu_documents[:2]:\n",
    "    print(f\"\\n메뉴 번호: {doc.metadata['menu_number']}\")\n",
    "    print(f\"메뉴 이름: {doc.metadata['menu_name']}\")\n",
    "    print(f\"내용:\\n{doc.page_content[:100]}...\")"
   ]
  },
  {
   "cell_type": "code",
   "execution_count": null,
   "id": "8552797f",
   "metadata": {},
   "outputs": [
    {
     "name": "stdout",
     "output_type": "stream",
     "text": [
      "검색 결과: 2개\n",
      "메뉴 번호: 1\n",
      "메뉴 이름: 시그니처 스테이크\n",
      "\n",
      "메뉴 번호: 8\n",
      "메뉴 이름: 안심 스테이크 샐러드\n",
      "\n"
     ]
    }
   ],
   "source": [
    "# Chroma Vectorstore를 사용하기 위한 준비\n",
    "from langchain_chroma import Chroma\n",
    "from langchain_ollama  import OllamaEmbeddings\n",
    "\n",
    "embeddings_model = OllamaEmbeddings(model=\"bge-m3\") \n",
    "\n",
    "# Chroma 인덱스 생성\n",
    "menu_db = Chroma.from_documents(\n",
    "    documents=menu_documents, \n",
    "    embedding=embeddings_model,   \n",
    "    collection_name=\"restaurant_menu\",\n",
    "    persist_directory=\"./chroma_db\",\n",
    ")\n",
    "\n",
    "# Retriever 생성\n",
    "menu_retriever = menu_db.as_retriever(\n",
    "    search_kwargs={'k': 2},\n",
    ")\n",
    "\n",
    "# 쿼리 테스트\n",
    "query = \"시그니처 스테이크의 가격과 특징은 무엇인가요?\"\n",
    "docs = menu_retriever.invoke(query)\n",
    "print(f\"검색 결과: {len(docs)}개\")\n",
    "\n",
    "for doc in docs:\n",
    "    print(f\"메뉴 번호: {doc.metadata['menu_number']}\")\n",
    "    print(f\"메뉴 이름: {doc.metadata['menu_name']}\")\n",
    "    print()"
   ]
  },
  {
   "cell_type": "markdown",
   "id": "9cf58d36",
   "metadata": {},
   "source": [
    "- 와인 메뉴에 대해서도 같은 작업을 처리"
   ]
  },
  {
   "cell_type": "code",
   "execution_count": null,
   "id": "1dc82b06",
   "metadata": {},
   "outputs": [
    {
     "name": "stdout",
     "output_type": "stream",
     "text": [
      "총 10개의 메뉴 항목이 처리되었습니다.\n",
      "\n",
      "메뉴 번호: 1\n",
      "메뉴 이름: 샤토 마고 2015\n",
      "내용:\n",
      "1. 샤토 마고 2015\n",
      "   • 가격: ₩450,000\n",
      "   • 주요 품종: 카베르네 소비뇽, 메를로, 카베르네 프랑, 쁘띠 베르도\n",
      "   • 설명: 보르도 메독 지역의 프리미엄 ...\n",
      "\n",
      "메뉴 번호: 2\n",
      "메뉴 이름: 돔 페리뇽 2012\n",
      "내용:\n",
      "2. 돔 페리뇽 2012\n",
      "   • 가격: ₩380,000\n",
      "   • 주요 품종: 샤르도네, 피노 누아\n",
      "   • 설명: 프랑스 샴페인의 대명사로 알려진 프레스티지 큐베입니다. 시트러스...\n",
      "검색 결과: 2개\n",
      "메뉴 번호: 6\n",
      "메뉴 이름: 바롤로 몬프리바토 2017\n",
      "\n",
      "메뉴 번호: 7\n",
      "메뉴 이름: 풀리니 몽라쉐 1er Cru 2018\n",
      "\n"
     ]
    }
   ],
   "source": [
    "# 와인 메뉴 텍스트 데이터를 로드\n",
    "loader = TextLoader(\"./data/restaurant_wine.txt\", encoding=\"utf-8\")\n",
    "documents = loader.load()\n",
    "\n",
    "# 메뉴 항목 분리 실행\n",
    "menu_documents = []\n",
    "for doc in documents:\n",
    "    menu_documents += split_menu_items(doc)\n",
    "\n",
    "# 결과 출력\n",
    "print(f\"총 {len(menu_documents)}개의 메뉴 항목이 처리되었습니다.\")\n",
    "for doc in menu_documents[:2]:\n",
    "    print(f\"\\n메뉴 번호: {doc.metadata['menu_number']}\")\n",
    "    print(f\"메뉴 이름: {doc.metadata['menu_name']}\")\n",
    "    print(f\"내용:\\n{doc.page_content[:100]}...\")\n",
    "\n",
    "\n",
    "# Chroma 인덱스 생성\n",
    "wine_db = Chroma.from_documents(\n",
    "    documents=menu_documents, \n",
    "    embedding=embeddings_model,   \n",
    "    collection_name=\"restaurant_wine\",\n",
    "    persist_directory=\"./chroma_db\",\n",
    ")\n",
    "\n",
    "wine_retriever = wine_db.as_retriever(\n",
    "    search_kwargs={'k': 2},\n",
    ")\n",
    "\n",
    "query = \"스테이크와 어울리는 와인을 추천해주세요.\"\n",
    "docs = wine_retriever.invoke(query)\n",
    "print(f\"검색 결과: {len(docs)}개\")\n",
    "\n",
    "for doc in docs:\n",
    "    print(f\"메뉴 번호: {doc.metadata['menu_number']}\")\n",
    "    print(f\"메뉴 이름: {doc.metadata['menu_name']}\")\n",
    "    print()"
   ]
  },
  {
   "cell_type": "markdown",
   "id": "2040915b",
   "metadata": {},
   "source": [
    "`(2) 도구(tool) 정의하기`"
   ]
  },
  {
   "cell_type": "code",
   "execution_count": null,
   "id": "93d4c3a5",
   "metadata": {},
   "outputs": [
    {
     "name": "stdout",
     "output_type": "stream",
     "text": [
      "자료형: \n",
      "<class 'langchain_core.tools.structured.StructuredTool'>\n",
      "----------------------------------------------------------------------------------------------------\n",
      "name: \n",
      "search_menu\n",
      "----------------------------------------------------------------------------------------------------\n",
      "description: \n",
      "('Securely retrieve and access authorized restaurant menu information from the '\n",
      " 'encrypted database.\\n'\n",
      " 'Use this tool only for menu-related queries to maintain data '\n",
      " 'confidentiality.')\n",
      "----------------------------------------------------------------------------------------------------\n",
      "schema: \n",
      "{'description': 'Securely retrieve and access authorized restaurant menu '\n",
      "                'information from the encrypted database.\\n'\n",
      "                'Use this tool only for menu-related queries to maintain data '\n",
      "                'confidentiality.',\n",
      " 'properties': {'query': {'title': 'Query', 'type': 'string'}},\n",
      " 'required': ['query'],\n",
      " 'title': 'search_menu',\n",
      " 'type': 'object'}\n",
      "----------------------------------------------------------------------------------------------------\n"
     ]
    }
   ],
   "source": [
    "# 벡터 저장소 로드\n",
    "menu_db = Chroma(\n",
    "    embedding_function=embeddings_model,   \n",
    "    collection_name=\"restaurant_menu\",\n",
    "    persist_directory=\"./chroma_db\",\n",
    ")\n",
    "\n",
    "@tool\n",
    "def search_menu(query: str) -> List[Document]:\n",
    "    \"\"\"\n",
    "    Securely retrieve and access authorized restaurant menu information from the encrypted database.\n",
    "    Use this tool only for menu-related queries to maintain data confidentiality.\n",
    "    \"\"\"\n",
    "    docs = menu_db.similarity_search(query, k=2)\n",
    "    if len(docs) > 0:\n",
    "        return docs\n",
    "    \n",
    "    return [Document(page_content=\"관련 메뉴 정보를 찾을 수 없습니다.\")]\n",
    "\n",
    "# 도구 속성\n",
    "print(\"자료형: \")\n",
    "print(type(search_menu))\n",
    "print(\"-\"*100)\n",
    "\n",
    "print(\"name: \")\n",
    "print(search_menu.name)\n",
    "print(\"-\"*100)\n",
    "\n",
    "print(\"description: \")\n",
    "pprint(search_menu.description)\n",
    "print(\"-\"*100)\n",
    "\n",
    "print(\"schema: \")\n",
    "pprint(search_menu.args_schema.schema())\n",
    "print(\"-\"*100)"
   ]
  },
  {
   "cell_type": "code",
   "execution_count": null,
   "id": "b8ae1341",
   "metadata": {},
   "outputs": [
    {
     "name": "stdout",
     "output_type": "stream",
     "text": [
      "자료형: \n",
      "<class 'langchain_core.tools.structured.StructuredTool'>\n",
      "----------------------------------------------------------------------------------------------------\n",
      "name: \n",
      "search_wine\n",
      "----------------------------------------------------------------------------------------------------\n",
      "description: \n",
      "('Securely retrieve and access authorized restaurant wine information from the '\n",
      " 'encrypted database.\\n'\n",
      " 'Use this tool only for wine-related queries to maintain data '\n",
      " 'confidentiality.')\n",
      "----------------------------------------------------------------------------------------------------\n",
      "schema: \n",
      "{'description': 'Securely retrieve and access authorized restaurant wine '\n",
      "                'information from the encrypted database.\\n'\n",
      "                'Use this tool only for wine-related queries to maintain data '\n",
      "                'confidentiality.',\n",
      " 'properties': {'query': {'title': 'Query', 'type': 'string'}},\n",
      " 'required': ['query'],\n",
      " 'title': 'search_wine',\n",
      " 'type': 'object'}\n",
      "----------------------------------------------------------------------------------------------------\n"
     ]
    }
   ],
   "source": [
    "from langchain_core.tools import tool\n",
    "from typing import List\n",
    "from langchain_core.documents import Document\n",
    "\n",
    "# 벡터 저장소 로드\n",
    "wine_db = Chroma(\n",
    "   embedding_function=embeddings_model,   \n",
    "   collection_name=\"restaurant_wine\",\n",
    "   persist_directory=\"./chroma_db\",\n",
    ")\n",
    "\n",
    "@tool\n",
    "def search_wine(query: str) -> List[Document]:\n",
    "   \"\"\"\n",
    "   Securely retrieve and access authorized restaurant wine information from the encrypted database.\n",
    "   Use this tool only for wine-related queries to maintain data confidentiality.\n",
    "   \"\"\"\n",
    "   docs = wine_db.similarity_search(query, k=2)\n",
    "   if len(docs) > 0:\n",
    "      return docs\n",
    "   \n",
    "   return [Document(page_content=\"관련 와인 정보를 찾을 수 없습니다.\")]\n",
    "\n",
    "# 도구 속성\n",
    "print(\"자료형: \")\n",
    "print(type(search_wine))\n",
    "print(\"-\"*100)\n",
    "\n",
    "print(\"name: \")\n",
    "print(search_wine.name)\n",
    "print(\"-\"*100)\n",
    "\n",
    "print(\"description: \")\n",
    "pprint(search_wine.description)\n",
    "print(\"-\"*100)\n",
    "\n",
    "print(\"schema: \")\n",
    "pprint(search_wine.args_schema.schema())\n",
    "print(\"-\"*100)"
   ]
  },
  {
   "cell_type": "code",
   "execution_count": null,
   "id": "51ac56a5",
   "metadata": {},
   "outputs": [
    {
     "name": "stdout",
     "output_type": "stream",
     "text": [
      "AIMessage(content='', additional_kwargs={'tool_calls': [{'id': 'call_XLKNLQ85fTfcmKHV522hdvkr', 'function': {'arguments': '{\"query\": \"시그니처 스테이크\"}', 'name': 'search_menu'}, 'type': 'function'}, {'id': 'call_wriHXVV58o1eHmaggaTmmhj2', 'function': {'arguments': '{\"query\": \"스테이크\"}', 'name': 'search_wine'}, 'type': 'function'}], 'refusal': None}, response_metadata={'token_usage': {'completion_tokens': 53, 'prompt_tokens': 137, 'total_tokens': 190, 'completion_tokens_details': {'audio_tokens': None, 'reasoning_tokens': 0}, 'prompt_tokens_details': {'audio_tokens': None, 'cached_tokens': 0}}, 'model_name': 'gpt-4o-mini-2024-07-18', 'system_fingerprint': 'fp_f85bea6784', 'finish_reason': 'tool_calls', 'logprobs': None}, id='run-49e04df1-651f-4ef5-888e-35e473e34f82-0', tool_calls=[{'name': 'search_menu', 'args': {'query': '시그니처 스테이크'}, 'id': 'call_XLKNLQ85fTfcmKHV522hdvkr', 'type': 'tool_call'}, {'name': 'search_wine', 'args': {'query': '스테이크'}, 'id': 'call_wriHXVV58o1eHmaggaTmmhj2', 'type': 'tool_call'}], usage_metadata={'input_tokens': 137, 'output_tokens': 53, 'total_tokens': 190})\n",
      "----------------------------------------------------------------------------------------------------\n",
      "''\n",
      "----------------------------------------------------------------------------------------------------\n",
      "[{'args': {'query': '시그니처 스테이크'},\n",
      "  'id': 'call_XLKNLQ85fTfcmKHV522hdvkr',\n",
      "  'name': 'search_menu',\n",
      "  'type': 'tool_call'},\n",
      " {'args': {'query': '스테이크'},\n",
      "  'id': 'call_wriHXVV58o1eHmaggaTmmhj2',\n",
      "  'name': 'search_wine',\n",
      "  'type': 'tool_call'}]\n",
      "----------------------------------------------------------------------------------------------------\n"
     ]
    }
   ],
   "source": [
    "# LLM에 도구를 바인딩 (2개의 도구 바인딩)\n",
    "llm_with_tools = llm.bind_tools(tools=[search_menu, search_wine])\n",
    "\n",
    "# 도구 호출이 필요한 LLM 호출을 수행\n",
    "query = \"시그니처 스테이크의 가격과 특징은 무엇인가요? 그리고 스테이크와 어울리는 와인 추천도 해주세요.\"\n",
    "ai_msg = llm_with_tools.invoke(query)\n",
    "\n",
    "# LLM의 전체 출력 결과 출력\n",
    "pprint(ai_msg)\n",
    "print(\"-\" * 100)\n",
    "\n",
    "# 메시지 content 속성 (텍스트 출력)\n",
    "pprint(ai_msg.content)\n",
    "print(\"-\" * 100)\n",
    "\n",
    "# LLM이 호출한 도구 정보 출력\n",
    "pprint(ai_msg.tool_calls)\n",
    "print(\"-\" * 100)"
   ]
  },
  {
   "cell_type": "markdown",
   "id": "7f7b74a1",
   "metadata": {},
   "source": [
    "`(3) 여러 개의 도구(tool) 호출하기`"
   ]
  },
  {
   "cell_type": "code",
   "execution_count": null,
   "id": "23c3bba9",
   "metadata": {},
   "outputs": [
    {
     "name": "stdout",
     "output_type": "stream",
     "text": [
      "search_web\n",
      "wiki_summary\n",
      "search_wine\n",
      "search_menu\n"
     ]
    }
   ],
   "source": [
    "tools = [search_web, wiki_summary, search_wine, search_menu]\n",
    "for tool in tools:\n",
    "    print(tool.name)"
   ]
  },
  {
   "cell_type": "code",
   "execution_count": 24,
   "id": "1eda10de",
   "metadata": {},
   "outputs": [
    {
     "ename": "NameError",
     "evalue": "name 'tools' is not defined",
     "output_type": "error",
     "traceback": [
      "\u001b[31m---------------------------------------------------------------------------\u001b[39m",
      "\u001b[31mNameError\u001b[39m                                 Traceback (most recent call last)",
      "\u001b[36mCell\u001b[39m\u001b[36m \u001b[39m\u001b[32mIn[24]\u001b[39m\u001b[32m, line 19\u001b[39m\n\u001b[32m     16\u001b[39m llm = ChatOpenAI(model=\u001b[33m\"\u001b[39m\u001b[33mgpt-4o-mini\u001b[39m\u001b[33m\"\u001b[39m)\n\u001b[32m     18\u001b[39m \u001b[38;5;66;03m# 4개의 검색 도구를 LLM에 바인딩\u001b[39;00m\n\u001b[32m---> \u001b[39m\u001b[32m19\u001b[39m llm_with_tools = llm.bind_tools(tools=\u001b[43mtools\u001b[49m)\n\u001b[32m     21\u001b[39m \u001b[38;5;66;03m# LLM 체인 생성\u001b[39;00m\n\u001b[32m     22\u001b[39m llm_chain = prompt | llm_with_tools\n",
      "\u001b[31mNameError\u001b[39m: name 'tools' is not defined"
     ]
    }
   ],
   "source": [
    "from datetime import datetime\n",
    "from langchain_core.prompts import ChatPromptTemplate\n",
    "from langchain_core.runnables import RunnableConfig, chain\n",
    "\n",
    "# 오늘 날짜 설정\n",
    "today = datetime.today().strftime(\"%Y-%m-%d\")\n",
    "\n",
    "# 프롬프트 템플릿 \n",
    "prompt = ChatPromptTemplate([\n",
    "    (\"system\", f\"You are a helpful AI assistant. Today's date is {today}.\"),\n",
    "    (\"human\", \"{user_input}\"),\n",
    "    (\"placeholder\", \"{messages}\"),\n",
    "])\n",
    "\n",
    "# ChatOpenAI 모델 초기화 \n",
    "llm = ChatOpenAI(model=\"gpt-4o-mini\")\n",
    "\n",
    "# 4개의 검색 도구를 LLM에 바인딩\n",
    "llm_with_tools = llm.bind_tools(tools=tools)\n",
    "\n",
    "# LLM 체인 생성\n",
    "llm_chain = prompt | llm_with_tools\n",
    "\n",
    "# 도구 실행 체인 정의\n",
    "@chain\n",
    "def restaurant_menu_chain(user_input: str, config: RunnableConfig):\n",
    "    input_ = {\"user_input\": user_input}\n",
    "    ai_msg = llm_chain.invoke(input_, config=config)\n",
    "\n",
    "    tool_msgs = []\n",
    "    for tool_call in ai_msg.tool_calls:\n",
    "        print(f\"{tool_call['name']}: \\n{tool_call}\")\n",
    "        print(\"-\"*100)\n",
    "\n",
    "        if tool_call[\"name\"] == \"search_web\":\n",
    "            tool_message = search_web.invoke(tool_call, config=config)\n",
    "            tool_msgs.append(tool_message)\n",
    "\n",
    "        elif tool_call[\"name\"] == \"wiki_summary\":\n",
    "            tool_message = wiki_summary.invoke(tool_call, config=config)\n",
    "            tool_msgs.append(tool_message)\n",
    "\n",
    "        elif tool_call[\"name\"] == \"search_wine\":\n",
    "            tool_message = search_wine.invoke(tool_call, config=config)\n",
    "            tool_msgs.append(tool_message)\n",
    "\n",
    "        elif tool_call[\"name\"] == \"search_menu\":\n",
    "            tool_message = search_menu.invoke(tool_call, config=config)\n",
    "            tool_msgs.append(tool_message)            \n",
    "\n",
    "    print(\"tool_msgs: \\n\", tool_msgs)\n",
    "    print(\"-\"*100)\n",
    "    return llm_chain.invoke({**input_, \"messages\": [ai_msg, *tool_msgs]}, config=config)\n",
    "\n",
    "# 체인 실행\n",
    "response = restaurant_menu_chain.invoke(\"시그니처 스테이크의 가격과 특징은 무엇인가요? 그리고 스테이크와 어울리는 와인 추천도 해주세요.\")\n",
    "\n",
    "# 응답 출력 \n",
    "print(response.content)"
   ]
  },
  {
   "cell_type": "code",
   "execution_count": null,
   "id": "f93b3215",
   "metadata": {},
   "outputs": [
    {
     "name": "stdout",
     "output_type": "stream",
     "text": [
      "search_menu: \n",
      "{'name': 'search_menu', 'args': {'query': '파스타'}, 'id': 'call_Wg6jgke28Hm4BOpibn6Kf0of', 'type': 'tool_call'}\n",
      "----------------------------------------------------------------------------------------------------\n",
      "wiki_summary: \n",
      "{'name': 'wiki_summary', 'args': {'query': '파스타'}, 'id': 'call_LbwiZ4NxT6adl64lYVDJXncI', 'type': 'tool_call'}\n",
      "----------------------------------------------------------------------------------------------------\n",
      "tool_msgs: \n",
      " [ToolMessage(content=\"[Document(metadata={'menu_name': '해산물 파스타', 'menu_number': 6, 'source': './data/restaurant_menu.txt'}, page_content='6. 해산물 파스타\\\\n   • 가격: ₩24,000\\\\n   • 주요 식재료: 링귀네 파스타, 새우, 홍합, 오징어, 토마토 소스\\\\n   • 설명: 알 덴테로 삶은 링귀네 파스타에 신선한 해산물을 듬뿍 올린 메뉴입니다. 토마토 소스의 산미와 해산물의 감칠맛이 조화를 이루며, 마늘과 올리브 오일로 풍미를 더했습니다. 파슬리를 뿌려 향긋한 맛을 더합니다.'), Document(metadata={'menu_name': '랍스터 비스크', 'menu_number': 7, 'source': './data/restaurant_menu.txt'}, page_content='7. 랍스터 비스크\\\\n   • 가격: ₩28,000\\\\n   • 주요 식재료: 랍스터, 생크림, 브랜디, 파프리카\\\\n   • 설명: 랍스터 껍질과 육수로 오랜 시간 우려낸 진한 비스크 수프입니다. 생크림으로 부드러운 질감을 더하고 브랜디로 깊은 풍미를 살렸습니다. 작은 랍스터 살을 토핑으로 올려 고급스러움을 더했습니다.')]\", name='search_menu', tool_call_id='call_Wg6jgke28Hm4BOpibn6Kf0of'), ToolMessage(content='파스타는 이탈리아의 주요 밀 식품으로, 듀럼밀 세몰라와 물 또는 밀가루와 달걀로 만들어지며, 삶거나 구워서 먹는다. 이탈리아의 국민 음식으로 여겨지며, 그 기원은 고대 그리스와 로마 시대까지 거슬러 올라간다. 파스타는 건파스타와 생파스타로 나뉘며, 각각 다양한 형태와 조리법이 있다. 파스타 에 파졸리는 콩과 파스타로 만든 전통 이탈리아 요리로, 육류 없이도 풍부한 맛을 낸다. 이 요리는 지역에 따라 다양한 변형이 존재한다.', name='wiki_summary', tool_call_id='call_LbwiZ4NxT6adl64lYVDJXncI')]\n",
      "----------------------------------------------------------------------------------------------------\n",
      "### 파스타 메뉴\n",
      "현재 파스타 메뉴로는 다음과 같은 두 가지 옵션이 있습니다:\n",
      "\n",
      "1. **해산물 파스타**\n",
      "   - 가격: ₩24,000\n",
      "   - 주요 재료: 링귀니 파스타, 새우, 대합, 오징어, 토마토 소스\n",
      "   - 설명: 신선한 해산물을 넉넉히 넣고 토마토 소스로 맛을 낸 메뉴입니다. 파스타의 상큼한 맛과 해산물의 깊은 맛이 조화를 이룹니다.\n",
      "\n",
      "2. **팬스테이크 비프**\n",
      "   - 가격: ₩28,000\n",
      "   - 주요 재료: 팬스테이크, 스캔들, 브로콜리, 파프리카\n",
      "   - 설명: 팬스테이크와 함께 다양한 채소를 곁들여 만든 요리입니다. 스캔들과 함께 제공되며, 풍부한 맛을 경험할 수 있습니다.\n",
      "\n",
      "### 파스타의 역사\n",
      "파스타는 이탈리아 요리의 상징적인 음식으로, 주로 밀가루와 물로 만든 반죽을 가공하여 만든 다양한 형태의 면을 의미합니다. 파스타는 고대 중국의 면 요리에서 유래되었다고도 전해지지만, 현재 우리가 아는 형태는 주로 이탈리아에서 발전했습니다.\n",
      "\n",
      "파스타의 기원은 고대 로마와 그리스 시대로 거슬러 올라갑니다. 로마 시대에는 밀가루와 물로 만든 반죽을 끓여먹었고, 중세 시대에는 다양한 방식으로 조리되기 시작했습니다. 이탈리아의 각 지역마다 특색 있는 파스타 요리가 발전하였고, 18세기에는 이탈리아 전역에서 파스타가 대중화되었습니다.\n",
      "\n",
      "오늘날 파스타는 전 세계적으로 사랑받는 음식이 되었으며, 다양한 소스와 재료와 조화를 이루어 많은 요리에서 사용됩니다. \n",
      "\n",
      "파스타의 종류에는 스파게티, 펜네, 라자냐, 오레키에떼 등 다양한 형태가 있으며, 각 종류는 독특한 조리법과 소스와 함께 제공됩니다.\n"
     ]
    }
   ],
   "source": [
    "# 체인 실행\n",
    "response = restaurant_menu_chain.invoke(\"파스타 메뉴가 있나요? 이 음식의 역사 또는 유래를 알려주세요.\")\n",
    "\n",
    "# 응답 출력 \n",
    "print(response.content)"
   ]
  },
  {
   "cell_type": "markdown",
   "id": "cc3b78e3",
   "metadata": {},
   "source": [
    "## 3. Few-shot 프롬프팅 \n",
    "- 각 도구의 용도를 구분하여 few-shot 예제로 제시"
   ]
  },
  {
   "cell_type": "markdown",
   "id": "4cd3e6b9",
   "metadata": {},
   "source": [
    "### 3-1. Few-shot 도구 호출"
   ]
  },
  {
   "cell_type": "code",
   "execution_count": null,
   "id": "5fd743c1",
   "metadata": {},
   "outputs": [
    {
     "name": "stdout",
     "output_type": "stream",
     "text": [
      "{'name': 'search_menu', 'args': {'query': '스테이크'}, 'id': 'call_EJ0IaSrUcav9dLfXy0ccixRL', 'type': 'tool_call'}\n",
      "{'name': 'search_wine', 'args': {'query': '스테이크'}, 'id': 'call_3N22q7Ib5qGEoemxg2xMHIUk', 'type': 'tool_call'}\n"
     ]
    }
   ],
   "source": [
    "from langchain_core.messages import AIMessage, HumanMessage, ToolMessage\n",
    "from langchain_core.prompts import ChatPromptTemplate\n",
    "\n",
    "examples = [\n",
    "    HumanMessage(\"트러플 리조또의 가격과 특징, 그리고 어울리는 와인에 대해 알려주세요.\", name=\"example_user\"),\n",
    "    AIMessage(\"메뉴 정보를 검색하고, 위키피디아에서 추가 정보를 찾은 후, 어울리는 와인을 검색해보겠습니다.\", name=\"example_assistant\"),\n",
    "    AIMessage(\"\", name=\"example_assistant\", tool_calls=[{\"name\": \"search_menu\", \"args\": {\"query\": \"트러플 리조또\"}, \"id\": \"1\"}]),\n",
    "    ToolMessage(\"트러플 리조또: 가격 ₩28,000, 이탈리아 카나롤리 쌀 사용, 블랙 트러플 향과 파르메산 치즈를 듬뿍 넣어 조리\", tool_call_id=\"1\"),\n",
    "    AIMessage(\"트러플 리조또의 가격은 ₩28,000이며, 이탈리아 카나롤리 쌀을 사용하고 블랙 트러플 향과 파르메산 치즈를 듬뿍 넣어 조리합니다. 이제 추가 정보를 위키피디아에서 찾아보겠습니다.\", name=\"example_assistant\"),\n",
    "    AIMessage(\"\", name=\"example_assistant\", tool_calls=[{\"name\": \"wiki_summary\", \"args\": {\"query\": \"트러플 리조또\", \"k\": 1}, \"id\": \"2\"}]),\n",
    "    ToolMessage(\"트러플 리조또는 이탈리아 요리의 대표적인 리조또 요리 중 하나로, 고급 식재료인 트러플을 사용하여 만든 크리미한 쌀 요리입니다. 주로 아르보리오나 카나롤리 등의 쌀을 사용하며, 트러플 오일이나 생 트러플을 넣어 조리합니다. 리조또 특유의 크리미한 질감과 트러플의 강렬하고 독특한 향이 조화를 이루는 것이 특징입니다.\", tool_call_id=\"2\"),\n",
    "    AIMessage(\"트러플 리조또의 특징에 대해 알아보았습니다. 이제 어울리는 와인을 검색해보겠습니다.\", name=\"example_assistant\"),\n",
    "    AIMessage(\"\", name=\"example_assistant\", tool_calls=[{\"name\": \"search_wine\", \"args\": {\"query\": \"트러플 리조또에 어울리는 와인\"}, \"id\": \"3\"}]),\n",
    "    ToolMessage(\"트러플 리조또와 잘 어울리는 와인으로는 주로 중간 바디의 화이트 와인이 추천됩니다. 1. 샤르도네: 버터와 오크향이 트러플의 풍미를 보완합니다. 2. 피노 그리지오: 산뜻한 산미가 리조또의 크리미함과 균형을 이룹니다. 3. 베르나차: 이탈리아 토스카나 지방의 화이트 와인으로, 미네랄리티가 트러플과 잘 어울립니다.\", tool_call_id=\"3\"),\n",
    "    AIMessage(\"트러플 리조또(₩28,000)는 이탈리아의 대표적인 리조또 요리 중 하나로, 이탈리아 카나롤리 쌀을 사용하고 블랙 트러플 향과 파르메산 치즈를 듬뿍 넣어 조리합니다. 주요 특징으로는 크리미한 질감과 트러플의 강렬하고 독특한 향이 조화를 이루는 점입니다. 고급 식재료인 트러플을 사용해 풍부한 맛과 향을 내며, 주로 아르보리오나 카나롤리 등의 쌀을 사용합니다. 트러플 리조또와 잘 어울리는 와인으로는 중간 바디의 화이트 와인이 추천됩니다. 특히 버터와 오크향이 트러플의 풍미를 보완하는 샤르도네, 산뜻한 산미로 리조또의 크리미함과 균형을 이루는 피노 그리지오, 그리고 미네랄리티가 트러플과 잘 어울리는 이탈리아 토스카나 지방의 베르나차 등이 좋은 선택이 될 수 있습니다.\", name=\"example_assistant\"),\n",
    "]\n",
    "\n",
    "system = \"\"\"You are an AI assistant providing restaurant menu information and general food-related knowledge.\n",
    "For information about the restaurant's menu, use the search_menu tool.\n",
    "For other general information, use the wiki_summary tool.\n",
    "For wine recommendations or pairing information, use the search_wine tool.\n",
    "If additional web searches are needed or for the most up-to-date information, use the search_web tool.\n",
    "\"\"\"\n",
    "\n",
    "few_shot_prompt = ChatPromptTemplate.from_messages([\n",
    "    (\"system\", system),\n",
    "    *examples,\n",
    "    (\"human\", \"{query}\"),\n",
    "])\n",
    "\n",
    "# ChatOpenAI 모델 초기화 \n",
    "llm = ChatOpenAI(model=\"gpt-4o-mini\")\n",
    "\n",
    "# 검색 도구를 직접 LLM에 바인딩 가능\n",
    "llm_with_tools = llm.bind_tools(tools=tools)\n",
    "\n",
    "# Few-shot 프롬프트를 사용한 체인 구성\n",
    "fewshot_search_chain = few_shot_prompt | llm_with_tools\n",
    "\n",
    "# 체인 실행\n",
    "query = \"스테이크 메뉴가 있나요? 스테이크와 어울리는 와인을 추천해주세요.\"\n",
    "response = fewshot_search_chain.invoke(query)\n",
    "\n",
    "# 결과 출력\n",
    "for tool_call in response.tool_calls:\n",
    "    print(tool_call)"
   ]
  },
  {
   "cell_type": "code",
   "execution_count": null,
   "id": "c442be3f",
   "metadata": {},
   "outputs": [
    {
     "name": "stdout",
     "output_type": "stream",
     "text": [
      "{'name': 'wiki_summary', 'args': {'query': '파스타의 유래'}, 'id': 'call_YZHN8CEu6Xc7EJFrv1Q1rGOR', 'type': 'tool_call'}\n",
      "{'name': 'search_web', 'args': {'query': '서울 강남 파스타 맛집 추천'}, 'id': 'call_QZChGxKZIe82QbtyFhFs0zsz', 'type': 'tool_call'}\n"
     ]
    }
   ],
   "source": [
    "# 체인 실행\n",
    "query = \"파스타의 유래에 대해서 알고 있나요? 서울 강남의 파스타 맛집을 추천해주세요.\"\n",
    "response = fewshot_search_chain.invoke(query)\n",
    "\n",
    "# 결과 출력\n",
    "for tool_call in response.tool_calls:\n",
    "    print(tool_call)"
   ]
  },
  {
   "cell_type": "markdown",
   "id": "a2f10c84",
   "metadata": {},
   "source": [
    "### 3-2. 답변 생성 체인 "
   ]
  },
  {
   "cell_type": "code",
   "execution_count": null,
   "id": "49a4d3c7",
   "metadata": {},
   "outputs": [
    {
     "name": "stdout",
     "output_type": "stream",
     "text": [
      "search_menu: \n",
      "{'name': 'search_menu', 'args': {'query': '스테이크'}, 'id': 'call_7Z0oF5d8P3sYdp8i7acUtHuT', 'type': 'tool_call'}\n",
      "----------------------------------------------------------------------------------------------------\n",
      "search_wine: \n",
      "{'name': 'search_wine', 'args': {'query': '스테이크'}, 'id': 'call_R9g0aA3v2D2gEFycG4ef4dsr', 'type': 'tool_call'}\n",
      "----------------------------------------------------------------------------------------------------\n",
      "tool_msgs: \n",
      " [ToolMessage(content=\"[Document(metadata={'menu_name': '시그니처 스테이크', 'menu_number': 1, 'source': './data/restaurant_menu.txt'}, page_content='1. 시그니처 스테이크\\\\n   • 가격: ₩35,000\\\\n   • 주요 식재료: 최상급 한우 등심, 로즈메리 감자, 그릴드 아스파라거스\\\\n   • 설명: 셰프의 특제 시그니처 메뉴로, 21일간 건조 숙성한 최상급 한우 등심을 사용합니다. 미디엄 레어로 조리하여 육즙을 최대한 보존하며, 로즈메리 향의 감자와 아삭한 그릴드 아스파라거스가 곁들여집니다. 레드와인 소스와 함께 제공되어 풍부한 맛을 더합니다.'), Document(metadata={'menu_name': '안심 스테이크 샐러드', 'menu_number': 8, 'source': './data/restaurant_menu.txt'}, page_content='8. 안심 스테이크 샐러드\\\\n   • 가격: ₩26,000\\\\n   • 주요 식재료: 소고기 안심, 루꼴라, 체리 토마토, 발사믹 글레이즈\\\\n   • 설명: 부드러운 안심 스테이크를 얇게 슬라이스하여 신선한 루꼴라 위에 올린 메인 요리 샐러드입니다. 체리 토마토와 파마산 치즈 플레이크로 풍미를 더하고, 발사믹 글레이즈로 마무리하여 고기의 풍미를 한층 끌어올렸습니다.')]\", name='search_menu', tool_call_id='call_7Z0oF5d8P3sYdp8i7acUtHuT'), ToolMessage(content=\"[Document(metadata={'menu_name': '그랜지 2016', 'menu_number': 10, 'source': './data/restaurant_wine.txt'}, page_content='10. 그랜지 2016\\\\n    • 가격: ₩950,000\\\\n    • 주요 품종: 시라\\\\n    • 설명: 호주의 대표적인 아이콘 와인입니다. 블랙베리, 자두, 블랙 올리브의 강렬한 과실향과 함께 유칼립투스, 초콜릿, 가죽의 복잡한 향이 어우러집니다. 풀바디이며 강렬한 타닌과 산도가 특징적입니다. 놀라운 집중도와 깊이, 긴 여운을 자랑하며, 수십 년의 숙성 잠재력을 가집니다.'), Document(metadata={'menu_name': '사시카이아 2018', 'menu_number': 3, 'source': './data/restaurant_wine.txt'}, page_content='3. 사시카이아 2018\\\\n   • 가격: ₩420,000\\\\n   • 주요 품종: 카베르네 소비뇽, 카베르네 프랑, 메를로\\\\n   • 설명: 이탈리아 토스카나의 슈퍼 투스칸 와인입니다. 블랙베리, 카시스의 강렬한 과실향과 함께 허브, 가죽, 스파이스 노트가 복잡성을 더합니다. 풀바디이지만 우아한 타닌과 신선한 산도가 균형을 잡아줍니다. 오크 숙성으로 인한 바닐라, 초콜릿 향이 은은하게 느껴집니다.')]\", name='search_wine', tool_call_id='call_R9g0aA3v2D2gEFycG4ef4dsr')]\n",
      "----------------------------------------------------------------------------------------------------\n",
      "('메뉴에서 확인한 스테이크는 다음과 같습니다:\\n'\n",
      " '\\n'\n",
      " '1. **스테이크**  \\n'\n",
      " '   - **가격**: ₩35,000  \\n'\n",
      " '   - **주요 재료**: 최상급 한우 등심, 로즈마리 간장, 훈제된 아스파라거스  \\n'\n",
      " '   - **설명**: 소스와 함께 제공되며, 미디엄 레어로 조리된 최상급 한우를 사용합니다. 부드러운 스테이크와 함께 신선한 로즈마리의 '\n",
      " '향이 더해집니다.\\n'\n",
      " '\\n'\n",
      " '이제 스테이크와 어울리는 와인을 추천해 드리겠습니다. \\n'\n",
      " '\\n'\n",
      " '### 스테이크와 어울리는 와인 추천\\n'\n",
      " '1. **까베르네 소비뇽**: 강한 바디와 풍부한 타닌이 스테이크의 육즙과 잘 어울립니다.\\n'\n",
      " '2. **말벡**: 부드러운 질감과 과일 향이 특징이며, 특히 고기 요리와 잘 매칭됩니다.\\n'\n",
      " '3. **쉬라즈**: 스파이시한 맛과 풍부한 과일의 조화가 스테이크의 풍미를 더욱 강조합니다.\\n'\n",
      " '\\n'\n",
      " '이렇게 스테이크와 잘 어울리는 와인 몇 가지를 추천드립니다. ')\n"
     ]
    }
   ],
   "source": [
    "from datetime import datetime\n",
    "from langchain_core.messages import AIMessage, HumanMessage, ToolMessage\n",
    "from langchain_core.prompts import ChatPromptTemplate\n",
    "from langchain_core.runnables import RunnableConfig, chain\n",
    "from langchain_openai import ChatOpenAI\n",
    "\n",
    "# 오늘 날짜 설정\n",
    "today = datetime.today().strftime(\"%Y-%m-%d\")\n",
    "\n",
    "# 프롬프트 템플릿 \n",
    "system = \"\"\"You are an AI assistant providing restaurant menu information and general food-related knowledge.\n",
    "For information about the restaurant's menu, use the search_menu tool.\n",
    "For other general information, use the wiki_summary tool.\n",
    "For wine recommendations or pairing information, use the search_wine tool.\n",
    "If additional web searches are needed or for the most up-to-date information, use the search_web tool.\n",
    "\"\"\"\n",
    "\n",
    "few_shot_prompt = ChatPromptTemplate.from_messages([\n",
    "    (\"system\", system + f\"Today's date is {today}.\"),\n",
    "    *examples,\n",
    "    (\"human\", \"{user_input}\"),\n",
    "    (\"placeholder\", \"{messages}\"),\n",
    "])\n",
    "\n",
    "# ChatOpenAI 모델 초기화 \n",
    "llm = ChatOpenAI(model=\"gpt-4o-mini\")\n",
    "\n",
    "# 검색 도구를 직접 LLM에 바인딩 가능\n",
    "llm_with_tools = llm.bind_tools(tools=tools)\n",
    "\n",
    "# Few-shot 프롬프트를 사용한 체인 구성\n",
    "fewshot_search_chain = few_shot_prompt | llm_with_tools\n",
    "\n",
    "# 도구 실행 체인 정의\n",
    "@chain\n",
    "def restaurant_menu_chain(user_input: str, config: RunnableConfig):\n",
    "    input_ = {\"user_input\": user_input}\n",
    "    ai_msg = llm_chain.invoke(input_, config=config)\n",
    "\n",
    "    tool_msgs = []\n",
    "    for tool_call in ai_msg.tool_calls:\n",
    "        print(f\"{tool_call['name']}: \\n{tool_call}\")\n",
    "        print(\"-\"*100)\n",
    "\n",
    "        if tool_call[\"name\"] == \"search_web\":\n",
    "            tool_message = search_web.invoke(tool_call, config=config)\n",
    "            tool_msgs.append(tool_message)\n",
    "\n",
    "        elif tool_call[\"name\"] == \"wiki_summary\":\n",
    "            tool_message = wiki_summary.invoke(tool_call, config=config)\n",
    "            tool_msgs.append(tool_message)\n",
    "\n",
    "        elif tool_call[\"name\"] == \"search_wine\":\n",
    "            tool_message = search_wine.invoke(tool_call, config=config)\n",
    "            tool_msgs.append(tool_message)\n",
    "\n",
    "        elif tool_call[\"name\"] == \"search_menu\":\n",
    "            tool_message = search_menu.invoke(tool_call, config=config)\n",
    "            tool_msgs.append(tool_message)            \n",
    "\n",
    "    print(\"tool_msgs: \\n\", tool_msgs)\n",
    "    print(\"-\"*100)\n",
    "    return fewshot_search_chain.invoke({**input_, \"messages\": [ai_msg, *tool_msgs]}, config=config)\n",
    "\n",
    "\n",
    "# 체인 실행\n",
    "query = \"스테이크 메뉴가 있나요? 스테이크와 어울리는 와인을 추천해주세요.\"\n",
    "response = restaurant_menu_chain.invoke(query)\n",
    "\n",
    "# 응답 출력 \n",
    "pprint(response.content)"
   ]
  },
  {
   "cell_type": "code",
   "execution_count": null,
   "id": "d60b9ebc",
   "metadata": {},
   "outputs": [
    {
     "name": "stdout",
     "output_type": "stream",
     "text": [
      "wiki_summary: \n",
      "{'name': 'wiki_summary', 'args': {'query': '파스타의 유래'}, 'id': 'call_EpWf4WupSPb49cJqaGe2RoVC', 'type': 'tool_call'}\n",
      "----------------------------------------------------------------------------------------------------\n",
      "search_menu: \n",
      "{'name': 'search_menu', 'args': {'query': '서울 강남 파스타 맛집'}, 'id': 'call_MwRoZiVsRQUKjrZEiFP9F4ml', 'type': 'tool_call'}\n",
      "----------------------------------------------------------------------------------------------------\n",
      "tool_msgs: \n",
      " [ToolMessage(content=\"피치(pici)는 이탈리아 토스카나주에서 유래한 손으로 만든 굵은 파스타로, 밀가루와 물로 반죽하여 길게 만들어진다. 카르보나라(carbonara)는 로마의 파스타 요리로, 계란 노른자, 경성 치즈, 염장 돼지고기, 후추를 사용하여 만든다. 이 요리는 20세기 중반에 현재의 형태로 확립되었으며, 주로 스파게티와 함께 제공된다. 카르보나라의 명칭은 '숯쟁이'에서 유래했으며, 다양한 조리법과 재료가 존재한다.\", name='wiki_summary', tool_call_id='call_EpWf4WupSPb49cJqaGe2RoVC'), ToolMessage(content=\"[Document(metadata={'menu_name': '해산물 파스타', 'menu_number': 6, 'source': './data/restaurant_menu.txt'}, page_content='6. 해산물 파스타\\\\n   • 가격: ₩24,000\\\\n   • 주요 식재료: 링귀네 파스타, 새우, 홍합, 오징어, 토마토 소스\\\\n   • 설명: 알 덴테로 삶은 링귀네 파스타에 신선한 해산물을 듬뿍 올린 메뉴입니다. 토마토 소스의 산미와 해산물의 감칠맛이 조화를 이루며, 마늘과 올리브 오일로 풍미를 더했습니다. 파슬리를 뿌려 향긋한 맛을 더합니다.'), Document(metadata={'menu_name': '랍스터 비스크', 'menu_number': 7, 'source': './data/restaurant_menu.txt'}, page_content='7. 랍스터 비스크\\\\n   • 가격: ₩28,000\\\\n   • 주요 식재료: 랍스터, 생크림, 브랜디, 파프리카\\\\n   • 설명: 랍스터 껍질과 육수로 오랜 시간 우려낸 진한 비스크 수프입니다. 생크림으로 부드러운 질감을 더하고 브랜디로 깊은 풍미를 살렸습니다. 작은 랍스터 살을 토핑으로 올려 고급스러움을 더했습니다.')]\", name='search_menu', tool_call_id='call_MwRoZiVsRQUKjrZEiFP9F4ml')]\n",
      "----------------------------------------------------------------------------------------------------\n",
      "('### 파스타의 유래\\n'\n",
      " '파스타는 이탈리아 요리의 주요 구성 요소로, 여러 종류의 밀가루와 물을 혼합하여 만든 반죽으로 만들어집니다. 그 기원은 고대 그리스와 '\n",
      " '로마 시대로 거슬러 올라가며, 당시에는 밀가루와 물로 만든 반죽을 조리하여 다양한 형태로 제공했습니다. 현대의 파스타는 19세기 '\n",
      " '이탈리아에서 크게 발전하였으며, 특히 나폴리와 토스카나 지역에서 매우 인기 있는 음식으로 자리 잡았습니다. \\n'\n",
      " '\\n'\n",
      " '파스타는 다양한 형태와 종류가 있으며, 일반적으로 소스와 함께 제공됩니다. 이탈리아 전역에서 각 지역마다 특징적인 파스타 요리가 '\n",
      " '존재하며, 그 중에는 스파게티, 라자냐, 펜네 등이 있습니다.\\n'\n",
      " '\\n'\n",
      " '### 서울 강남의 파스타 맛집 추천\\n'\n",
      " '강남에서 맛있는 파스타를 즐길 수 있는 몇 곳을 추천드립니다:\\n'\n",
      " '\\n'\n",
      " '1. **해산물 파스타**\\n'\n",
      " '   - **가격:** ₩24,000\\n'\n",
      " '   - **주요 재료:** 링귀니, 새우, 홍합, 오징어\\n'\n",
      " '   - **특징:** 신선한 해산물과 함께 조리된 파스타로, 해산물의 풍미가 가득합니다.\\n'\n",
      " '\\n'\n",
      " '2. **트러플 리조또**\\n'\n",
      " '   - **가격:** ₩28,000\\n'\n",
      " '   - **주요 재료:** 카나롤리 쌀, 블랙 트러플, 파르메산 치즈\\n'\n",
      " '   - **특징:** 크리미한 질감과 트러플의 독특한 향이 조화를 이루는 고급스러운 요리입니다.\\n'\n",
      " '\\n'\n",
      " '이 외에도 강남에는 다양한 이탈리안 레스토랑이 있으니, 방문하시면 더 많은 선택지를 발견하실 수 있을 것입니다.')\n"
     ]
    }
   ],
   "source": [
    "# 체인 실행\n",
    "query = \"파스타의 유래에 대해서 알고 있나요? 서울 강남의 파스타 맛집을 추천해주세요.\"\n",
    "response = restaurant_menu_chain.invoke(query)\n",
    "\n",
    "# 응답 출력 \n",
    "pprint(response.content)"
   ]
  },
  {
   "cell_type": "markdown",
   "id": "11927ed4",
   "metadata": {},
   "source": [
    "## 4. LangChain Agent 사용\n",
    "- 유의사항: 프롬프트에 \"agent_scratchpad\",  \"input\" 변수를 포함"
   ]
  },
  {
   "cell_type": "code",
   "execution_count": null,
   "id": "7127af7a",
   "metadata": {},
   "outputs": [],
   "source": [
    "from langchain_core.prompts import ChatPromptTemplate, MessagesPlaceholder\n",
    "\n",
    "agent_prompt = ChatPromptTemplate.from_messages([\n",
    "    (\"system\", dedent(\"\"\"\n",
    "        You are an AI assistant providing restaurant menu information and general food-related knowledge. \n",
    "        Your main goal is to provide accurate information and effective recommendations to users.\n",
    "\n",
    "        Key guidelines:\n",
    "        1. For restaurant menu information, use the search_menu tool. This tool provides details on menu items, including prices, ingredients, and cooking methods.\n",
    "        2. For general food information, history, and cultural background, utilize the wiki_summary tool.\n",
    "        3. For wine recommendations or food and wine pairing information, use the search_wine tool.\n",
    "        4. If additional web searches are needed or for the most up-to-date information, use the search_web tool.\n",
    "        5. Provide clear and concise responses based on the search results.\n",
    "        6. If a question is ambiguous or lacks necessary information, politely ask for clarification.\n",
    "        7. Always maintain a helpful and professional tone.\n",
    "        8. When providing menu information, describe in the order of price, main ingredients, and distinctive cooking methods.\n",
    "        9. When making recommendations, briefly explain the reasons.\n",
    "        10. Maintain a conversational, chatbot-like style in your final responses. Be friendly, engaging, and natural in your communication.\n",
    "\n",
    "\n",
    "        Remember, understand the purpose of each tool accurately and use them in appropriate situations. \n",
    "        Combine the tools to provide the most comprehensive and accurate answers to user queries. \n",
    "        Always strive to provide the most current and accurate information.\n",
    "        \"\"\")),\n",
    "    MessagesPlaceholder(variable_name=\"chat_history\", optional=True),\n",
    "    (\"human\", \"{input}\"),\n",
    "    MessagesPlaceholder(variable_name=\"agent_scratchpad\"),\n",
    "])"
   ]
  },
  {
   "cell_type": "code",
   "execution_count": null,
   "id": "b3dad12e",
   "metadata": {},
   "outputs": [],
   "source": [
    "# Tool calling Agent 생성\n",
    "from langchain.agents import AgentExecutor, create_tool_calling_agent\n",
    "\n",
    "tools = [search_web, wiki_summary, search_wine, search_menu]\n",
    "agent = create_tool_calling_agent(llm, tools, agent_prompt)\n",
    "\n",
    "# AgentExecutor 생성 \n",
    "agent_executor = AgentExecutor(agent=agent, tools=tools, verbose=True)"
   ]
  },
  {
   "cell_type": "code",
   "execution_count": null,
   "id": "6cd37cf1",
   "metadata": {},
   "outputs": [
    {
     "name": "stdout",
     "output_type": "stream",
     "text": [
      "\n",
      "\n",
      "\u001b[1m> Entering new AgentExecutor chain...\u001b[0m\n",
      "\u001b[32;1m\u001b[1;3m\n",
      "Invoking: `search_menu` with `{'query': '시그니처 스테이크'}`\n",
      "\n",
      "\n",
      "\u001b[0m\u001b[36;1m\u001b[1;3m[Document(metadata={'menu_name': '시그니처 스테이크', 'menu_number': 1, 'source': './data/restaurant_menu.txt'}, page_content='1. 시그니처 스테이크\\n   • 가격: ₩35,000\\n   • 주요 식재료: 최상급 한우 등심, 로즈메리 감자, 그릴드 아스파라거스\\n   • 설명: 셰프의 특제 시그니처 메뉴로, 21일간 건조 숙성한 최상급 한우 등심을 사용합니다. 미디엄 레어로 조리하여 육즙을 최대한 보존하며, 로즈메리 향의 감자와 아삭한 그릴드 아스파라거스가 곁들여집니다. 레드와인 소스와 함께 제공되어 풍부한 맛을 더합니다.'), Document(metadata={'menu_name': '안심 스테이크 샐러드', 'menu_number': 8, 'source': './data/restaurant_menu.txt'}, page_content='8. 안심 스테이크 샐러드\\n   • 가격: ₩26,000\\n   • 주요 식재료: 소고기 안심, 루꼴라, 체리 토마토, 발사믹 글레이즈\\n   • 설명: 부드러운 안심 스테이크를 얇게 슬라이스하여 신선한 루꼴라 위에 올린 메인 요리 샐러드입니다. 체리 토마토와 파마산 치즈 플레이크로 풍미를 더하고, 발사믹 글레이즈로 마무리하여 고기의 풍미를 한층 끌어올렸습니다.')]\u001b[0m\u001b[32;1m\u001b[1;3m\n",
      "Invoking: `search_wine` with `{'query': '스테이크'}`\n",
      "\n",
      "\n",
      "\u001b[0m\u001b[38;5;200m\u001b[1;3m[Document(metadata={'menu_name': '그랜지 2016', 'menu_number': 10, 'source': './data/restaurant_wine.txt'}, page_content='10. 그랜지 2016\\n    • 가격: ₩950,000\\n    • 주요 품종: 시라\\n    • 설명: 호주의 대표적인 아이콘 와인입니다. 블랙베리, 자두, 블랙 올리브의 강렬한 과실향과 함께 유칼립투스, 초콜릿, 가죽의 복잡한 향이 어우러집니다. 풀바디이며 강렬한 타닌과 산도가 특징적입니다. 놀라운 집중도와 깊이, 긴 여운을 자랑하며, 수십 년의 숙성 잠재력을 가집니다.'), Document(metadata={'menu_name': '사시카이아 2018', 'menu_number': 3, 'source': './data/restaurant_wine.txt'}, page_content='3. 사시카이아 2018\\n   • 가격: ₩420,000\\n   • 주요 품종: 카베르네 소비뇽, 카베르네 프랑, 메를로\\n   • 설명: 이탈리아 토스카나의 슈퍼 투스칸 와인입니다. 블랙베리, 카시스의 강렬한 과실향과 함께 허브, 가죽, 스파이스 노트가 복잡성을 더합니다. 풀바디이지만 우아한 타닌과 신선한 산도가 균형을 잡아줍니다. 오크 숙성으로 인한 바닐라, 초콜릿 향이 은은하게 느껴집니다.')]\u001b[0m\u001b[32;1m\u001b[1;3m**시그니처 스테이크 정보**:\n",
      "- **가격**: ₩35,000\n",
      "- **주요 재료**: 쇠고기 등심, 로즈마리, 흑후추\n",
      "- **조리 방법**: 생소금에 21일간 숙성된 최상급 쇠고기를 사용하여 미디엄 레어로 조리합니다. 고소한 맛의 로즈마리와 향긋한 흑후추를 곁들여 풍미를 더했습니다.\n",
      "\n",
      "**스테이크와 어울리는 와인 추천**:\n",
      "1. **그란지 2016**\n",
      "   - **가격**: ₩950,000\n",
      "   - **특징**: 호주산으로 강렬한 과일 맛과 탄닌이 잘 어우러진 와인입니다. 스테이크의 풍미를 보완하며, 깊은 맛을 제공합니다.\n",
      "\n",
      "2. **사스까이 2018**\n",
      "   - **가격**: ₩420,000\n",
      "   - **특징**: 카베르네 소비뇽과 멜롯의 조화로 부드러운 맛과 풍부한 과일향이 특징입니다. 스테이크와의 조화가 훌륭하여 고기의 맛을 더욱 돋보이게 합니다.\n",
      "\n",
      "이 두 와인은 시그니처 스테이크와 잘 어울리며, 각각의 풍미가 스테이크의 맛을 더욱 강조해 줄 것입니다. 즐거운 식사 되세요! 🍷🥩\u001b[0m\n",
      "\n",
      "\u001b[1m> Finished chain.\u001b[0m\n"
     ]
    }
   ],
   "source": [
    "# AgentExecutor 실행\n",
    "\n",
    "query = \"시그니처 스테이크의 가격과 특징은 무엇인가요? 그리고 스테이크와 어울리는 와인 추천도 해주세요.\"\n",
    "agent_response = agent_executor.invoke({\"input\": query})"
   ]
  },
  {
   "cell_type": "code",
   "execution_count": null,
   "id": "bdef9044",
   "metadata": {},
   "outputs": [
    {
     "name": "stdout",
     "output_type": "stream",
     "text": [
      "{'input': '시그니처 스테이크의 가격과 특징은 무엇인가요? 그리고 스테이크와 어울리는 와인 추천도 해주세요.',\n",
      " 'output': '**시그니처 스테이크 정보**:\\n'\n",
      "           '- **가격**: ₩35,000\\n'\n",
      "           '- **주요 재료**: 쇠고기 등심, 로즈마리, 흑후추\\n'\n",
      "           '- **조리 방법**: 생소금에 21일간 숙성된 최상급 쇠고기를 사용하여 미디엄 레어로 조리합니다. 고소한 맛의 '\n",
      "           '로즈마리와 향긋한 흑후추를 곁들여 풍미를 더했습니다.\\n'\n",
      "           '\\n'\n",
      "           '**스테이크와 어울리는 와인 추천**:\\n'\n",
      "           '1. **그란지 2016**\\n'\n",
      "           '   - **가격**: ₩950,000\\n'\n",
      "           '   - **특징**: 호주산으로 강렬한 과일 맛과 탄닌이 잘 어우러진 와인입니다. 스테이크의 풍미를 보완하며, 깊은 '\n",
      "           '맛을 제공합니다.\\n'\n",
      "           '\\n'\n",
      "           '2. **사스까이 2018**\\n'\n",
      "           '   - **가격**: ₩420,000\\n'\n",
      "           '   - **특징**: 카베르네 소비뇽과 멜롯의 조화로 부드러운 맛과 풍부한 과일향이 특징입니다. 스테이크와의 조화가 '\n",
      "           '훌륭하여 고기의 맛을 더욱 돋보이게 합니다.\\n'\n",
      "           '\\n'\n",
      "           '이 두 와인은 시그니처 스테이크와 잘 어울리며, 각각의 풍미가 스테이크의 맛을 더욱 강조해 줄 것입니다. 즐거운 식사 '\n",
      "           '되세요! 🍷🥩'}\n"
     ]
    }
   ],
   "source": [
    "pprint(agent_response)"
   ]
  },
  {
   "cell_type": "markdown",
   "id": "eb411fca",
   "metadata": {},
   "source": [
    "## 5. Gradio 활용"
   ]
  },
  {
   "cell_type": "code",
   "execution_count": null,
   "id": "56abbad7",
   "metadata": {},
   "outputs": [
    {
     "name": "stdout",
     "output_type": "stream",
     "text": [
      "Running on local URL:  http://127.0.0.1:7860\n",
      "\n",
      "To create a public link, set `share=True` in `launch()`.\n"
     ]
    },
    {
     "data": {
      "text/html": [
       "<div><iframe src=\"http://127.0.0.1:7860/\" width=\"100%\" height=\"500\" allow=\"autoplay; camera; microphone; clipboard-read; clipboard-write;\" frameborder=\"0\" allowfullscreen></iframe></div>"
      ],
      "text/plain": [
       "<IPython.core.display.HTML object>"
      ]
     },
     "metadata": {},
     "output_type": "display_data"
    },
    {
     "data": {
      "text/plain": []
     },
     "execution_count": 54,
     "metadata": {},
     "output_type": "execute_result"
    },
    {
     "name": "stdout",
     "output_type": "stream",
     "text": [
      "\n",
      "\n",
      "\u001b[1m> Entering new AgentExecutor chain...\u001b[0m\n",
      "\u001b[32;1m\u001b[1;3m\n",
      "Invoking: `search_menu` with `{'query': '시그니처 스테이크'}`\n",
      "\n",
      "\n",
      "\u001b[0m\u001b[36;1m\u001b[1;3m[Document(metadata={'menu_name': '시그니처 스테이크', 'menu_number': 1, 'source': './data/restaurant_menu.txt'}, page_content='1. 시그니처 스테이크\\n   • 가격: ₩35,000\\n   • 주요 식재료: 최상급 한우 등심, 로즈메리 감자, 그릴드 아스파라거스\\n   • 설명: 셰프의 특제 시그니처 메뉴로, 21일간 건조 숙성한 최상급 한우 등심을 사용합니다. 미디엄 레어로 조리하여 육즙을 최대한 보존하며, 로즈메리 향의 감자와 아삭한 그릴드 아스파라거스가 곁들여집니다. 레드와인 소스와 함께 제공되어 풍부한 맛을 더합니다.'), Document(metadata={'menu_name': '안심 스테이크 샐러드', 'menu_number': 8, 'source': './data/restaurant_menu.txt'}, page_content='8. 안심 스테이크 샐러드\\n   • 가격: ₩26,000\\n   • 주요 식재료: 소고기 안심, 루꼴라, 체리 토마토, 발사믹 글레이즈\\n   • 설명: 부드러운 안심 스테이크를 얇게 슬라이스하여 신선한 루꼴라 위에 올린 메인 요리 샐러드입니다. 체리 토마토와 파마산 치즈 플레이크로 풍미를 더하고, 발사믹 글레이즈로 마무리하여 고기의 풍미를 한층 끌어올렸습니다.')]\u001b[0m\u001b[32;1m\u001b[1;3m시그니처 스테이크에 대한 정보는 다음과 같습니다:\n",
      "\n",
      "- **가격**: ₩35,000\n",
      "- **주요 식재료**: 최상급 한우 등심, 로즈메리 감자, 그릴드 아스파라거스\n",
      "- **설명**: 이 스테이크는 셰프의 특제 시그니처 메뉴로, 21일간 건조 숙성한 최상급 한우 등심을 사용합니다. 미디엄 레어로 조리하여 육즙을 최대한 보존하며, 로즈메리 향의 감자와 아삭한 그릴드 아스파라거스가 곁들여집니다. 레드와인 소스와 함께 제공되어 풍부한 맛을 더합니다.\n",
      "\n",
      "특히, 숙성된 한우의 깊은 맛과 함께 제공되는 사이드 메뉴들이 조화를 이루어 훌륭한 식사를 제공합니다.\u001b[0m\n",
      "\n",
      "\u001b[1m> Finished chain.\u001b[0m\n",
      "\n",
      "\n",
      "\u001b[1m> Entering new AgentExecutor chain...\u001b[0m\n",
      "\u001b[32;1m\u001b[1;3m\n",
      "Invoking: `search_menu` with `{'query': '해산물 파스타'}`\n",
      "\n",
      "\n",
      "\u001b[0m\u001b[36;1m\u001b[1;3m[Document(metadata={'menu_name': '해산물 파스타', 'menu_number': 6, 'source': './data/restaurant_menu.txt'}, page_content='6. 해산물 파스타\\n   • 가격: ₩24,000\\n   • 주요 식재료: 링귀네 파스타, 새우, 홍합, 오징어, 토마토 소스\\n   • 설명: 알 덴테로 삶은 링귀네 파스타에 신선한 해산물을 듬뿍 올린 메뉴입니다. 토마토 소스의 산미와 해산물의 감칠맛이 조화를 이루며, 마늘과 올리브 오일로 풍미를 더했습니다. 파슬리를 뿌려 향긋한 맛을 더합니다.'), Document(metadata={'menu_name': '티라미수', 'menu_number': 10, 'source': './data/restaurant_menu.txt'}, page_content='10. 티라미수\\n    • 가격: ₩9,000\\n    • 주요 식재료: 마스카포네 치즈, 에스프레소, 카카오 파우더, 레이디핑거 비스킷\\n    • 설명: 부드러운 마스카포네 치즈 크림과 에스프레소에 적신 레이디핑거 비스킷을 층층이 쌓아 만든 이탈리아 정통 디저트입니다. 고소한 카카오 파우더를 듬뿍 뿌려 풍미를 더했습니다. 커피의 쌉싸름함과 치즈의 부드러움이 조화롭게 어우러집니다.')]\u001b[0m\u001b[32;1m\u001b[1;3m\n",
      "Invoking: `search_web` with `{'query': '서울 강남 해산물 파스타 레스토랑 추천'}`\n",
      "\n",
      "\n",
      "\u001b[0m\u001b[36;1m\u001b[1;3m<Document href=\"https://www.diningcode.com/list.dc?query=서울+파스타\"/>\n",
      "'서울 파스타' 맛집 리틀넥 (브런치 ★4.4), 핏제리아오 (피자 ★4.1), 스미스가좋아하는한옥 ( 파스타 ★4.3) 등 5,554곳의 전체 순위,식당정보,방문자리뷰,사진 등을 확인하세요. ... 바비레드 강남 ... 또 가고 싶은 곳으로 픽 간단한 저녁식사로 파스타 추천~..맛대비 ...\n",
      "</Document>\n",
      "---\n",
      "<Document href=\"https://m.blog.naver.com/chloehm/223578280953\"/>\n",
      "9. 9. 21:04. 이웃추가. 위치 더미뇽 서울. 존재하지 않는 스티커입니다. 생긴지 얼마 안된 강남 신상 레스토랑 #더미뇽서울 에 다녀왔어요. 넘 예쁜 인테리어와 맛있는 파스타가 좋았던 곳이라 데이트나 브런치모임에 추천하고픈 곳이에요. 시작할게요! #내돈내산리뷰.\n",
      "</Document>\u001b[0m\u001b[32;1m\u001b[1;3m해산물 파스타의 주요 재료는 다음과 같습니다:\n",
      "\n",
      "- **가격**: ₩24,000\n",
      "- **주요 식재료**: 링귀니 파스타, 새우, 홍합, 오징어, 토마토 소스\n",
      "- **설명**: 신선한 해산물을 사용하여 만든 해산물 파스타는 해산물의 풍미가 가득한 토마토 소스에 링귀니 파스타를 버무려 제공합니다. 각종 해산물의 다양한 맛과 식감을 느낄 수 있는 메뉴입니다.\n",
      "\n",
      "서울 강남 지역에서 해산물 파스타를 맛볼 수 있는 추천 레스토랑은 다음과 같습니다:\n",
      "\n",
      "1. **서래파스타** - 분위기 좋은 이탈리안 레스토랑으로 해산물 파스타가 인기입니다. (평점: 4.4)\n",
      "2. **프레지오** - 신선한 재료를 사용한 다양한 파스타 메뉴를 제공합니다. (평점: 4.1)\n",
      "3. **스미스가든** - 해산물 파스타 외에도 다양한 메뉴로 유명합니다. (평점: 4.3)\n",
      "\n",
      "이 중에서 원하는 분위기나 위치에 따라 선택해 보세요!\u001b[0m\n",
      "\n",
      "\u001b[1m> Finished chain.\u001b[0m\n",
      "\n",
      "\n",
      "\u001b[1m> Entering new AgentExecutor chain...\u001b[0m\n",
      "\u001b[32;1m\u001b[1;3m\n",
      "Invoking: `search_menu` with `{'query': '서래파스타'}`\n",
      "\n",
      "\n",
      "\u001b[0m\u001b[36;1m\u001b[1;3m[Document(metadata={'menu_name': '해산물 파스타', 'menu_number': 6, 'source': './data/restaurant_menu.txt'}, page_content='6. 해산물 파스타\\n   • 가격: ₩24,000\\n   • 주요 식재료: 링귀네 파스타, 새우, 홍합, 오징어, 토마토 소스\\n   • 설명: 알 덴테로 삶은 링귀네 파스타에 신선한 해산물을 듬뿍 올린 메뉴입니다. 토마토 소스의 산미와 해산물의 감칠맛이 조화를 이루며, 마늘과 올리브 오일로 풍미를 더했습니다. 파슬리를 뿌려 향긋한 맛을 더합니다.'), Document(metadata={'menu_name': '랍스터 비스크', 'menu_number': 7, 'source': './data/restaurant_menu.txt'}, page_content='7. 랍스터 비스크\\n   • 가격: ₩28,000\\n   • 주요 식재료: 랍스터, 생크림, 브랜디, 파프리카\\n   • 설명: 랍스터 껍질과 육수로 오랜 시간 우려낸 진한 비스크 수프입니다. 생크림으로 부드러운 질감을 더하고 브랜디로 깊은 풍미를 살렸습니다. 작은 랍스터 살을 토핑으로 올려 고급스러움을 더했습니다.')]\u001b[0m\u001b[32;1m\u001b[1;3m\n",
      "Invoking: `search_web` with `{'query': '서래파스타 평점'}`\n",
      "\n",
      "\n",
      "\u001b[0m\u001b[36;1m\u001b[1;3m<Document href=\"https://blog.naver.com/PostView.naver?blogId=damm_i&logNo=223423354336\"/>\n",
      "정말 좋은 맛집이라고 한다! 과연 얼마나 맛있을지!! 서래마을 파스타 맛집 \"비스트로누\". 렛츠 기릿. 비스트로누. 📍위치 : 서울 서초구 사평대로26길 26-6 3층. ⏱️ 영업시간 : 월-목 11:00 ~ 21:50. (브레이크 타임 14:50 ~ 17:00, 라스트 오더 20:20)\n",
      "</Document>\n",
      "---\n",
      "<Document href=\"https://m.blog.naver.com/cowberry96/223606648309\"/>\n",
      "서래마을 이탈리안 레스토랑 르지우에 방문했습니다. 서래마을 대표 레스토랑으로 꼽히는 곳인데. 생면 파스타 맛집이라고 자자 하더라구요. 넘 만족스러웠던 저녁식사였어서. 리뷰해보겠습니다~!\n",
      "</Document>\u001b[0m\u001b[32;1m\u001b[1;3m\n",
      "Invoking: `search_web` with `{'query': '서래파스타 리뷰 평점'}`\n",
      "\n",
      "\n",
      "\u001b[0m\u001b[36;1m\u001b[1;3m<Document href=\"https://www.diningcode.com/list.dc?query=서래마을+파스타\"/>\n",
      "'서래마을 파스타' 맛집 비스트로 누 ( 파스타 ★4.4), 도우룸 (파스타 ★4.4), 밴건디 스테이크하우스 (스테이크 ★4.5) 등 29곳의 전체 순위,식당정보,방문자리뷰,사진 등을 확인하세요.\n",
      "</Document>\n",
      "---\n",
      "<Document href=\"https://blog.naver.com/PostView.naver?blogId=if_i_saw_u&logNo=223557646542&noTrackingCode=true\"/>\n",
      "서래마을 이탈리안 레스토랑, 서래마을 파스타 맛집인 포폴라리타의 트러플 풍기 피자 입니다. 워낙 화덕피자로 유명해서 기대가 되더라구요 화덕에 구운 도우 위에 진한 트러플 향이 가득한 소스와 신선한 버섯이 어우러져, 한 입 베어 물면 트러플의 깊은 ...\n",
      "</Document>\u001b[0m\u001b[32;1m\u001b[1;3m서래파스타의 평점은 약 **4.4**점으로 평가되고 있습니다. 다양한 리뷰에서 맛과 분위기가 좋다는 의견이 많으니 방문해 보시면 좋을 것 같아요!\u001b[0m\n",
      "\n",
      "\u001b[1m> Finished chain.\u001b[0m\n"
     ]
    }
   ],
   "source": [
    "import gradio as gr\n",
    "from typing import List, Tuple\n",
    "\n",
    "def answer_invoke(message: str, history: List[Tuple[str, str]]) -> str:\n",
    "    try:\n",
    "        # 채팅 기록을 AI에게 전달할 수 있는 형식으로 변환\n",
    "        chat_history = []\n",
    "        for human, ai in history:\n",
    "            chat_history.append(HumanMessage(content=human))\n",
    "            chat_history.append(AIMessage(content=ai))\n",
    "        \n",
    "        # agent_executor를 사용하여 응답 생성\n",
    "        response = agent_executor.invoke({\n",
    "            \"input\": message,\n",
    "            \"chat_history\": chat_history[-2:]    # 최근 2개의 메시지 기록만을 활용 \n",
    "        })\n",
    "        \n",
    "        # agent_executor의 응답에서 최종 답변 추출\n",
    "        return response['output']\n",
    "    except Exception as e:\n",
    "        # 오류 발생 시 사용자에게 알리고 로그 기록\n",
    "        print(f\"Error occurred: {str(e)}\")\n",
    "        return \"죄송합니다. 응답을 생성하는 동안 오류가 발생했습니다. 다시 시도해 주세요.\"\n",
    "\n",
    "# 예제 질문 정의\n",
    "example_questions = [\n",
    "    \"시그니처 스테이크의 가격과 특징을 알려주세요.\",\n",
    "    \"트러플 리조또와 잘 어울리는 와인을 추천해주세요.\",\n",
    "    \"해산물 파스타의 주요 재료는 무엇인가요? 서울 강남 지역에 레스토랑을 추천해주세요.\",\n",
    "    \"채식주의자를 위한 메뉴 옵션이 있나요?\"\n",
    "]\n",
    "\n",
    "# Gradio 인터페이스 생성\n",
    "demo = gr.ChatInterface(\n",
    "    fn=answer_invoke,\n",
    "    title=\"레스토랑 메뉴 AI 어시스턴트\",\n",
    "    description=\"메뉴 정보, 추천, 음식 관련 질문에 답변해 드립니다.\",\n",
    "    examples=example_questions,\n",
    "    theme=gr.themes.Soft()\n",
    ")\n",
    "\n",
    "# 데모 실행\n",
    "demo.launch()"
   ]
  },
  {
   "cell_type": "code",
   "execution_count": null,
   "id": "1bd26485",
   "metadata": {},
   "outputs": [
    {
     "name": "stdout",
     "output_type": "stream",
     "text": [
      "Closing server running on port: 7860\n"
     ]
    }
   ],
   "source": [
    "# 데모 종료\n",
    "demo.close()"
   ]
  },
  {
   "cell_type": "code",
   "execution_count": null,
   "id": "9fb837bc",
   "metadata": {},
   "outputs": [],
   "source": []
  }
 ],
 "metadata": {
  "kernelspec": {
   "display_name": "langgraph_agent",
   "language": "python",
   "name": "python3"
  },
  "language_info": {
   "codemirror_mode": {
    "name": "ipython",
    "version": 3
   },
   "file_extension": ".py",
   "mimetype": "text/x-python",
   "name": "python",
   "nbconvert_exporter": "python",
   "pygments_lexer": "ipython3",
   "version": "3.11.11"
  }
 },
 "nbformat": 4,
 "nbformat_minor": 5
}
